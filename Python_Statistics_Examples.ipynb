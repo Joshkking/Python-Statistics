{
  "nbformat": 4,
  "nbformat_minor": 0,
  "metadata": {
    "colab": {
      "name": "Python Statistics Examples.ipynb",
      "provenance": [],
      "collapsed_sections": []
    },
    "kernelspec": {
      "name": "python3",
      "display_name": "Python 3"
    }
  },
  "cells": [
    {
      "cell_type": "markdown",
      "metadata": {
        "id": "H7XXzVm_A-nt",
        "colab_type": "text"
      },
      "source": [
        "# Contents\n",
        "\n",
        "* [Setting Up the Notebook](#setup)\n",
        " * [Library Imports](#library)\n",
        " * [Creating Example Data](#data_creation)\n",
        "* [Distributions and Probabilities](#distributions_and_probabilities)\n",
        " * [Distributions and Probabilties Code References](#distribution_code)\n",
        " * [Normal Distribution Examples](#normal_examples)\n",
        "* [A Note on CLT](#CLT_note)\n",
        "* [Parametric Tests](#parametric)\n",
        " * [Z & General Methodology](#z)\n",
        "   * [Z-score](#zscore)\n",
        "   * [One Sample](#z_one_samp)\n",
        "   * [Two Sampls by p-value](#z_two_samp_p)\n",
        "   * [Two Samples by Critical Value](#z_two_samp_crit)\n",
        " * [T-test](#t)\n",
        "   * [T-statistic](#tstat)\n",
        "   * [One Sample Test](#t_one_samp_ttest)\n",
        "   * [One Sample Confidence Interval](#t_one_samp_confint)\n",
        "   * [Two Paired Samples](#t_two_dep_samples)\n",
        "   * [Two Independent Samples](#t_two_ind_samples)\n",
        "   * [Welch's T-test (Independent Samples, Unequal Variance)](#welch)\n",
        " * [ANOVA (and a note on family-wise error)](#ANOVA)\n",
        "   * [Conceptual Background and F-statistic](#ANOVA)\n",
        "   * [One-Way ANOVA](#one_way_anova)\n",
        "   * [n-Way ANOVA and ANCOVA](#n_anova_ancova)\n",
        "   * [MANOVA](#MANOVA)\n",
        "* [Nonparametric Tests](#nonparametric)\n",
        " * [Normality Testing](#normality_testing)\n",
        "   * [Skewness](#skewness)\n",
        "   * [Kurtosis](#kurtosis)\n",
        "   * [Statistical Tests of Normality](#statistical_tests_normality)\n",
        "   * [Graphical Tests of Normality](#graphical_tests_normality)\n",
        " * [Resampling](#resampling)\n",
        "   * [Bootstrapping (With Replacement)](#bootstrapping)\n",
        "     * [Bootstrap Confidence Intervals](#bootstrap_confidence_intervals)\n",
        "     * [Bootstrap Hypothesis Testing/P-Values](#bootstrap_hypothesis_test)\n",
        "   * [Permutations (Without Replacement)](#permutation_resampling)\n",
        "  * [Wilcoxon Rank Sum (Mann-Whitney-U)](#MWW)\n",
        "  * [Wilcoxon Signed Rank](#wilcoxon_signed_rank)\n",
        "  * [Kruskal-Wallis](#kruskal_wallis)\n",
        "* [Categorical Analysis](#Categorical)\n",
        " * [Fisher's Exact Test](#fishers)\n",
        " * [Chi-Square \"Goodness of Fit\" Test](#chi_square_fit)\n",
        " * [Chi-Square Independence/Homogeneity Test](#chi_square_multvar)\n",
        " * [Risks and Odds Ratios](#risk_odds_ratios)\n",
        "* [Principal Component Analysis](#PCA)\n",
        "* [Regression](#regression)\n",
        " * [Data Setup](#regression_setup)\n",
        " * [Python Regression Options](#regression_python)\n",
        " * [Ordinary Linear Regression](#ols)\n",
        " * [Multiple Linear Regression](#multiple_regression)\n",
        " * [Categorical Regression](#categorical_regression)\n",
        " * [Regression Diagnostics](#regression_diagnostics)\n",
        "   * [Linearity Assumption](#regression_linear)\n",
        "   * [Independence Assumption](#regression_independence)\n",
        "   * [Normality Assumption](#regression_normality)\n",
        "   * [Homoscedasticity Assumption](#regression_variance)\n",
        "   * [Collinearity](#regression_multicollinearity)\n",
        "   * [Quality](#regression_quality)\n",
        "   * [Outliers](#regression_outliers)\n",
        "   * [Addressing Issues](#regression_addressing_issues)\n",
        " * [Logistic Regression](#logistic_regression)\n",
        "   * [Logistic Regression Example and Interpretation](#logistic_example)\n",
        "   * [Diagnostics](#logistic_diagnostics)\n",
        "     * [Multiple Variables and Significance](#log_mult_variables)\n",
        "     * [Linearity Assumption / LOESS](#log_linearity_LOESS)\n",
        "     * [Goodness of Fit](#log_goodness_of_fit)\n",
        "     * [Confusion Matrices](#log_confusion_matrices)\n",
        "     * [ROC, AUC, and Cut Points](#log_roc_auc_cut)"
      ]
    },
    {
      "cell_type": "markdown",
      "metadata": {
        "id": "NlpmCKevnmSh",
        "colab_type": "text"
      },
      "source": [
        "# Setting Up the Notebook <a name=\"setup\"></a>"
      ]
    },
    {
      "cell_type": "markdown",
      "metadata": {
        "id": "HCvCFDakn9jQ",
        "colab_type": "text"
      },
      "source": [
        "## Library Imports <a name=\"library\"></a>"
      ]
    },
    {
      "cell_type": "code",
      "metadata": {
        "id": "0lCXmWYh8Lhx",
        "colab_type": "code",
        "colab": {}
      },
      "source": [
        "# Numpy and Pandas imported for typical data analytics work\n",
        "import numpy as np\n",
        "import pandas as pd\n",
        "# Matplotlib and Seaborn imported for data visualization\n",
        "import matplotlib.pyplot as plt\n",
        "# Magic keywords to make matplotlib graphs show correctly in the notebook\n",
        "%matplotlib inline\n",
        "import seaborn as sns\n",
        "# Setting visualization styles to seaborn's generally nicer defaults\n",
        "sns.set()\n",
        "# A handy scaler for standardizing data (will be used later)\n",
        "from sklearn.preprocessing import StandardScaler\n",
        "# The main function used in Principal Component Analysis\n",
        "from sklearn.decomposition import PCA\n",
        "# ROC curve and area under the curve functions useful for classification diagnostics\n",
        "from sklearn.metrics import roc_curve, roc_auc_score\n",
        "# Statistics libraries imported\n",
        "# SciPy is useful for distributions and many statistical tests\n",
        "import scipy.stats as stats\n",
        "# A convenience function imported for use in logistic regression discussion\n",
        "from scipy.special import logit\n",
        "# And statsmodels is handy for regression and some R-like statistical test versions\n",
        "import statsmodels.api as sm\n",
        "# However LOWESS is not in the api module, so we import directly\n",
        "# LOWESS will be used in logistic regression diagnostics\n",
        "from statsmodels.nonparametric.smoothers_lowess import lowess"
      ],
      "execution_count": 0,
      "outputs": []
    },
    {
      "cell_type": "markdown",
      "metadata": {
        "id": "3mXHUDsJnqTC",
        "colab_type": "text"
      },
      "source": [
        "## Creating Example Data <a name=\"data_creation\"></a>\n",
        "\n",
        "### General Scenario\n",
        "\n",
        "Let's create some \"fake\" data to utilize in the below examples. The data created here will be utilized throughout the rest of this notebook unless an example notes otherwise, but in certain cases we may pretend we only have access to or interest in part of the data.\n",
        "\n",
        "In this case, let's say we're interested in the ages of some particular group.\n",
        "\n",
        "We'll create two sets of data (that of the sample, and that of the population), and also two subsets of each (A and B). We're creating two subsets as some stastical tests might be interested in multiple samples.\n",
        "\n",
        "**Remember:  We may not use all (or any) of this data in any one particular example, and we may even pretend it doesn't exist. We're just establishing some reference sets to use at-will later on.**\n",
        "\n",
        "### Methodology\n",
        "\n",
        "Since ages in years are generally viewed as discrete (i.e. 25 years old instead of 25.234 years old), we'll create our dataset accordingly. A quick way to do this is using the [Poisson distribution](https://docs.scipy.org/doc/scipy/reference/generated/scipy.stats.poisson.html). While this is typically used for the number of events occuring during an interval range, it is a discrete distribution and can be handy here.\n",
        "\n",
        "The `scipy.stats` library has a handy function `poisson.rvs()` for this where the `rvs` method lets us generate random variable output based on the preceding distribution.\n",
        "\n",
        "We pick some arbitrary values for the sample (decent-sized sample with relatively lower age set) and population (larger of course, and with a relatively higher age set). We pick the `mu` values for the ages in such that the sample doesn't appear indicative of the population with noticeably lower age values.\n",
        "\n",
        "Remember that we make two subsets for the Sample and Population. We combine those subsets together to create an overally array for each.\n",
        "\n",
        "\n"
      ]
    },
    {
      "cell_type": "code",
      "metadata": {
        "id": "JupZpFtbBkx_",
        "colab_type": "code",
        "colab": {}
      },
      "source": [
        "# Sample data creation\n",
        "# Creating the subsets\n",
        "Sample_Ages_A = stats.poisson(mu=24).rvs(size=50, random_state=69)\n",
        "Sample_Ages_B = stats.poisson(mu=29).rvs(size=20, random_state=69)\n",
        "# And joining them together to create the overall\n",
        "Sample_Ages = np.concatenate((Sample_Ages_A, Sample_Ages_B))\n",
        "\n",
        "# Population data creation\n",
        "# Creating the subsets\n",
        "Population_Ages_A = stats.poisson(mu=25).rvs(size=1000, random_state=69)\n",
        "Population_Ages_B = stats.poisson(mu=37).rvs(size=3500, random_state=69)\n",
        "# And joining them together to create the overall\n",
        "Population_Ages = np.concatenate((Population_Ages_A, Population_Ages_B))"
      ],
      "execution_count": 0,
      "outputs": []
    },
    {
      "cell_type": "markdown",
      "metadata": {
        "id": "sisop4w_RhFG",
        "colab_type": "text"
      },
      "source": [
        "### Visualization"
      ]
    },
    {
      "cell_type": "code",
      "metadata": {
        "id": "EKQ-x43bWnBp",
        "colab_type": "code",
        "outputId": "d0303fab-7b77-4963-b735-3d4d813f5b3e",
        "colab": {
          "base_uri": "https://localhost:8080/",
          "height": 274
        }
      },
      "source": [
        "# Distribution overlay of each of the sample sets\n",
        "sns.distplot(Sample_Ages_A, label=\"Sample Ages A\", hist_kws={\"alpha\":0.2})\n",
        "sns.distplot(Sample_Ages_B, label=\"Sample Ages B\", hist_kws={\"alpha\":0.2})\n",
        "sns.distplot(Sample_Ages, label=\"Sample Ages All\", hist_kws={\"alpha\":0.2})\n",
        "plt.legend()\n",
        "plt.show()"
      ],
      "execution_count": 272,
      "outputs": [
        {
          "output_type": "display_data",
          "data": {
            "image/png": "[encoded data removed]",
            "text/plain": [
              "<Figure size 432x288 with 1 Axes>"
            ]
          },
          "metadata": {
            "tags": []
          }
        }
      ]
    },
    {
      "cell_type": "code",
      "metadata": {
        "id": "VNOKP3hWYQLa",
        "colab_type": "code",
        "outputId": "a9971769-ef51-46b3-c4a1-0a33b6738244",
        "colab": {
          "base_uri": "https://localhost:8080/",
          "height": 274
        }
      },
      "source": [
        "# Distribution overlay of each of the population sets\n",
        "sns.distplot(Population_Ages_A, label=\"Population Ages A\", hist_kws={\"alpha\":0.2})\n",
        "sns.distplot(Population_Ages_B, label=\"Population Ages B\", hist_kws={\"alpha\":0.2})\n",
        "sns.distplot(Population_Ages, label=\"Population Ages All\", hist_kws={\"alpha\":0.2})\n",
        "plt.legend()\n",
        "plt.show()"
      ],
      "execution_count": 273,
      "outputs": [
        {
          "output_type": "display_data",
          "data": {
            "image/png": "[encoded data removed]",
            "text/plain": [
              "<Figure size 432x288 with 1 Axes>"
            ]
          },
          "metadata": {
            "tags": []
          }
        }
      ]
    },
    {
      "cell_type": "markdown",
      "metadata": {
        "id": "ZSjmoPa9Rmw6",
        "colab_type": "text"
      },
      "source": [
        "### Convenience Variables\n",
        "\n",
        "Let's establish some convenience variables that house the means and standard deviations of each data grouping below in case we want to call them later in this notebook.\n",
        "\n",
        "We'll also create a Pandas dataframe of these variables just to have an easy look at the characteristic values of our data here."
      ]
    },
    {
      "cell_type": "code",
      "metadata": {
        "id": "zct69XCUfp0s",
        "colab_type": "code",
        "outputId": "bf1040d2-7e8b-4380-db07-93622f051c4a",
        "colab": {
          "base_uri": "https://localhost:8080/",
          "height": 235
        }
      },
      "source": [
        "# Defining the means\n",
        "\n",
        "Sample_Mean_A = Sample_Ages_A.mean()\n",
        "Sample_Mean_B = Sample_Ages_B.mean()\n",
        "Sample_Mean = Sample_Ages.mean()\n",
        "\n",
        "Population_Mean_A = Population_Ages_A.mean()\n",
        "Population_Mean_B = Population_Ages_B.mean()\n",
        "Population_Mean = Population_Ages.mean()\n",
        "\n",
        "# Defining the standard deviations\n",
        "\n",
        "Sample_Stdv_A = Sample_Ages_A.std()\n",
        "Sample_Stdv_B = Sample_Ages_B.std()\n",
        "Sample_Stdv = Sample_Ages.std()\n",
        "\n",
        "Population_Stdv_A = Population_Ages_A.std()\n",
        "Population_Stdv_B = Population_Ages_B.std()\n",
        "Population_Stdv = Population_Ages.std()\n",
        "\n",
        "# And finally creating a pandas dataframe to make it easy to view all of these variables\n",
        "\n",
        "# First we build a dictionary set to create the dataframe by\n",
        "df_dict = {'Group':[\"Sample Subset A\", \"Sample Subset B\", \"Overall Sample\",\n",
        "                    \"Population Subset A\", \"Population Subset B\", \"Overall Population\"],\n",
        "           'Mean':[Sample_Mean_A, Sample_Mean_B, Sample_Mean,\n",
        "                   Population_Mean_A, Population_Mean_B, Population_Mean],\n",
        "           'Std':[Sample_Stdv_A, Sample_Stdv_B, Sample_Stdv,\n",
        "                  Population_Stdv_A, Population_Stdv_B, Population_Stdv]}\n",
        "\n",
        "# Then convert that to a dataframe and view it\n",
        "df = pd.DataFrame(df_dict)\n",
        "df"
      ],
      "execution_count": 274,
      "outputs": [
        {
          "output_type": "execute_result",
          "data": {
            "text/html": [
              "<div>\n",
              "<style scoped>\n",
              "    .dataframe tbody tr th:only-of-type {\n",
              "        vertical-align: middle;\n",
              "    }\n",
              "\n",
              "    .dataframe tbody tr th {\n",
              "        vertical-align: top;\n",
              "    }\n",
              "\n",
              "    .dataframe thead th {\n",
              "        text-align: right;\n",
              "    }\n",
              "</style>\n",
              "<table border=\"1\" class=\"dataframe\">\n",
              "  <thead>\n",
              "    <tr style=\"text-align: right;\">\n",
              "      <th></th>\n",
              "      <th>Group</th>\n",
              "      <th>Mean</th>\n",
              "      <th>Std</th>\n",
              "    </tr>\n",
              "  </thead>\n",
              "  <tbody>\n",
              "    <tr>\n",
              "      <th>0</th>\n",
              "      <td>Sample Subset A</td>\n",
              "      <td>22.720000</td>\n",
              "      <td>4.044947</td>\n",
              "    </tr>\n",
              "    <tr>\n",
              "      <th>1</th>\n",
              "      <td>Sample Subset B</td>\n",
              "      <td>27.050000</td>\n",
              "      <td>3.827205</td>\n",
              "    </tr>\n",
              "    <tr>\n",
              "      <th>2</th>\n",
              "      <td>Overall Sample</td>\n",
              "      <td>23.957143</td>\n",
              "      <td>4.438261</td>\n",
              "    </tr>\n",
              "    <tr>\n",
              "      <th>3</th>\n",
              "      <td>Population Subset A</td>\n",
              "      <td>24.850000</td>\n",
              "      <td>4.947878</td>\n",
              "    </tr>\n",
              "    <tr>\n",
              "      <th>4</th>\n",
              "      <td>Population Subset B</td>\n",
              "      <td>36.933143</td>\n",
              "      <td>5.974765</td>\n",
              "    </tr>\n",
              "    <tr>\n",
              "      <th>5</th>\n",
              "      <td>Overall Population</td>\n",
              "      <td>34.248000</td>\n",
              "      <td>7.644624</td>\n",
              "    </tr>\n",
              "  </tbody>\n",
              "</table>\n",
              "</div>"
            ],
            "text/plain": [
              "                 Group       Mean       Std\n",
              "0      Sample Subset A  22.720000  4.044947\n",
              "1      Sample Subset B  27.050000  3.827205\n",
              "2       Overall Sample  23.957143  4.438261\n",
              "3  Population Subset A  24.850000  4.947878\n",
              "4  Population Subset B  36.933143  5.974765\n",
              "5   Overall Population  34.248000  7.644624"
            ]
          },
          "metadata": {
            "tags": []
          },
          "execution_count": 274
        }
      ]
    },
    {
      "cell_type": "markdown",
      "metadata": {
        "id": "Ti-v1EsG6DON",
        "colab_type": "text"
      },
      "source": [
        "# Distributions & Probabilities <a name=\"distributions_and_probabilities\"></a>\n",
        "\n",
        "Statistical tests are often based on examining probabilities across varrying named distributions. This section will cover the general methodology of finding probabilities in a distribution as well as listing, for reference, the code used for different distribution types."
      ]
    },
    {
      "cell_type": "markdown",
      "metadata": {
        "id": "WZMwVaIf_mUA",
        "colab_type": "text"
      },
      "source": [
        "## Distribution Code References <a name=\"distribution_code\"></a>\n",
        "\n",
        "Below are some code snippets that might come up frequently during code for various distribution work, here written as a cheat-sheet for the sections below:\n",
        "\n",
        "* Anything beginning with `stats` is calling from the **SciPy** library where most of the relevant code comes from\n",
        " * General form is `stats.somedistribution.somemethod()`. Some of the common methods:\n",
        "   * `.rvs()` - outputs random variable data-- only one unless a size is given\n",
        "   * `.cdf()` - returns probabilities for the cumulative density function, that is p(X<=x)\n",
        "   * `.ppf()` - inverse of the cdf function-- takes in a probability percentage point and returns a value for which the given percentage of the distribution is less than that value\n",
        "   * `.sf()` - returns probabilites for the survival function, that is p(X>=x) or 1 - the cdf probability\n",
        "   * `.isf()` - inverse of the sf function and similar to ppf-- takes in a probability percentage point and returns a value for which the given percentage of the distribution is greater than that value\n",
        "   * `.pdf()` - ouptuts value of the probability density function for a continuous distribution at a given x. Note that this is NOT the probability, as that would be 0 at a specific point on a continuous distribution. Rather it is just the probability. You would have to integrate and find the area under the curve for a particular region. OR you could just use functions like cdf and sf above.\n",
        "  * Can also be written as `stats.somedistribution(parameters).method(parameter)`. I.e. you can give the mean and standard deviation in the distribution parameters rather than having to define it in the following method (if one were used).\n",
        "  * Parameters typically include:\n",
        "   * `loc` for the mean\n",
        "   * `scale` for the standard deviation\n",
        "   * `size` for the size of the sample to be generation (i.e. in `.rvs()`)\n",
        "* For calculating standard errors, Scipy has a handy `sem()` function, where the input is your array. In the current library import, that's `stats.sem()`."
      ]
    },
    {
      "cell_type": "markdown",
      "metadata": {
        "id": "L-Mg3O9nPIrH",
        "colab_type": "text"
      },
      "source": [
        "## Normal Distribution Examples <a name=\"normal_examples\"></a>\n",
        "\n",
        "Before we get started trying specific tests against our data, let's just see what it would look like to check probabilites against the normal distribution.\n",
        "\n",
        "Let's pretend our population distribution is perfectly normal when we look at the ages on a continuous distribution. Let's say it's population mean is..."
      ]
    },
    {
      "cell_type": "code",
      "metadata": {
        "id": "5XCixZiN7UAs",
        "colab_type": "code",
        "outputId": "7a850c54-bda8-490e-b575-0d5a7d5d8b8c",
        "colab": {
          "base_uri": "https://localhost:8080/",
          "height": 34
        }
      },
      "source": [
        "Population_Mean"
      ],
      "execution_count": 275,
      "outputs": [
        {
          "output_type": "execute_result",
          "data": {
            "text/plain": [
              "34.248"
            ]
          },
          "metadata": {
            "tags": []
          },
          "execution_count": 275
        }
      ]
    },
    {
      "cell_type": "markdown",
      "metadata": {
        "id": "J5lFnr0I7XDK",
        "colab_type": "text"
      },
      "source": [
        "and population standard deviation is..."
      ]
    },
    {
      "cell_type": "code",
      "metadata": {
        "id": "6JJTA8ea7WPz",
        "colab_type": "code",
        "outputId": "4951ad7d-a540-4cc7-cd27-96e187115e18",
        "colab": {
          "base_uri": "https://localhost:8080/",
          "height": 34
        }
      },
      "source": [
        "Population_Stdv"
      ],
      "execution_count": 276,
      "outputs": [
        {
          "output_type": "execute_result",
          "data": {
            "text/plain": [
              "7.6446238480240325"
            ]
          },
          "metadata": {
            "tags": []
          },
          "execution_count": 276
        }
      ]
    },
    {
      "cell_type": "markdown",
      "metadata": {
        "id": "ty_2Lc6u7foG",
        "colab_type": "text"
      },
      "source": [
        "But pretend this is all the information we have. We don't have access to the full population dataset (so we can't calculate probabilities directly), but we know the mean and standard deviation are roughly these numbers. We also know the distribution of the data is pretty darn normal. While this situation isn't necessarily likely in the real world, we can use it to demonstrate caclulations off of the normal distribution.\n",
        "\n",
        "For instance, we can find:"
      ]
    },
    {
      "cell_type": "markdown",
      "metadata": {
        "id": "9OIYL9Wj793z",
        "colab_type": "text"
      },
      "source": [
        "* **The probability that the age of a randomly selected individual less than or equal to 37, so p(X<=37):**"
      ]
    },
    {
      "cell_type": "code",
      "metadata": {
        "id": "7SgkqvbF7or_",
        "colab_type": "code",
        "outputId": "5d9c788b-4085-42f4-fbcb-60368dfc100e",
        "colab": {
          "base_uri": "https://localhost:8080/",
          "height": 34
        }
      },
      "source": [
        "# We can use the cumulative density function (cdf)\n",
        "# This tells us the probability of p(X<=x)\n",
        "stats.norm.cdf(x=37, loc=Population_Mean, scale=Population_Stdv)"
      ],
      "execution_count": 277,
      "outputs": [
        {
          "output_type": "execute_result",
          "data": {
            "text/plain": [
              "0.6405732742448905"
            ]
          },
          "metadata": {
            "tags": []
          },
          "execution_count": 277
        }
      ]
    },
    {
      "cell_type": "code",
      "metadata": {
        "id": "RZntu-ZJMA3i",
        "colab_type": "code",
        "outputId": "3b831260-2821-44b2-d288-88f61acff666",
        "colab": {
          "base_uri": "https://localhost:8080/",
          "height": 34
        }
      },
      "source": [
        "# Equivalently (and true for most other functions here) we could write the same parameter as\n",
        "stats.norm(loc=Population_Mean, scale=Population_Stdv).cdf(37)"
      ],
      "execution_count": 278,
      "outputs": [
        {
          "output_type": "execute_result",
          "data": {
            "text/plain": [
              "0.6405732742448905"
            ]
          },
          "metadata": {
            "tags": []
          },
          "execution_count": 278
        }
      ]
    },
    {
      "cell_type": "markdown",
      "metadata": {
        "id": "B-szDX66D5zN",
        "colab_type": "text"
      },
      "source": [
        "* **The probability that the age of a randomly selected individual greater than or equal to 37, so p(X>=37):**"
      ]
    },
    {
      "cell_type": "code",
      "metadata": {
        "id": "VaV6Eh2XBQMo",
        "colab_type": "code",
        "outputId": "6d948237-aff7-433a-f1f8-28cd56816608",
        "colab": {
          "base_uri": "https://localhost:8080/",
          "height": 34
        }
      },
      "source": [
        "# We can use the survival function (sf) which is similar to 1 - the cdf\n",
        "stats.norm.sf(x=37, loc=Population_Mean, scale=Population_Stdv)"
      ],
      "execution_count": 279,
      "outputs": [
        {
          "output_type": "execute_result",
          "data": {
            "text/plain": [
              "0.3594267257551095"
            ]
          },
          "metadata": {
            "tags": []
          },
          "execution_count": 279
        }
      ]
    },
    {
      "cell_type": "code",
      "metadata": {
        "id": "maS_Mf_cEVmo",
        "colab_type": "code",
        "outputId": "9b95b33f-ae26-41d3-a107-d5c4cedb19dd",
        "colab": {
          "base_uri": "https://localhost:8080/",
          "height": 34
        }
      },
      "source": [
        "# Or we could just 1 - cdf directly\n",
        "1 - stats.norm.cdf(x=37, loc=Population_Mean, scale=Population_Stdv)"
      ],
      "execution_count": 280,
      "outputs": [
        {
          "output_type": "execute_result",
          "data": {
            "text/plain": [
              "0.3594267257551095"
            ]
          },
          "metadata": {
            "tags": []
          },
          "execution_count": 280
        }
      ]
    },
    {
      "cell_type": "markdown",
      "metadata": {
        "id": "YsRk6vhTF6TP",
        "colab_type": "text"
      },
      "source": [
        " * **The probability that the age of a randomly selected individual is greather than 5 AND less than 25, so p(5<=X<=25):**"
      ]
    },
    {
      "cell_type": "code",
      "metadata": {
        "id": "7TIBfe0uGT7l",
        "colab_type": "code",
        "outputId": "da644002-28dd-42fc-b8e4-7dad87718927",
        "colab": {
          "base_uri": "https://localhost:8080/",
          "height": 34
        }
      },
      "source": [
        "# This is an area between two points so we need to subtract\n",
        "# You can think of it as subtracting out sections with values less than and use the cdf\n",
        "stats.norm.cdf(25, loc=Population_Mean, scale=Population_Stdv) - stats.norm.cdf(5, loc=Population_Mean, scale=Population_Stdv)"
      ],
      "execution_count": 281,
      "outputs": [
        {
          "output_type": "execute_result",
          "data": {
            "text/plain": [
              "0.11312438745494655"
            ]
          },
          "metadata": {
            "tags": []
          },
          "execution_count": 281
        }
      ]
    },
    {
      "cell_type": "code",
      "metadata": {
        "id": "eSrsjsEWJyNE",
        "colab_type": "code",
        "outputId": "d38991ef-5111-4314-942d-16535eff140e",
        "colab": {
          "base_uri": "https://localhost:8080/",
          "height": 34
        }
      },
      "source": [
        "# Or think of it as subtracting out sections with values greater than and use sf by flipping it\n",
        "stats.norm.sf(5, loc=Population_Mean, scale=Population_Stdv) - stats.norm.sf(25, loc=Population_Mean, scale=Population_Stdv)"
      ],
      "execution_count": 282,
      "outputs": [
        {
          "output_type": "execute_result",
          "data": {
            "text/plain": [
              "0.11312438745494657"
            ]
          },
          "metadata": {
            "tags": []
          },
          "execution_count": 282
        }
      ]
    },
    {
      "cell_type": "markdown",
      "metadata": {
        "id": "sxJDzM1dQWkV",
        "colab_type": "text"
      },
      "source": [
        " * **The probability that the age of a randomly selected individual is less than 5 OR greater than 25, so p(X<=5 or X>=25):**"
      ]
    },
    {
      "cell_type": "code",
      "metadata": {
        "id": "MapKglDQQWr3",
        "colab_type": "code",
        "outputId": "83679a96-be86-4f55-d88f-4d7cd5281215",
        "colab": {
          "base_uri": "https://localhost:8080/",
          "height": 34
        }
      },
      "source": [
        "# We have an or statement here, so we need to add two probabilities\n",
        "stats.norm.cdf(5, loc=Population_Mean, scale=Population_Stdv) + stats.norm.sf(25, loc=Population_Mean, scale=Population_Stdv)"
      ],
      "execution_count": 283,
      "outputs": [
        {
          "output_type": "execute_result",
          "data": {
            "text/plain": [
              "0.8868756125450534"
            ]
          },
          "metadata": {
            "tags": []
          },
          "execution_count": 283
        }
      ]
    },
    {
      "cell_type": "markdown",
      "metadata": {
        "id": "LO5A27CQ7o1c",
        "colab_type": "text"
      },
      "source": [
        "* **The age which approximately 95% of the population is less than:**"
      ]
    },
    {
      "cell_type": "code",
      "metadata": {
        "id": "rGGjHgHA7pMb",
        "colab_type": "code",
        "outputId": "fc452735-67da-40e5-d2d3-15fe2a3d93b3",
        "colab": {
          "base_uri": "https://localhost:8080/",
          "height": 34
        }
      },
      "source": [
        "# This time we use the percent point function (ppf).\n",
        "# This acts as the inverse of the cdf function.\n",
        "# Here you give it the probability range you're interested in, and it gives you the x-value\n",
        "stats.norm.ppf(.95, loc=Population_Mean, scale=Population_Stdv)"
      ],
      "execution_count": 284,
      "outputs": [
        {
          "output_type": "execute_result",
          "data": {
            "text/plain": [
              "46.82228726310205"
            ]
          },
          "metadata": {
            "tags": []
          },
          "execution_count": 284
        }
      ]
    },
    {
      "cell_type": "code",
      "metadata": {
        "id": "246nxU5G88hv",
        "colab_type": "code",
        "outputId": "d987c4ff-3b1e-462c-8358-9f1083760fa7",
        "colab": {
          "base_uri": "https://localhost:8080/",
          "height": 34
        }
      },
      "source": [
        "# We can see that this is so by using the cdf to check it\n",
        "stats.norm.cdf(46.82228726310205, loc=Population_Mean, scale=Population_Stdv)"
      ],
      "execution_count": 285,
      "outputs": [
        {
          "output_type": "execute_result",
          "data": {
            "text/plain": [
              "0.95"
            ]
          },
          "metadata": {
            "tags": []
          },
          "execution_count": 285
        }
      ]
    },
    {
      "cell_type": "markdown",
      "metadata": {
        "id": "N0UzunkY8rly",
        "colab_type": "text"
      },
      "source": [
        "* **The age which approximately 95% of the population is greater than:**"
      ]
    },
    {
      "cell_type": "code",
      "metadata": {
        "id": "K5DHIVkS8vuj",
        "colab_type": "code",
        "outputId": "d2fee518-738b-4898-9b01-284434366d0e",
        "colab": {
          "base_uri": "https://localhost:8080/",
          "height": 34
        }
      },
      "source": [
        "# We can use the ppf function again, but it's the inverse of the cdf (and we want greater than)\n",
        "# One way to deal with this is just use 1 - the percent value we are interested in\n",
        "# This is just like how we would used 1 - the cdf value to find probabilities earlier\n",
        "stats.norm.ppf(0.05, loc=Population_Mean, scale=Population_Stdv)"
      ],
      "execution_count": 286,
      "outputs": [
        {
          "output_type": "execute_result",
          "data": {
            "text/plain": [
              "21.67371273689794"
            ]
          },
          "metadata": {
            "tags": []
          },
          "execution_count": 286
        }
      ]
    },
    {
      "cell_type": "code",
      "metadata": {
        "id": "ABzwaT4P91zd",
        "colab_type": "code",
        "outputId": "d175e766-1cc2-42e5-84eb-32df71227564",
        "colab": {
          "base_uri": "https://localhost:8080/",
          "height": 34
        }
      },
      "source": [
        "# But we could also use the isf function\n",
        "# This is just like ppf function, except it's the inverse of the survival function instead\n",
        "# We can use the given percentage point this way\n",
        "stats.norm.isf(0.95, loc=Population_Mean, scale=Population_Stdv)"
      ],
      "execution_count": 287,
      "outputs": [
        {
          "output_type": "execute_result",
          "data": {
            "text/plain": [
              "21.673712736897947"
            ]
          },
          "metadata": {
            "tags": []
          },
          "execution_count": 287
        }
      ]
    },
    {
      "cell_type": "code",
      "metadata": {
        "id": "JTVEVKa5-Q7n",
        "colab_type": "code",
        "outputId": "8ebd4e01-d486-45e2-d2f6-47a0ad7b2783",
        "colab": {
          "base_uri": "https://localhost:8080/",
          "height": 34
        }
      },
      "source": [
        "# And then we can verrify with the survival function.\n",
        "# Inputting our retrieved age should give us the 0.95 percentage point\n",
        "stats.norm.sf(21.673712736897947, loc=Population_Mean, scale=Population_Stdv)"
      ],
      "execution_count": 288,
      "outputs": [
        {
          "output_type": "execute_result",
          "data": {
            "text/plain": [
              "0.95"
            ]
          },
          "metadata": {
            "tags": []
          },
          "execution_count": 288
        }
      ]
    },
    {
      "cell_type": "markdown",
      "metadata": {
        "id": "SekPpOzcZlTZ",
        "colab_type": "text"
      },
      "source": [
        "* **Scenario: Now consider our population (n > 1000) to be exponentially distributed with the same `Population_Mean` and `Population_Stdv`. If we were to draw samples of size n=36, what is the probability that mean age of the sampled individuals is greater than 33?**\n",
        "\n",
        "This one is tricky, but can actually still be resolved using the normal distribution. Because our sample size is large enough (at least >30), we can reasonably invoke the Central Limit Theorum our population with a large enough sample size, the sample means distribution will converge to normal. This distribution would have the same mean but a standard deviation equal to the population standard deviation divided by the square root of the sample size (reflected in the code below)."
      ]
    },
    {
      "cell_type": "code",
      "metadata": {
        "id": "K8Nm4_lUfPDM",
        "colab_type": "code",
        "outputId": "9b73b97e-7f48-4487-dbe2-806f5224f3bb",
        "colab": {
          "base_uri": "https://localhost:8080/",
          "height": 34
        }
      },
      "source": [
        "# We're looking at greater than, so we can use the sf\n",
        "# Note the ammended standard deviation here\n",
        "stats.norm(loc=Population_Mean, scale=(Population_Stdv/np.sqrt(36))).sf(33)"
      ],
      "execution_count": 289,
      "outputs": [
        {
          "output_type": "execute_result",
          "data": {
            "text/plain": [
              "0.8363364431737097"
            ]
          },
          "metadata": {
            "tags": []
          },
          "execution_count": 289
        }
      ]
    },
    {
      "cell_type": "markdown",
      "metadata": {
        "id": "48ctqdqxjQLj",
        "colab_type": "text"
      },
      "source": [
        "It is worth reminding that the above example does NOT give the probability of a randomly sampled individual having an age greater than 33 (this would indeed need be found through the exponential distribution). It only provides that the mean age of the sampled individuals is greater than 33."
      ]
    },
    {
      "cell_type": "markdown",
      "metadata": {
        "id": "ChFWH8hVoA7x",
        "colab_type": "text"
      },
      "source": [
        "# A Note on Normality and the Central Limit Theorum <a name=\"CLT_note\"></a>\n",
        "\n",
        "First we want to remember the assumptions of the central limit theorum:\n",
        "  * **Randomized Sampling** - Remember that this means your sample must be representative of the population. Otherwise your just selecting a subset of the data, and thus it's not random.\n",
        "  * **Independence Assumption** - Samples are independent of one another, and the occurence of one event has no affect on another.\n",
        "  * **10% Condition** - When the sample is drawn (without replacement), it should be no more than 10% of the population. [Not sure on the background here, but my assumption maybe it has to do with some strange standard deviations you get once you start drawing a high proportion of the population]\n",
        "  * **Sample \"Size Assumption** - The distribution of sample means will be normal at a large enough sample size. While n>30 is typically given for this, if you have particularly skewed data, you might want to use a larger sample size.\n",
        "  \n",
        "So remember then that just because you can calculate a p value <0.05, this doesn't necessarily mean your data is really significant if you're violating these assumptions. For instance, your sampling might not truly represent the population and thus not really be random."
      ]
    },
    {
      "cell_type": "markdown",
      "metadata": {
        "id": "jXCRzfHRpOzO",
        "colab_type": "text"
      },
      "source": [
        "# Parametric Tests <a name=\"parametric\"></a>"
      ]
    },
    {
      "cell_type": "markdown",
      "metadata": {
        "id": "_WrfODkOpSHY",
        "colab_type": "text"
      },
      "source": [
        "## Z-test <a name=\"z\"></a>\n",
        "\n",
        "In the case of the z-test ([documentation](https://www.statsmodels.org/stable/generated/statsmodels.stats.weightstats.ztest.html)) the expectation is that we know the population standard deviation and can assume the distribution of the test statistic (z) can be approximated by the normal distribution. The later will generally be true for large samples, but knowing the population standard deviation is not likely in most real-life situations.\n",
        "\n",
        "**In most real-world use cases, the z-test is replaced by the more applicable t-test which is a more suitable fit for when we do not know the population standard deviation**. I explore the z-test here just as an example and also to demonstrate some simple cases of using the statistical test functions as well as how they work on the back-end (manually).\n",
        "\n",
        "All the same, it is *possible* to implement the t-test in cases where we generally would not. For large samples (>50 according to some rules of thumb) we can often make the reasonable assumption that our sample standard deviation is quite close to the population standard deviation. In such case, the z-test will actually give very similar results to that of other more technically accurate tests (such as the t-test). [This post and response](https://www.researchgate.net/post/Difference_between_t-test_and_z-test_in_context_of_groundwater_studies) provides an excellent documentation of this case.\n",
        "\n",
        "For the cases below, we are willing to make that assumption for the sake of the exercise."
      ]
    },
    {
      "cell_type": "markdown",
      "metadata": {
        "id": "9uZmzZtBBpUT",
        "colab_type": "text"
      },
      "source": [
        "### Z-score <a name=\"zscore\"></a>\n",
        "\n",
        "First we should know that the z-test uses a z-statistic, or z-score, to standardize your test data and compare to a normal distribution. In effect, the z-score, for any number, is the number standard deviations away from the mean it is. Z-test functions will create this for us, but let's set up a helper function to get it directly and to see how it is calculated.\n",
        "\n",
        "Of note, this is a simple z-score for that of one sample/population.\n",
        "\n"
      ]
    },
    {
      "cell_type": "code",
      "metadata": {
        "id": "blph-yJ0B9bA",
        "colab_type": "code",
        "colab": {}
      },
      "source": [
        "# Define a function for the z-score\n",
        "# Note that this is a simple calc for one sample\n",
        "def zscore(x=1, mu=1, std=1):\n",
        "  z = (x - mu)/std\n",
        "  return z"
      ],
      "execution_count": 0,
      "outputs": []
    },
    {
      "cell_type": "markdown",
      "metadata": {
        "id": "NRfLzSZlDJ_v",
        "colab_type": "text"
      },
      "source": [
        "We'll use this below to get a sense of the back-end of the z-test."
      ]
    },
    {
      "cell_type": "markdown",
      "metadata": {
        "colab_type": "text",
        "id": "aZutHEm6DHbr"
      },
      "source": [
        "### One Sample vs Population <a name=\"z_one_samp\"></a>\n",
        "\n",
        "***Given `Sample_Ages_A`, is the actual population age greather than 22 years old?***\n",
        "\n",
        "**Null Hpothesis:** $\\mu \\le 22$\n",
        "\n",
        "**Alternative Hypothesis:** $\\mu > 22$\n",
        "\n",
        "Let's pretend here that we don't have access to the population data we created. If we did, have access to the population standard deviation, we would pretty quickly be able to use the z-test. But given the sample size here is large, we can reasonably approximate the population standard deviation through calculations off the sample standard deviation and get results at least similar to that of a t-test.\n",
        "\n",
        "We picked greater than 22 years here, somewhat abritrarily, from the value of the sample mean.\n"
      ]
    },
    {
      "cell_type": "code",
      "metadata": {
        "id": "IBcXwByUK6Xs",
        "colab_type": "code",
        "outputId": "efa3b1e4-41fa-4986-942d-ea219cd07d96",
        "colab": {
          "base_uri": "https://localhost:8080/",
          "height": 34
        }
      },
      "source": [
        "Sample_Mean_A"
      ],
      "execution_count": 291,
      "outputs": [
        {
          "output_type": "execute_result",
          "data": {
            "text/plain": [
              "22.72"
            ]
          },
          "metadata": {
            "tags": []
          },
          "execution_count": 291
        }
      ]
    },
    {
      "cell_type": "markdown",
      "metadata": {
        "id": "MjyiicHteV0o",
        "colab_type": "text"
      },
      "source": [
        "Let's double check that sample size to get a sense that it's large enough."
      ]
    },
    {
      "cell_type": "code",
      "metadata": {
        "id": "q5ezQ8q03tPr",
        "colab_type": "code",
        "outputId": "3377479a-0bb6-458d-f58c-ecd8b6699cc8",
        "colab": {
          "base_uri": "https://localhost:8080/",
          "height": 34
        }
      },
      "source": [
        "len(Sample_Ages_A)"
      ],
      "execution_count": 292,
      "outputs": [
        {
          "output_type": "execute_result",
          "data": {
            "text/plain": [
              "50"
            ]
          },
          "metadata": {
            "tags": []
          },
          "execution_count": 292
        }
      ]
    },
    {
      "cell_type": "markdown",
      "metadata": {
        "id": "KJrVJKf8edQJ",
        "colab_type": "text"
      },
      "source": [
        "And finally implement the z-test:"
      ]
    },
    {
      "cell_type": "code",
      "metadata": {
        "id": "_Ze0XUy10ZPp",
        "colab_type": "code",
        "outputId": "dc73b13d-51cc-41c7-fa4e-f76d20ec5c90",
        "colab": {
          "base_uri": "https://localhost:8080/",
          "height": 34
        }
      },
      "source": [
        "# This function from statsmodels which takes in an array (our sample)\n",
        "# We're interested in greater than, so the alternative parameter is \"larger\"\n",
        "sm.stats.ztest(Sample_Ages_A, value=22, alternative=\"larger\")"
      ],
      "execution_count": 293,
      "outputs": [
        {
          "output_type": "execute_result",
          "data": {
            "text/plain": [
              "(1.2459988770632446, 0.10638240372160424)"
            ]
          },
          "metadata": {
            "tags": []
          },
          "execution_count": 293
        }
      ]
    },
    {
      "cell_type": "markdown",
      "metadata": {
        "id": "k_ZqDqd2RTJM",
        "colab_type": "text"
      },
      "source": [
        "The output above provides the z-stat on the left and the p-value on the right. With a p-value of greater than 0.05, we fail to reject the Null hypothesis at a  95% confidence level."
      ]
    },
    {
      "cell_type": "markdown",
      "metadata": {
        "id": "FzZ1ERH1e8ob",
        "colab_type": "text"
      },
      "source": [
        "**Let's see what's happening on the back-end by working this manually.**\n",
        "\n",
        "First we'll want to comput the standard error. We'll use to estimate the standard deviation of the population for our z-score."
      ]
    },
    {
      "cell_type": "code",
      "metadata": {
        "id": "sKIkzqYLIOLV",
        "colab_type": "code",
        "colab": {}
      },
      "source": [
        "# SE for standard error\n",
        "# Setting ddof = 1 means setting the degrees of freedom for the standard deviation to 1\n",
        "# This is statistical convention when estimated that of the poulation\n",
        "SE = Sample_Ages_A.std(ddof=1)/np.sqrt(len(Sample_Ages_A))\n",
        "# Alternatively stats.sem(Sample_Ages) for SciPy's standard error mean function"
      ],
      "execution_count": 0,
      "outputs": []
    },
    {
      "cell_type": "markdown",
      "metadata": {
        "id": "v4i9xi9XlWX0",
        "colab_type": "text"
      },
      "source": [
        "We have the sample mean and the standard error now, so we can computer our z-score. Our standard error will take the place of the standard deviation, and our null hypothesis is that the population mean is 22 or below. As such mu for our z-score is 22 in this case whereas our `Sample_Mean_A` acts as the x value we are comparing it to.\n",
        "\n",
        "Our calculated z-score should be idental to the statsmodels test above."
      ]
    },
    {
      "cell_type": "code",
      "metadata": {
        "id": "G5FXowR9Dts-",
        "colab_type": "code",
        "outputId": "5b203e1d-e2f9-45e9-a1ee-83c261eeb95a",
        "colab": {
          "base_uri": "https://localhost:8080/",
          "height": 34
        }
      },
      "source": [
        "# Calculating our z score\n",
        "z = zscore(x=Sample_Mean_A, mu=22, std=SE)\n",
        "z"
      ],
      "execution_count": 295,
      "outputs": [
        {
          "output_type": "execute_result",
          "data": {
            "text/plain": [
              "1.2459988770632444"
            ]
          },
          "metadata": {
            "tags": []
          },
          "execution_count": 295
        }
      ]
    },
    {
      "cell_type": "markdown",
      "metadata": {
        "id": "UC3QuI6PmOcQ",
        "colab_type": "text"
      },
      "source": [
        "Finally we want to compare our z score to the standard normal distribution (this would be the same as `norm(loc=0, scale=1)` for a mean of 0 with a standard deviation of 1.\n",
        "\n",
        "We believe (our alternative hypothesis) that the population mean is actually greater than 22, so we're interested in the likelihood of finding corresponding z-scores greater than our calculated z-score.\n",
        "\n",
        "The survival function `sf` then can be used to return the probability of z-score values larger than our determined z-score on the distribution, which is our p-value."
      ]
    },
    {
      "cell_type": "code",
      "metadata": {
        "id": "sAe2skNGEfFP",
        "colab_type": "code",
        "outputId": "11c9c551-a907-47d8-bc47-0fb74dc2f7e8",
        "colab": {
          "base_uri": "https://localhost:8080/",
          "height": 34
        }
      },
      "source": [
        "# Calculating our p-value from the z-score\n",
        "stats.norm().sf(z)"
      ],
      "execution_count": 296,
      "outputs": [
        {
          "output_type": "execute_result",
          "data": {
            "text/plain": [
              "0.10638240372160429"
            ]
          },
          "metadata": {
            "tags": []
          },
          "execution_count": 296
        }
      ]
    },
    {
      "cell_type": "markdown",
      "metadata": {
        "id": "RHfWsl11Ngga",
        "colab_type": "text"
      },
      "source": [
        "Again we get the same p-value. In this case, it is reasonably possible that we might find z-scores more extreme (here, greater than) than our calculated one, so we can't reject the null hypothesis."
      ]
    },
    {
      "cell_type": "markdown",
      "metadata": {
        "id": "ZX-9XEQ61zfp",
        "colab_type": "text"
      },
      "source": [
        "### Two Sample Means by p-value <a name=\"z_two_samp_p\"></a>"
      ]
    },
    {
      "cell_type": "markdown",
      "metadata": {
        "colab_type": "text",
        "id": "StGSm5BCpusA"
      },
      "source": [
        "For this problem we want two sample means taken from two different populations. Rather than use `Sample_Ages_A` and `Sample_Ages_B` which we were already pretending to be subsets, let's create two new samples-- `Sample_X` and `Sample_Y`. This is mainly arbitrary and also to give me a chance to practice sampling as noted below."
      ]
    },
    {
      "cell_type": "code",
      "metadata": {
        "id": "f1Jpc2WSt_2i",
        "colab_type": "code",
        "colab": {}
      },
      "source": [
        "# Creating two new samples (intended as from different populations)\n",
        "\n",
        "# Setting a seed so we can duplicate results\n",
        "np.random.seed(69)\n",
        "\n",
        "# Let's sample from the two Population Subsets for fun\n",
        "Sample_X = np.random.choice(a=Population_Ages_A, replace=False, size=100)\n",
        "Sample_Y = np.random.choice(a=Population_Ages_B, replace=False, size=100)"
      ],
      "execution_count": 0,
      "outputs": []
    },
    {
      "cell_type": "markdown",
      "metadata": {
        "id": "FVsOJmC9tNrZ",
        "colab_type": "text"
      },
      "source": [
        "***Assume that `Sample_Ages_X` and `Sample_Ages_Y` are from two different populations. Is their mean age different?***\n",
        "\n",
        "**Null Hpothesis:** $\\mu_x = \\mu_y$\n",
        "\n",
        "**Alternative Hypothesis:** $\\mu_x \\ne \\mu_y$\n",
        "\n",
        "Again here, this would be a time to use the t-test, BUT if both the samples are fairly large (as they are here), we can approximate the population standard deviation using calculations from the sample standard deviations.\n",
        "\n",
        "First let's check the sample sizes:"
      ]
    },
    {
      "cell_type": "code",
      "metadata": {
        "id": "d-AMgmI7sStZ",
        "colab_type": "code",
        "outputId": "a335e891-ff03-471f-86ca-7200aeed095f",
        "colab": {
          "base_uri": "https://localhost:8080/",
          "height": 34
        }
      },
      "source": [
        "len(Sample_X), len(Sample_Y)"
      ],
      "execution_count": 298,
      "outputs": [
        {
          "output_type": "execute_result",
          "data": {
            "text/plain": [
              "(100, 100)"
            ]
          },
          "metadata": {
            "tags": []
          },
          "execution_count": 298
        }
      ]
    },
    {
      "cell_type": "markdown",
      "metadata": {
        "id": "vb5QgjefqkzO",
        "colab_type": "text"
      },
      "source": [
        "And now let's implement the z-test. We're doing a two-sided test as we want to test that the two means are not equal (two-sided meaning we check against z-scores for values indicating the means are *either* more or less than the other).\n",
        "\n",
        "This is also the equivalent of saying that the different between the means is 0 ($\\mu_x - \\mu_Y = 0$).\n",
        "\n",
        "The ztest formula below is the same as the previous example, but allows for the input of two arrays (two samples). The value parameter then becomes the hypothesized difference between those means (in this case 0)."
      ]
    },
    {
      "cell_type": "code",
      "metadata": {
        "id": "WqpU04YTv7sy",
        "colab_type": "code",
        "outputId": "085df405-bc3b-4557-f0af-cdb1cc29e66b",
        "colab": {
          "base_uri": "https://localhost:8080/",
          "height": 34
        }
      },
      "source": [
        "# Implementing the z-test\n",
        "sm.stats.ztest(x1=Sample_X, x2=Sample_Y, value=0, alternative=\"two-sided\")"
      ],
      "execution_count": 299,
      "outputs": [
        {
          "output_type": "execute_result",
          "data": {
            "text/plain": [
              "(-17.79085329920223, 8.320317277725741e-71)"
            ]
          },
          "metadata": {
            "tags": []
          },
          "execution_count": 299
        }
      ]
    },
    {
      "cell_type": "markdown",
      "metadata": {
        "id": "n77WMPJ6xR33",
        "colab_type": "text"
      },
      "source": [
        "The p-value here is extremely small, so we can reject the null hypothesis at beyond a 99% confidence level. We expect then that if we were to randomly draw from both populations, more than 99% of the time the two samples would have a different sample mean. We thus have evidence that the two populations have different means.\n",
        "\n",
        "Let's plot the sample distributions below to visually and intuitively verify."
      ]
    },
    {
      "cell_type": "code",
      "metadata": {
        "id": "PXw2KKH_xhOx",
        "colab_type": "code",
        "outputId": "9526ebb4-2aec-467f-d0f1-6e77f63c1061",
        "colab": {
          "base_uri": "https://localhost:8080/",
          "height": 274
        }
      },
      "source": [
        "# Overlay of Sample_X and Sample_Y plots\n",
        "sns.distplot(Sample_X)\n",
        "sns.distplot(Sample_Y)\n",
        "plt.show()"
      ],
      "execution_count": 300,
      "outputs": [
        {
          "output_type": "display_data",
          "data": {
            "image/png": "[encoded data removed]",
            "text/plain": [
              "<Figure size 432x288 with 1 Axes>"
            ]
          },
          "metadata": {
            "tags": []
          }
        }
      ]
    },
    {
      "cell_type": "markdown",
      "metadata": {
        "id": "zJCa-AfwOr4r",
        "colab_type": "text"
      },
      "source": [
        "The plot matches our expectations.\n",
        "\n",
        "**However, let's again look at this in more detail by working it manually to get a sense of what's happening on the back-end.**\n",
        "\n",
        "Once again we'll need to calculated the standard error first-- this time for each of our samples. The standard errors are then pooled together as $\\sqrt{SE_1^2 +SE_2^2}$."
      ]
    },
    {
      "cell_type": "code",
      "metadata": {
        "id": "7FNTLYIXOx7P",
        "colab_type": "code",
        "colab": {}
      },
      "source": [
        "# First individually for each sample\n",
        "SE1 = Sample_X.std(ddof=1)/np.sqrt(len(Sample_X))\n",
        "SE2 = Sample_Y.std(ddof=1)/np.sqrt(len(Sample_Y))\n",
        "# Then pooling the two together\n",
        "SEs = np.sqrt(SE1**2 + SE2**2)"
      ],
      "execution_count": 0,
      "outputs": []
    },
    {
      "cell_type": "markdown",
      "metadata": {
        "id": "70zi3KYCtf07",
        "colab_type": "text"
      },
      "source": [
        "Next we'll compute the z-score (this should be the same as found above). While we have a helper function for this, let's write it out directly to emphasize that we're now looking at the difference in two means. Which sample we subtract from which is arbitrary as we'll use the absolute value later."
      ]
    },
    {
      "cell_type": "code",
      "metadata": {
        "id": "b8GcmCP_XzRt",
        "colab_type": "code",
        "outputId": "ecb116e2-f2c1-4ac1-d57a-596ce78e6173",
        "colab": {
          "base_uri": "https://localhost:8080/",
          "height": 34
        }
      },
      "source": [
        "# Calculating the z-score\n",
        "z = (Sample_X.mean() - Sample_Y.mean()) / SEs\n",
        "z"
      ],
      "execution_count": 302,
      "outputs": [
        {
          "output_type": "execute_result",
          "data": {
            "text/plain": [
              "-17.790853299202226"
            ]
          },
          "metadata": {
            "tags": []
          },
          "execution_count": 302
        }
      ]
    },
    {
      "cell_type": "markdown",
      "metadata": {
        "id": "N2DyWsb-t0sJ",
        "colab_type": "text"
      },
      "source": [
        "And finally we can calculate the p-value. If we take the absolute value (`abs()` below) of the z-score to simply mean the raw difference between the two means, we can simply use the survival function `sf()` to see what the probability of finding values with a higher z-score is. However, the test is two-twailed, so we also want values more extreme in the other direction (less than the negative version of the z-score). Since the standard normal distribution is symmetric about 0, we can simply multiply the probability from the survival function by 2 to obtain this."
      ]
    },
    {
      "cell_type": "code",
      "metadata": {
        "id": "RdeVzQliatla",
        "colab_type": "code",
        "outputId": "4798e4b2-8f1a-4736-8819-9f8c4a7e0a38",
        "colab": {
          "base_uri": "https://localhost:8080/",
          "height": 34
        }
      },
      "source": [
        "# Finding the p-value given our z-score\n",
        "stats.norm().sf(abs(z)) * 2\n",
        "# Alternatively stats.norm().cdf(-abs(z)) * 2"
      ],
      "execution_count": 303,
      "outputs": [
        {
          "output_type": "execute_result",
          "data": {
            "text/plain": [
              "8.320317277726217e-71"
            ]
          },
          "metadata": {
            "tags": []
          },
          "execution_count": 303
        }
      ]
    },
    {
      "cell_type": "markdown",
      "metadata": {
        "id": "eiitLT97v0OL",
        "colab_type": "text"
      },
      "source": [
        "And indeed we get the same very tiny p-value indicating the two means are indeed different."
      ]
    },
    {
      "cell_type": "markdown",
      "metadata": {
        "id": "LUZ0qz6mRG4O",
        "colab_type": "text"
      },
      "source": [
        "### Two Sample Means by Critical Value <a name=\"z_two_samp_crit\"></a>\n",
        "\n",
        "When asking if two means are different, it can be somewhat confusing as one might argue that surely the means *must* be different, even if only be some fractional degree (i.e. 0.0000001 difference). Demonstrating a difference by p-value however does address this as it's akin to asking \"How extreme is the difference between these two means?\" as evaluated by the probability of finding the test statistic derived from them.\n",
        "\n",
        "However, another way of viewing this that may make more sense is running the test by use of a **critical value** rather than a p-value. We would expect the results to be the same, as they use the same fundamental philosophy, but it may add clarity.\n",
        "\n",
        "Critical values are values of test stastitics whereby some percentage (determined by your confidence level) of all the values in the distribution are below. This means that if your value, i.e. from your sample(s), is greater than this value (the critical value), then your value is not found in that whole percentage range. So if your confidence level is 95% which returns a critical value of 5, then 95% of that distribution is less than 5. If your sample then returns a test statistic greater than 5, then it falls outside of 95% of the values on the distribution. You then have some evidence that this value is not due to chance. \n",
        "\n",
        "Let's try this as a repeat of the previous scenario.\n",
        "\n",
        "To do so, we first need to compute the critical value. We can calculate this from the percentage point function `ppf`. This is the inverse of the cumulative distribution function `cdf` in that it instead takes a percentage point value and then returns the value at which the inputted percentage of values on the distribution are less than. (Alternatively, for greater-than interrogations, we could use `isf()` the inverse of the survival function).\n",
        "\n",
        "We can thus feed the percent point function our confidence level (i.e. 99% -> 0.99) to return the value which 99% of the values on the distribution are less extreme than. This then returns the \"critical value\" at that confidence level for that distribution.\n",
        "\n",
        "For a one-tailed test we would simply use `.ppf(confidencelevel)` or `.isf(alpha)` (alpha being 1 - the confidence level). For a two-tailed test however, we want to look at both tails of the distribution.\n",
        "\n",
        "To do this, we must distribute our uncertaity across both tails of the distribution. When considering this as an alpha value, all we have to do is cut it in half. So a confidence level of 95%, alpha of 0.05, means we look at an alpha of 0.025 on both ends of the distribution.\n",
        "\n",
        "When considering this as a confidence level, this means half of the percentage points comes back on each tail. For instance, if we have a confidence level of 0.95, then 1 - 0.95 gets contributed back to both tails. As such we would input 0.975 (which is 0.95 + 0.025) into the ppf function. Formulaically, we are then inputting $(1 + confidence) / 2$ into the ppf, or $\\lvert  confidence - 1 \\rvert /2$ into the isf.\n",
        "\n",
        "We'll calculate the critical value at a 99% confidence below. Since we are interested in whether  two means are different, this is two-tailed."
      ]
    },
    {
      "cell_type": "code",
      "metadata": {
        "id": "-GOcyp6tZ8Wb",
        "colab_type": "code",
        "outputId": "0ce39e4e-7d1e-4837-8b13-83d1ecde2d23",
        "colab": {
          "base_uri": "https://localhost:8080/",
          "height": 34
        }
      },
      "source": [
        "critval = stats.norm().ppf((1+0.99)/2) # so ppf(0.995)\n",
        "# alternatively critval = stats.norm().isf(abs(1 - 0.99)/2), so isf(0.025)\n",
        "critval"
      ],
      "execution_count": 304,
      "outputs": [
        {
          "output_type": "execute_result",
          "data": {
            "text/plain": [
              "2.5758293035489004"
            ]
          },
          "metadata": {
            "tags": []
          },
          "execution_count": 304
        }
      ]
    },
    {
      "cell_type": "markdown",
      "metadata": {
        "id": "SGuuOzwn0DrG",
        "colab_type": "text"
      },
      "source": [
        "If the absolute value of our test-statistic (here the z-score) is greater than this value, then that means it is *more* extreme the other values in the distribution up to our given confidence level. Thus if our test-statistic is greater than the critical value, it's unlikely we would have gotten it by chance. Similar to above, we use the absolute value as we're interested in differences between the means regardless of which is bigger (i.e. in which direction we subtract).\n",
        "\n",
        "Let's compare the two:"
      ]
    },
    {
      "cell_type": "code",
      "metadata": {
        "id": "_p6wC-Eh0gdr",
        "colab_type": "code",
        "outputId": "7008773d-7137-47c5-fa61-272d979ecc74",
        "colab": {
          "base_uri": "https://localhost:8080/",
          "height": 34
        }
      },
      "source": [
        "# Printing both values\n",
        "(abs(z), critval)"
      ],
      "execution_count": 305,
      "outputs": [
        {
          "output_type": "execute_result",
          "data": {
            "text/plain": [
              "(17.790853299202226, 2.5758293035489004)"
            ]
          },
          "metadata": {
            "tags": []
          },
          "execution_count": 305
        }
      ]
    },
    {
      "cell_type": "markdown",
      "metadata": {
        "id": "YuTX6YWTS_kq",
        "colab_type": "text"
      },
      "source": [
        "The z-score is clearly larger than the critical value (i.e. it is rare we would get this value). Remember that the z-score represents a standardized version of the difference between the two means. This then is to say that, at 99% confidence, it would be rare to get a difference in means (represented by the test statistic) above this critical value.\n",
        "\n",
        "As such, we believe the means really are different, which corresponds with the results of our comparison by p-value."
      ]
    },
    {
      "cell_type": "markdown",
      "metadata": {
        "id": "m2jscZPeyI3q",
        "colab_type": "text"
      },
      "source": [
        "## T-test <a name=\"t\"></a>\n",
        "\n",
        "More likely to be used in real application than the z-test is the t-test which is used when the population standard deviation is unknown (as is the case most of the time) and/or when the sample size is small. Accordingly, this test is based off of the t-distribution.\n",
        "\n",
        "This distribution has heavier tails which helps deal with outlying points in smaller sample sizes but is an estimated case of the normal distribution and increasingly approximates the normal with higher sample size.\n",
        "\n",
        "The t-distribution has one parameters **degrees of freedom (df)** defined as the \"sample size - 1\" and utilizes the t-statistic."
      ]
    },
    {
      "cell_type": "markdown",
      "metadata": {
        "id": "IuBCQ1zAs49C",
        "colab_type": "text"
      },
      "source": [
        "### T-statistic <a name=\"tstat\"></a>\n",
        "\n",
        "Let's first create a helper function to get at the t-statistic directly. The Python functions used for a t-test will report the t-statistic, but it's listed here to see the general form and in case we want to use it on the back-end.\n",
        "\n",
        "Of note, this is a simple version for one sample/population. When comparing two samples, for instance, the standard errors must be pooled."
      ]
    },
    {
      "cell_type": "code",
      "metadata": {
        "id": "40ayKYlW6m7l",
        "colab_type": "code",
        "colab": {}
      },
      "source": [
        "# Define a function for the tstatistic\n",
        "# Note that this is a simple calc for one sample\n",
        "def tstat(smean=0, mu=0, s=1, n=1):\n",
        "  t = (smean - mu)/(s/np.sqrt(n))\n",
        "  return t"
      ],
      "execution_count": 0,
      "outputs": []
    },
    {
      "cell_type": "markdown",
      "metadata": {
        "id": "pt-StJjrtcky",
        "colab_type": "text"
      },
      "source": [
        "It is worth noting that the t-stastitic nearly mirrors the z-score. However, in this case, we immediately acknowledge use of standard error rather than standard deviation (as we don't know the population deviation)."
      ]
    },
    {
      "cell_type": "markdown",
      "metadata": {
        "id": "p3gPIr3Mwh61",
        "colab_type": "text"
      },
      "source": [
        "### One sample vs Population (t-test) <a name=\"t_one_samp_ttest\"></a>\n",
        "\n",
        "Let's now use our `Sample_Ages` and `Population_Ages` data to check whether the sample mean is likely a significant difference from the population mean. We must pretend here that we don't have access to the population dataset for this to be meaningful, though we do have its mean. Also given how we set up the data, we do expect them to be different.\n",
        "\n",
        "***Given `Sample_Ages` as our sample, is the sample mean significantly different that that of the population mean?***\n",
        "\n",
        "**Null Hpothesis:** $\\bar{x} = \\mu$\n",
        "\n",
        "**Alternative Hypothesis:** $\\bar{x} \\ne \\mu$\n",
        "\n",
        "Scipy has a function for a two-sided, 1 sample t-test-- `stats.ttest_1samp()`-- though it doesn't appear Statsmodels does as of time of this writing."
      ]
    },
    {
      "cell_type": "code",
      "metadata": {
        "id": "Fl_akU-t1mZP",
        "colab_type": "code",
        "outputId": "842d5ec9-ad9d-49f5-b4ca-8a333161e80f",
        "colab": {
          "base_uri": "https://localhost:8080/",
          "height": 34
        }
      },
      "source": [
        "# Performing the t-test\n",
        "stats.ttest_1samp(a=Sample_Ages, popmean=Population_Mean)"
      ],
      "execution_count": 307,
      "outputs": [
        {
          "output_type": "execute_result",
          "data": {
            "text/plain": [
              "Ttest_1sampResult(statistic=-19.260308025028255, pvalue=1.817235373702955e-29)"
            ]
          },
          "metadata": {
            "tags": []
          },
          "execution_count": 307
        }
      ]
    },
    {
      "cell_type": "markdown",
      "metadata": {
        "id": "fNi8XBTh2ArT",
        "colab_type": "text"
      },
      "source": [
        "The t-stastic and p-value are returned. The p-value is very small and certainly below 0.01, so here we should reject the null hypothesis and thus find strong evidence of the alternative, that the means are different.\n",
        "\n",
        "Of note, this is a two-tailed test, and Python does not seem to included a one-tailed (i.e. testing that the sample mean is greater or less than the population mean). This, however, is intentional as to get such a value, all one would need to is divide the two-tailed p-value by 2. Statsmodels does however have a function for two one-sided ttests ([ttost](https://www.statsmodels.org/stable/generated/statsmodels.stats.weightstats.ttost_ind.html#statsmodels.stats.weightstats.ttost_ind))."
      ]
    },
    {
      "cell_type": "markdown",
      "metadata": {
        "id": "xvfYvy4F8JeQ",
        "colab_type": "text"
      },
      "source": [
        "This makes sense as our sample and population means are both quite different with large sizes:"
      ]
    },
    {
      "cell_type": "code",
      "metadata": {
        "id": "ik9RWe6E8QOl",
        "colab_type": "code",
        "outputId": "79b5fdce-69f2-44c5-a836-bffaee5a5612",
        "colab": {
          "base_uri": "https://localhost:8080/",
          "height": 34
        }
      },
      "source": [
        "Sample_Mean, Population_Mean"
      ],
      "execution_count": 308,
      "outputs": [
        {
          "output_type": "execute_result",
          "data": {
            "text/plain": [
              "(23.957142857142856, 34.248)"
            ]
          },
          "metadata": {
            "tags": []
          },
          "execution_count": 308
        }
      ]
    },
    {
      "cell_type": "markdown",
      "metadata": {
        "id": "cELUzcf52lQo",
        "colab_type": "text"
      },
      "source": [
        "**However, we could also conduct this test manually to verify.**\n",
        "\n",
        "First, we need to compute the t-statistic. Let's use our helper function from earlier."
      ]
    },
    {
      "cell_type": "code",
      "metadata": {
        "id": "qEoUEUy-2uzo",
        "colab_type": "code",
        "outputId": "c79c82dc-3993-47f3-9c71-30c7019af784",
        "colab": {
          "base_uri": "https://localhost:8080/",
          "height": 34
        }
      },
      "source": [
        "# Calculating the t-statistic\n",
        "t = tstat(smean=Sample_Mean, mu=Population_Mean, s=Sample_Ages.std(ddof=1), n=len(Sample_Ages))\n",
        "t"
      ],
      "execution_count": 309,
      "outputs": [
        {
          "output_type": "execute_result",
          "data": {
            "text/plain": [
              "-19.260308025028255"
            ]
          },
          "metadata": {
            "tags": []
          },
          "execution_count": 309
        }
      ]
    },
    {
      "cell_type": "markdown",
      "metadata": {
        "id": "8Q47Q4D43Lrg",
        "colab_type": "text"
      },
      "source": [
        "The t-statistic is the sample from SciPy's function. Now we need to compare the t-statistic to the t distribution. We want to know what's the probability of finding t-stat values on the distribution more extreme than this, so we can look for values less than our already negative t-stat, but if so, we'll need to multiply it by 2 because we also want to know the probability of values more extreme than the positive version as well.\n",
        "\n",
        "We can use the cumulative distribution function or survival function to calculate the probabilities.\n",
        "\n",
        "The t-distribution here takes one parameter -- degrees of freedom -- which is equal to n - 1."
      ]
    },
    {
      "cell_type": "code",
      "metadata": {
        "id": "NF0maGXX4Jq0",
        "colab_type": "code",
        "outputId": "a1b42769-9533-42ea-8517-a39d2d059127",
        "colab": {
          "base_uri": "https://localhost:8080/",
          "height": 34
        }
      },
      "source": [
        "# Calculating the p-value\n",
        "stats.t(df=(len(Sample_Ages) -1)).cdf(t) * 2\n",
        "# Alternatively stats.t(df=(len(Sample_Ages) -1)).sf(abs(t)) * 2"
      ],
      "execution_count": 310,
      "outputs": [
        {
          "output_type": "execute_result",
          "data": {
            "text/plain": [
              "1.817235373702955e-29"
            ]
          },
          "metadata": {
            "tags": []
          },
          "execution_count": 310
        }
      ]
    },
    {
      "cell_type": "markdown",
      "metadata": {
        "id": "LcIpTTJy4rrq",
        "colab_type": "text"
      },
      "source": [
        "The two p-values agree."
      ]
    },
    {
      "cell_type": "markdown",
      "metadata": {
        "id": "rpgGJfbc43hD",
        "colab_type": "text"
      },
      "source": [
        "### One sample vs Population (confidence interval) <a name=\"t_one_samp_confint\"></a>\n",
        "\n",
        "For the case as above, we can compute a confidence interval for the sample mean. Scipy also has a method on the t distribution for this. To do so however, we will first need to calculate an estimate of the population standard deviation, sigma, before calculating the interval.\n",
        "\n",
        "We'll computer here at the 95% confidence level."
      ]
    },
    {
      "cell_type": "code",
      "metadata": {
        "id": "6_rx5_j86y9K",
        "colab_type": "code",
        "outputId": "c1bbcc04-fa12-4bb3-992e-2e8e796e7099",
        "colab": {
          "base_uri": "https://localhost:8080/",
          "height": 34
        }
      },
      "source": [
        "# First computing sigma to estimate the standard deviation\n",
        "sigma = Sample_Ages.std(ddof=1)/np.sqrt(len(Sample_Ages))\n",
        "\n",
        "# Then calculating the confidence interval using SciPy's function\n",
        "# Note that per the docs, alpha means the confidence level here, not the actual alpha value (oddly)\n",
        "stats.t.interval(alpha=0.95, loc=Sample_Mean, scale=sigma, df=(len(Sample_Ages)-1))"
      ],
      "execution_count": 311,
      "outputs": [
        {
          "output_type": "execute_result",
          "data": {
            "text/plain": [
              "(22.891235798797453, 25.023049915488258)"
            ]
          },
          "metadata": {
            "tags": []
          },
          "execution_count": 311
        }
      ]
    },
    {
      "cell_type": "markdown",
      "metadata": {
        "id": "zUBqeIdiG_2f",
        "colab_type": "text"
      },
      "source": [
        "Alternatively, StatsModels has a method `tconfint_mean(alpha=)` to calculate the confidence interval off of the `DescrStatsW(somearray)` object."
      ]
    },
    {
      "cell_type": "code",
      "metadata": {
        "id": "YPxrKX2mGnx5",
        "colab_type": "code",
        "outputId": "11e7769f-0f7a-46a9-9a8a-7ee368081189",
        "colab": {
          "base_uri": "https://localhost:8080/",
          "height": 34
        }
      },
      "source": [
        "# Statsmodels method. Note here alpha really means alpha unlike in SciPy\n",
        "sm.stats.DescrStatsW(Sample_Ages).tconfint_mean(alpha=0.05)"
      ],
      "execution_count": 312,
      "outputs": [
        {
          "output_type": "execute_result",
          "data": {
            "text/plain": [
              "(22.891235798797453, 25.023049915488258)"
            ]
          },
          "metadata": {
            "tags": []
          },
          "execution_count": 312
        }
      ]
    },
    {
      "cell_type": "markdown",
      "metadata": {
        "id": "kU9wtNO07nav",
        "colab_type": "text"
      },
      "source": [
        "Our interval here argues that, if we repeatedly randomly sample from our population, 95% of the sample means would fall within this range. Looking at the two means and give the sample size, this makes sense:"
      ]
    },
    {
      "cell_type": "code",
      "metadata": {
        "id": "1UNbWxCi7ibG",
        "colab_type": "code",
        "outputId": "c54561c2-f2d9-4cd4-c684-6fb7aa63cb36",
        "colab": {
          "base_uri": "https://localhost:8080/",
          "height": 34
        }
      },
      "source": [
        "(Sample_Mean, Population_Mean)"
      ],
      "execution_count": 313,
      "outputs": [
        {
          "output_type": "execute_result",
          "data": {
            "text/plain": [
              "(23.957142857142856, 34.248)"
            ]
          },
          "metadata": {
            "tags": []
          },
          "execution_count": 313
        }
      ]
    },
    {
      "cell_type": "markdown",
      "metadata": {
        "id": "g479p-X984gC",
        "colab_type": "text"
      },
      "source": [
        "And even if we increase our confidence level to 99%, thus widening the interval of the ranges we are \"sure\" of, it still doesn't include the population mean."
      ]
    },
    {
      "cell_type": "code",
      "metadata": {
        "id": "USMxu5PJ816f",
        "colab_type": "code",
        "outputId": "7afd1e4e-a524-4d2c-9e36-71d3a60ee5f1",
        "colab": {
          "base_uri": "https://localhost:8080/",
          "height": 34
        }
      },
      "source": [
        "stats.t.interval(alpha=0.99, loc=Sample_Mean, scale=sigma, df=(len(Sample_Ages)-1))\n",
        "# Alternatively sm.stats.DescrStatsW(Sample_Ages).tconfint_mean(alpha=0.01)"
      ],
      "execution_count": 314,
      "outputs": [
        {
          "output_type": "execute_result",
          "data": {
            "text/plain": [
              "(22.541784314157187, 25.372501400128524)"
            ]
          },
          "metadata": {
            "tags": []
          },
          "execution_count": 314
        }
      ]
    },
    {
      "cell_type": "markdown",
      "metadata": {
        "id": "zZ005sJn7e0W",
        "colab_type": "text"
      },
      "source": [
        "But we should also be able to compute this manually. To do so, we first need to compute a critical value at our confidence level (let's say 95%). As we've seen earlier, we can use the `ppf` function to look for a value below which that the inputted percentage point (our confidence level) lays.\n",
        "\n",
        "However, this is a two-tailed test so we must spread our uncertainty across the two tails of the distribution. As such we distribute half of alpha (0.05 / 2 = 0.025) to each half and input .95 + 0.025 (0.975) into our ppf (or $(1+confidence)/2$)."
      ]
    },
    {
      "cell_type": "code",
      "metadata": {
        "id": "MMy_2rJA93wz",
        "colab_type": "code",
        "colab": {}
      },
      "source": [
        "# Calculating the critical value\n",
        "critval = stats.t(df=(len(Sample_Ages)-1)).ppf((0.95+1)/2) # so ppf(0.975)\n",
        "# alternatively critval = stats.t(df=(len(Sample_Ages)-1)).isf(0.025)"
      ],
      "execution_count": 0,
      "outputs": []
    },
    {
      "cell_type": "markdown",
      "metadata": {
        "id": "K_R_x60JSk_5",
        "colab_type": "text"
      },
      "source": [
        "Once the critical value is calculated, we can then calculate the confidence interval which is simply the mean +/- the critical value times sigma."
      ]
    },
    {
      "cell_type": "code",
      "metadata": {
        "id": "Jo78ZNJT934M",
        "colab_type": "code",
        "outputId": "1c30690c-fdb6-42e8-ef14-78c45b4c538d",
        "colab": {
          "base_uri": "https://localhost:8080/",
          "height": 34
        }
      },
      "source": [
        "# Calculating the confidence interval\n",
        "interval_left = Sample_Mean - (critval * sigma)\n",
        "interval_right = Sample_Mean + (critval * sigma)\n",
        "\n",
        "(interval_left, interval_right)"
      ],
      "execution_count": 316,
      "outputs": [
        {
          "output_type": "execute_result",
          "data": {
            "text/plain": [
              "(22.891235798797453, 25.023049915488258)"
            ]
          },
          "metadata": {
            "tags": []
          },
          "execution_count": 316
        }
      ]
    },
    {
      "cell_type": "markdown",
      "metadata": {
        "id": "buqzoY6M15Gq",
        "colab_type": "text"
      },
      "source": [
        "Which returns the same confidence interval as before."
      ]
    },
    {
      "cell_type": "markdown",
      "metadata": {
        "id": "EYaZCKs_ig3V",
        "colab_type": "text"
      },
      "source": [
        "### Two Dependent Samples (Paired) <a name=\"t_two_dep_samples\"></a>\n",
        "\n",
        "In an dependent (or \"paired\") t-test, we compare compare samples taken from the ***same*** group, though they have been exposed to different treatments. As such, you will end up with two datasets and can literally pair up observations between the individuals in each group. This means we use a modified t-statistic that is based on the mean difference as well as the standard deviation of the difference between the two samples. Any test for normality would also be on the difference between the means.\n",
        "\n",
        "Conducting the test however is mechanically similar to before. Let's rename some data pulled from previously created samples to be consistent with the scenario:"
      ]
    },
    {
      "cell_type": "code",
      "metadata": {
        "id": "yaG8U2ZIsQYe",
        "colab_type": "code",
        "colab": {}
      },
      "source": [
        "# Renaming the data we created to be consistent with the scenario\n",
        "# A paired test should be the same size, so let's pull 15 out of both sets randomly\n",
        "Treatment_A = np.random.choice(Sample_Ages_A, size=15, replace=False)\n",
        "Treatment_B = np.random.choice(Sample_Ages_B, size=15, replace=False)"
      ],
      "execution_count": 0,
      "outputs": []
    },
    {
      "cell_type": "markdown",
      "metadata": {
        "id": "DzsASizHsfyc",
        "colab_type": "text"
      },
      "source": [
        "And now our scenario:\n",
        "\n",
        "***Given `Treatment_A` and `Treatment_B` are individuals from the same group but different treatments, is their difference statistically significant?***\n",
        "\n",
        "**Null Hpothesis:** $\\mu_d = 0$\n",
        "(the two means are equal)\n",
        "\n",
        "**Alternative Hypothesis:** $\\mu_d \\ne 0$\n",
        "(the two means are not equal)\n",
        "\n",
        "Scipy has a function for this (Statsmodels does not appear to yet). As we've shown a lot of the background in previous examples, we'll just show the test here."
      ]
    },
    {
      "cell_type": "code",
      "metadata": {
        "id": "_WSIyU51v5wN",
        "colab_type": "code",
        "outputId": "c710fa4c-876a-4a61-a5f4-cbb5f11f1336",
        "colab": {
          "base_uri": "https://localhost:8080/",
          "height": 34
        }
      },
      "source": [
        "# Performing the paired t-test\n",
        "stats.ttest_rel(a=Treatment_A, b=Treatment_B)\n",
        "# And that's it!"
      ],
      "execution_count": 318,
      "outputs": [
        {
          "output_type": "execute_result",
          "data": {
            "text/plain": [
              "Ttest_relResult(statistic=-0.4567754538076584, pvalue=0.65483917443199)"
            ]
          },
          "metadata": {
            "tags": []
          },
          "execution_count": 318
        }
      ]
    },
    {
      "cell_type": "markdown",
      "metadata": {
        "id": "92ty2To4wSUP",
        "colab_type": "text"
      },
      "source": [
        "The implementation then is pretty simple, and here we can see the returned p-value is less than 0.05, thus we can reject the null hypothesis at the 95% confidence interval with evidence that there is a significant difference.\n",
        "\n",
        "Note that while this is simple here, the function does not have a parameter for if you wanted to test there being an explicit difference between the two sample means (rather than that difference being 0 as is here). If we needed this, we might have to hard-code it."
      ]
    },
    {
      "cell_type": "markdown",
      "metadata": {
        "id": "ImnoH-mGzdGz",
        "colab_type": "text"
      },
      "source": [
        "### Two Independent Samples (Unpaired) <a name=\"t_two_ind_samples\"></a>\n",
        "\n",
        "In an independent (or \"unpaired\") t-test, we compare samples from two ***different*** groups, though these groups may be exposed to the same treatment. Since they are from two different groups and here we are comparing the means of each sample directly (rather than subtracting each pair as in the paired test), the groups do not need to be of the same size.\n",
        "\n",
        "The t-statistic here then subtracts the means of each sample in the numerator as well as the expected difference between the two groups (though this is usually 0 and thus drops out). In the denomenator the standard errors must be pooled together. The degrees of freedom are pooled similarly (here, df = n1 + n2 - 2). Mechanically this is similar to the two sample z-test example we worked earlier, so we won't address that here.\n",
        "\n",
        "One assumption of this test however is that, whereas the sample sizes may differ, it expects homogenity of variance amongst the two samples-- that is, it expects **homoscedasticity**. There are a few tests for this, including the ability of using the f-test and Levene's test, but we'll use Levene's here as it is acknowledged as rather robust.\n",
        "\n",
        "If the two samples were not homoscedastic, we might could perform a **Welch's t-test** instead which does not make this assumption.\n",
        "\n",
        "Levene's test tests under the null hypothesis that all samples are taken with populations with equal variances. That is, low p-values will cause us to reject the null and believe they actually do have different variances. As such, in this case, we want a high p-value.\n",
        "\n",
        "Scipy has a simple function for this as implemented below. Let's use our `Sample_Ages_A` and `Sample_Ages_B`:"
      ]
    },
    {
      "cell_type": "code",
      "metadata": {
        "id": "cjO6VVnL2JYD",
        "colab_type": "code",
        "outputId": "a2f7d300-3ab1-4fb0-eb9f-bf2a36a29754",
        "colab": {
          "base_uri": "https://localhost:8080/",
          "height": 34
        }
      },
      "source": [
        "# Implementing Levene's test to test for homoscedasticity\n",
        "stats.levene(Sample_Ages_A, Sample_Ages_B)"
      ],
      "execution_count": 319,
      "outputs": [
        {
          "output_type": "execute_result",
          "data": {
            "text/plain": [
              "LeveneResult(statistic=0.052421496239700105, pvalue=0.8195892252565622)"
            ]
          },
          "metadata": {
            "tags": []
          },
          "execution_count": 319
        }
      ]
    },
    {
      "cell_type": "markdown",
      "metadata": {
        "id": "fEvC0Xut2n-c",
        "colab_type": "text"
      },
      "source": [
        "The p-value here is particularly high, certainly higher than any alpha level we would use, so we can work under the assumption of homoscedasticity.\n",
        "\n",
        "Now, let's implement the t-test on our two samples with this scenario.\n",
        "\n",
        "***Given `Sample_Ages_A` and `Sample_Ages_B` as two independent samples, is the difference in their means statistically significant?***\n",
        "\n",
        "**Null Hpothesis:** $\\mu_a = \\mu_b$\n",
        "\n",
        "**Alternative Hypothesis:** $\\mu_a \\ne \\mu_b$\n",
        "\n",
        "As this is a common test, there are a number of different ways to implement. Let's run each below the given scenario:"
      ]
    },
    {
      "cell_type": "code",
      "metadata": {
        "id": "MCn9MsvE3BaD",
        "colab_type": "code",
        "outputId": "65e4d39d-d3ad-4485-c479-b5e71d7784fb",
        "colab": {
          "base_uri": "https://localhost:8080/",
          "height": 34
        }
      },
      "source": [
        "# Scipy's ttest_ind\n",
        "# equal_var is whether or not the variances are equal\n",
        "# If set to false, performs a Welch's t-test instead\n",
        "stats.ttest_ind(a=Sample_Ages_A, b=Sample_Ages_B, equal_var=True)"
      ],
      "execution_count": 320,
      "outputs": [
        {
          "output_type": "execute_result",
          "data": {
            "text/plain": [
              "Ttest_indResult(statistic=-4.048838367272335, pvalue=0.00013427238389162924)"
            ]
          },
          "metadata": {
            "tags": []
          },
          "execution_count": 320
        }
      ]
    },
    {
      "cell_type": "code",
      "metadata": {
        "id": "LAb6MEWd3Bgr",
        "colab_type": "code",
        "outputId": "c46a72a7-a395-4fe9-8613-c81e09660872",
        "colab": {
          "base_uri": "https://localhost:8080/",
          "height": 34
        }
      },
      "source": [
        "# Scipy's ttest_ind_from_stats\n",
        "# This one is useful for when you don't have both full sample arrays but do have their statistics\n",
        "# It also takes equal_var as a parameter\n",
        "stats.ttest_ind_from_stats(mean1=Sample_Ages_A.mean(), # First sample mean\n",
        "                           std1=Sample_Ages_A.std(ddof=1), # First sample standard deviation\n",
        "                           nobs1=len(Sample_Ages_A), # First sample size\n",
        "                           mean2=Sample_Ages_B.mean(), # Second sample mean\n",
        "                           std2=Sample_Ages_B.std(ddof=1), # Second sample standard deviation\n",
        "                           nobs2=len(Sample_Ages_B), # Second sample size\n",
        "                           equal_var=True) # if false performs Welch's t-test"
      ],
      "execution_count": 321,
      "outputs": [
        {
          "output_type": "execute_result",
          "data": {
            "text/plain": [
              "Ttest_indResult(statistic=-4.048838367272335, pvalue=0.00013427238389162924)"
            ]
          },
          "metadata": {
            "tags": []
          },
          "execution_count": 321
        }
      ]
    },
    {
      "cell_type": "code",
      "metadata": {
        "id": "YeV7_1Jt3Bol",
        "colab_type": "code",
        "outputId": "26012484-a1ba-478a-b8db-0549daf1d2dd",
        "colab": {
          "base_uri": "https://localhost:8080/",
          "height": 34
        }
      },
      "source": [
        "# Statsmodels's ttest_ind\n",
        "# This has the utility of setting the value and alternative parameters\n",
        "sm.stats.ttest_ind(x1=Sample_Ages_A, x2=Sample_Ages_B,\n",
        "                   alternative='two-sided', value=0) # value represents the hypothesized difference between the means if any\n",
        "\n",
        "# returns (t-stat, p-value, degrees of freedom)"
      ],
      "execution_count": 322,
      "outputs": [
        {
          "output_type": "execute_result",
          "data": {
            "text/plain": [
              "(-4.048838367272335, 0.00013427238389162924, 68.0)"
            ]
          },
          "metadata": {
            "tags": []
          },
          "execution_count": 322
        }
      ]
    },
    {
      "cell_type": "markdown",
      "metadata": {
        "id": "-thYVBlK6vz2",
        "colab_type": "text"
      },
      "source": [
        "As we can see here all versions return the same p-value, one small enough that we can reject the null with a more than 99% confidence. That is we have evidence that the difference between the two samples is statistically significant."
      ]
    },
    {
      "cell_type": "markdown",
      "metadata": {
        "id": "YXPgUvtlOuOO",
        "colab_type": "text"
      },
      "source": [
        "### Welch's T-test <a name=\"welch\"></a>\n",
        "\n",
        "Welch's T-test is a modification of the (unpaired) two sample independent t-test to account for unequal variance. Mechanically it is otherwise simpler.\n",
        "\n",
        "While the standard independent t-test outperforms Welch's t-test when two samples have equal variance, Welch's t-test is considered by many experts to be the more robust of the two tests and in most cases provides comparable results to the independent t-test even when variances are equal (the main exception being small sample sizes). As such, and given that variances may not be equal in the real world, **many experts believe it safe to use Welch's t-test as the default (that is, between the two) without even needing to test for homoscedasticity.**\n",
        "\n",
        "Welch's t-test is built in to many of the standard Python functions. For the Scipy versions of the test, simply set `equal_var` to false. For the Statsmodels version of the test, set `usevar` to \"unequal\", and the Welch's test will trigger automatically."
      ]
    },
    {
      "cell_type": "markdown",
      "metadata": {
        "id": "5XQA_6rbzdKt",
        "colab_type": "text"
      },
      "source": [
        "## ANOVA <a name=\"ANOVA\"></a>\n",
        "\n",
        "### Conceptual Background\n",
        "\n",
        "ANOVA stands for \"Analaysis of Variance\" and is used to examine significant difference among 3 different populations. Whereas it is possible to glean information similar to the standard ANOVA by running multiple t-tests, doing so increases the **family-wise error rate** which is the probability of making false discoveries (Type I errors) when performing multiple hypothesis tests.\n",
        "\n",
        "**Note that the family-wise error rate of a test can be calculated as $\\bar{\\alpha} = 1 - (1 - \\alpha_{comparison})^k$ where $k$ is the number of tests and $\\alpha_{comparison}$ the significance level of each test. This is the overall confidence level of multiple tests due to Type I errors. This then gives you the chance that at least one of the k tests is incorrect due to Type I errors.**\n",
        "\n",
        "Using ANOVA, however, controls for this, thus producing more robust results.\n",
        "\n",
        "ANOVA may be thought of as a collection of statistical tests, but At its base, ANOVA tests for an association between a categorical predictor variable (or factor), with various \"levels,\" and a response variable. As such, it utilizes the a different test statistic-- the **F-statistic** (and accordingly, the f-distribution).\n",
        "\n",
        "### F-statistic\n",
        "\n",
        "As we are comparing multiple groups in ANOVA, the F-statistic is a ratio of variance of that between groups vs that within groups. Accordingly, the f-distribution takes both between-group degrees of freedom and within-group degrees of freedom as parameters.\n",
        "\n",
        "Specifically for a simple (one-way) ANOVA:\n",
        "* $F = \\frac{between-group \\ variance}{within-group \\ variance}$\n",
        "* Degrees of Freedom:\n",
        " * Between groups: $k - 1$, where k is the number of levels\n",
        " * Within group: $n - k$, where n is the overall sample size\n",
        "\n",
        "In order to compute the F-statistic, other mathematical concepts are required. These are generally tabulated together in an **ANOVA table** to report both variance stastitics and calculate the F-statistic:\n",
        "* **Sum of Squares Between Groups (SSB)** - Measures variability between groups\n",
        "* **Mean Squares Between Groups (MSB)** - Measures between-group variance. This is equal to the SSB divided by the between group degrees of freedom.\n",
        "* **Sum of Squares Within Groups (SSW)** - Measures within-group variability\n",
        "* **Mean Squares Within Groups (MSW)** - Measure within-group variance. This is equal to the SSW divided by the wtihin-group degrees of freedom.\n"
      ]
    },
    {
      "cell_type": "markdown",
      "metadata": {
        "id": "jHnyCQRbyqsL",
        "colab_type": "text"
      },
      "source": [
        "### Types of ANOVA <a name=\"anova_types\"></a>\n",
        "\n",
        "As noted, ANOVA can be said to be a family of statistical tests:\n",
        "\n",
        "* **(Basic) ANOVA** - Tests for mean differences between 3 or more groups by a continuous response variable. There are two main types:\n",
        " * **One-Way ANOVA** - Tests a single factor (with multiple levels/groups) against a single response variable\n",
        " * **Two-Way (or n-way) ANOVA** - Tests levels from multiple factors (two or more) against a single response variable\n",
        "* **ANCOVA** - Analysis of Covariance. Includes both a categorical factor and a contiunous variable (the **\"covariate\"**) as independent variables against the continuous response variable (the dependent). The covariate is useful as a control as the dependent variable is expected to also vary in accordance with the covariate (often called the \"confounding\" variable).\n",
        " * Can run one or two-way ANCOVAs.\n",
        " * This can be modelled through regression.\n",
        "* **MANOVA** - Multivariate Analysis of Variance. ANOVA but will multiple continuous response variable. Similarly can have one or two-way variants.\n",
        "* **MANCOVA** - Multiavariate Analysis of Variance. I.e. the MANOVA version of ANCOVA. Multiple response variables viewed via a independent categorical and independent continous."
      ]
    },
    {
      "cell_type": "markdown",
      "metadata": {
        "id": "ggIlj28A36Ae",
        "colab_type": "text"
      },
      "source": [
        "### One-way ANOVA <a name=\"one_way_anova\"></a>\n",
        "\n",
        "A One-Way ANOVA asks whether there is any signifianct difference between the means of the relevant groups. The null then is that the means of each group are equal in the population. The altnerative hypothesis does ***not*** tell us which group's mean is significantly different from the rest. As such, if a significant difference is found, one could then do post-hoc testing to drill down to find further information. However, this is still useful for examining multiple groups at once (for instance, in exploratory data analysis).\n",
        "\n",
        "Mechnically this test works similar to other test in that a test statistic is calculated (here the F-statistic) and is compared to the appropriate distribution (the F-distribution here) to return a p-value. One can see why this test does not tell us which group is more different when reviewing that the F-statistic pools together the ratio of variances for all groups.\n",
        "\n",
        "Let's set up a scenario given the samples we have created so far.\n",
        "\n",
        "***Given Samples A, B, X, and Y, are the means of the corresponding populations all the same?***\n",
        "\n",
        "**Null Hpothesis:** $\\mu_a = \\mu_b = \\mu_x = \\mu_y$\n",
        "\n",
        "**Alternative Hypothesis:** There exists at least one significant difference between the populations.\n",
        "(Note that this is ***not*** the same as saying all the populations are different)\n",
        "\n",
        "Scipy has a function `f_oneway` for this taking the various samples as array arguments.\n",
        "\n",
        "\n"
      ]
    },
    {
      "cell_type": "code",
      "metadata": {
        "id": "toQpbm1gsI9k",
        "colab_type": "code",
        "outputId": "78f7cd28-3e46-4f27-ac77-ae777d73e28c",
        "colab": {
          "base_uri": "https://localhost:8080/",
          "height": 34
        }
      },
      "source": [
        "stats.f_oneway(Sample_Ages_A, Sample_Ages_B, Sample_X, Sample_Y)"
      ],
      "execution_count": 323,
      "outputs": [
        {
          "output_type": "execute_result",
          "data": {
            "text/plain": [
              "F_onewayResult(statistic=158.32766919786576, pvalue=6.9936281105958905e-59)"
            ]
          },
          "metadata": {
            "tags": []
          },
          "execution_count": 323
        }
      ]
    },
    {
      "cell_type": "markdown",
      "metadata": {
        "id": "7ekMJ5a3Bccx",
        "colab_type": "text"
      },
      "source": [
        "This returns the F-statistic and the p-value. We can interpret the p-value in the same way as before. The p-value is far smaller than 0.01, so we can say that, with beyond a 99% confidence level, that the means are not equal.\n",
        "\n",
        "This report is somewhat wanting however as it doesn't report relevant factors like the degrees of freedom. One way to get this all quickly would be to use Statsmodels regression function `ols` and dummy-coding the categorical variables.\n",
        "\n",
        "From here, we could do a few post-hoc tests to see which groups really differ:\n",
        "* **Fisher's Least Significant Difference** - Effectively a series of pair-wise t-tests. We did not *begin* with this both for time and family-wise error rate, but since ANOVA has shown a difference, we (arguably) safely expect to find one here.\n",
        "* **Bonferroni Correction** - Again do multiple t-tests, but consider your alpha level to be that used in the ANOVA divided by the number of tests done. This effectively makes it \"harder\" to reject the null in the t-test to avoid family-wise errors, but it is arguably unnecessarily conservative.\n",
        "* **Tukey HSD (Honestly Significant Difference) test** - Another pair-wise test with a different metric. This test is also considered conservative. Statsmodels has an [implementation](https://www.statsmodels.org/stable/generated/statsmodels.stats.multicomp.pairwise_tukeyhsd.html) of this."
      ]
    },
    {
      "cell_type": "markdown",
      "metadata": {
        "id": "PHAhhVj-HaQy",
        "colab_type": "text"
      },
      "source": [
        "### (n-way) ANOVA and ANCOVA <a name=\"n_anova_ancova\"></a>\n",
        "\n",
        "In an n-way ANOVA, we compare multiple categorical factors against a response variable. In Python, this can be done through regression with coding of variables. Here is a [handy tutorial](https://pythonfordatascience.org/anova-2-way-n-way/) on this.\n",
        "\n",
        "In ANCOVA we include a covariate (a continuous independent variable we expect the response to vary with) along with our categorical independent. In Python, this also is best-modelled through regression."
      ]
    },
    {
      "cell_type": "markdown",
      "metadata": {
        "id": "lGA0T-lwH7Gq",
        "colab_type": "text"
      },
      "source": [
        "### MANOVA <a name=\"MANOVA\"></a>\n",
        "\n",
        "MANOVA includes multiple response variables but otherwise is similar to ANOVA methodology. Importantly, it is a multivariate analysis. It can also be worked through regression, though Statsmodels has a [specific implementation](https://www.statsmodels.org/stable/generated/statsmodels.multivariate.manova.MANOVA.html) for MANOVA. Also here is a [handy tutorial](https://www.marsja.se/python-manova-made-easy-using-statsmodels/) for MANOVA in Python."
      ]
    },
    {
      "cell_type": "markdown",
      "metadata": {
        "id": "9TOSoWITEmc1",
        "colab_type": "text"
      },
      "source": [
        "# Nonparametric Tests <a name=\"nonparametric\"></a>\n",
        "\n",
        "Unlike parametric tests which make assumptions about the statistics of the population distribution (and accordingly assumes the statistical distribution can be modelled with a fixed parameter set), nonparametric tests make no (or at least minimal) such assumptions.\n",
        "\n",
        "While nonparametric tests then allow for tests that don't require drawing from a specific distribution or large sample sizes and thus are more robust, they are comparatively less powerful in instances where a parametric test would be valid. \n",
        "\n",
        "In statistics, **power** means the probability to properly reject the null hypothesis. As such, nonparametrics tests being less powerful compared to valid parametric test, means they may be more prone to Type II errors."
      ]
    },
    {
      "cell_type": "markdown",
      "metadata": {
        "id": "Be69pqB4YQxc",
        "colab_type": "text"
      },
      "source": [
        "## Normality Testing <a name=\"normality_testing\"></a>\n",
        "\n",
        "One reason you might decide to use a nonparametric test is if you suspect your distribution is non-normal, or more precisely, deviates from the normal in a manner too extreme to perform your parametric test.\n",
        "\n",
        "It is worth remembering, however, that a parametric test may be robust to non-normal distributions at large n due to the Central Limit Theorum. Moreover, all distributions will of course have some deviation from the normal (however large or small).\n",
        "\n",
        "As such, while the methods below should certainly be considered, normality testing is more likely useful at small sample sizes or in large sample sizes when the deviation from the normal (such as by skewness) is particularly extreme. Otherwise, evidence of a non-normal distribution does not necessarily indicate sufficient reason to use a non-parametric test."
      ]
    },
    {
      "cell_type": "markdown",
      "metadata": {
        "id": "gvdrZeHlMd-E",
        "colab_type": "text"
      },
      "source": [
        "### Skewness <a name=\"skewness\"></a>\n",
        "\n",
        "One case in which a non-parametric test may be prefered is when the data is particularly skewed.\n",
        "\n",
        "Let's create some skewed data to visualize. Scipy has a `skewnorm` function for this wherein its parameter `a` reflects the degree of skew."
      ]
    },
    {
      "cell_type": "code",
      "metadata": {
        "id": "kUq_oKCtBaff",
        "colab_type": "code",
        "outputId": "8611d6f3-9481-4556-9b8d-2fd33a4a35ae",
        "colab": {
          "base_uri": "https://localhost:8080/",
          "height": 274
        }
      },
      "source": [
        "# Creating a visualizing the skewed data\n",
        "# \"a\" is a parameter denoting how much to skew the data\n",
        "Sample_Skew = stats.skewnorm(a=-20).rvs(size=100, random_state=1)\n",
        "sns.distplot(Sample_Skew)\n",
        "plt.show()"
      ],
      "execution_count": 324,
      "outputs": [
        {
          "output_type": "display_data",
          "data": {
            "image/png": "[encoded data removed]",
            "text/plain": [
              "<Figure size 432x288 with 1 Axes>"
            ]
          },
          "metadata": {
            "tags": []
          }
        }
      ]
    },
    {
      "cell_type": "markdown",
      "metadata": {
        "id": "QY32BCBjPN66",
        "colab_type": "text"
      },
      "source": [
        "The data in the above graph is clearly skewed to the left. One way to calculate a sense of skew is:\n",
        "\n",
        "$skewness = \\frac{3 (mean - median)}{standard deviation}$\n",
        "\n",
        "This method is one of Pearson's coefficient of skewness methods, though there are others. We'll calculate this coefficient below."
      ]
    },
    {
      "cell_type": "code",
      "metadata": {
        "id": "O9Nh56i93m-6",
        "colab_type": "code",
        "colab": {
          "base_uri": "https://localhost:8080/",
          "height": 34
        },
        "outputId": "91e493ec-cd9f-40a9-d892-94e7540d8abf"
      },
      "source": [
        "# Calculating the skew coefficient\n",
        "skew = 3 * (np.mean(Sample_Skew) - np.median(Sample_Skew)) / Sample_Skew.std()\n",
        "skew"
      ],
      "execution_count": 410,
      "outputs": [
        {
          "output_type": "execute_result",
          "data": {
            "text/plain": [
              "-0.3933571613867879"
            ]
          },
          "metadata": {
            "tags": []
          },
          "execution_count": 410
        }
      ]
    },
    {
      "cell_type": "markdown",
      "metadata": {
        "id": "P6CK7HEB8RvG",
        "colab_type": "text"
      },
      "source": [
        "The negative sign indicates the data is skewed to the left. To make sense of the magnitude however, we also need the **standard error of skewness (SES)** which is the measure of deviations within random subsets of the data (the formula for this can be reduced to only require n as an input). We'll create a function for that below (Scipy does not appear to have an implementation of this)."
      ]
    },
    {
      "cell_type": "code",
      "metadata": {
        "id": "VDv2eanqScgZ",
        "colab_type": "code",
        "colab": {}
      },
      "source": [
        "# Function for standard error of skewness\n",
        "def s_error_skew(n):\n",
        "  standard_error_skewness = np.sqrt(((6*n)*(n-1))/((n-2)*(n+1)*(n+3)))\n",
        "  return standard_error_skewness"
      ],
      "execution_count": 0,
      "outputs": []
    },
    {
      "cell_type": "markdown",
      "metadata": {
        "id": "Aul_c3apAs5U",
        "colab_type": "text"
      },
      "source": [
        "The actual value we then scrutinize is the ratio of the the skew coefficienct to the SES, calculated below."
      ]
    },
    {
      "cell_type": "code",
      "metadata": {
        "id": "Xl9wnZ7YVWyb",
        "colab_type": "code",
        "outputId": "b063502a-c372-4042-b46c-84cec3dcf315",
        "colab": {
          "base_uri": "https://localhost:8080/",
          "height": 34
        }
      },
      "source": [
        "# Calculating the SES for our example\n",
        "SES = s_error_skew(len(Sample_Skew))\n",
        "\n",
        "# Then showing the ratio\n",
        "skew / SES"
      ],
      "execution_count": 405,
      "outputs": [
        {
          "output_type": "execute_result",
          "data": {
            "text/plain": [
              "-1.6296193614519452"
            ]
          },
          "metadata": {
            "tags": []
          },
          "execution_count": 405
        }
      ]
    },
    {
      "cell_type": "markdown",
      "metadata": {
        "id": "-XdyKVNbA8fQ",
        "colab_type": "text"
      },
      "source": [
        "When determining whether the data is \"too skewed\" we consider the ratio of skewness to the SES. If that value approaches 2 or greater (in either direction), the data is likely too skewed to be meaningfully used with the t-test (though other parametric tests may accomodate the skew more appropriately). The \"greater than 2\" rule here comes from asking whether the skewness falls within a range of the standard error of skewness in either direction. So if the skewness value is greater than twice the standard error of skewness (pos or neg), it can't possibily fall in that range. In this case, the data may not be too skewed to use with a t-test given the sample size, but we should investigate our assumptions.\n",
        "\n",
        "There are other metrics of skewness, however. For instance, Scipy has an implementation returning a version called the Fischer-Pearson coefficient, calculated below:"
      ]
    },
    {
      "cell_type": "code",
      "metadata": {
        "id": "alTwX3g4M3cI",
        "colab_type": "code",
        "outputId": "c60fc382-fd00-4e51-8478-c0e0d6badf15",
        "colab": {
          "base_uri": "https://localhost:8080/",
          "height": 34
        }
      },
      "source": [
        "# Calculating skew using Scipy\n",
        "stats.skew(Sample_Skew)"
      ],
      "execution_count": 411,
      "outputs": [
        {
          "output_type": "execute_result",
          "data": {
            "text/plain": [
              "-0.9828669843178592"
            ]
          },
          "metadata": {
            "tags": []
          },
          "execution_count": 411
        }
      ]
    },
    {
      "cell_type": "markdown",
      "metadata": {
        "id": "baQRZXPFYC_m",
        "colab_type": "text"
      },
      "source": [
        "A general rule of thumb in evaluating this skewness metric (and many others is):\n",
        "* -0.5 < Skewness < 0.5 - Reasonably normal\n",
        "* -1 < Skewness < -0.5 OR 0.5 < Skewness < 1 - Moderately skewed\n",
        "* Skewness < -1 OR Skewness > 1 - Very skewed\n",
        "\n",
        "However, interpretation should be contextual. Many methods may be robust to skewness, or robust at certain sample sizes. In this particularl case, if we got these skewness values at small sample sizes we should definitely consider a nonparametric test. At very large sample sizes, this may not matter.\n",
        "\n",
        "For instance, when considering means testing, some tests (the t-test included) are robust to non-normality (and thus skewness) at large sample sizes according to the Central Limit Theoreum. As such, even if the sample data is skewed, a t-test may still be appropriate if the sample size is large enough (i.e. n>30 for light skewing). However, the Central Limit Theorum does not tell us \"how large\" is large enough. So with extreme skewing we should consider even larger sample sizes or a nonparametric test.\n",
        "\n",
        "Given the above considerations, a visual consideration of the distribution may suffice in most cases.\n",
        "\n",
        "\n"
      ]
    },
    {
      "cell_type": "markdown",
      "metadata": {
        "id": "bQgEAuTDou06",
        "colab_type": "text"
      },
      "source": [
        "### Kurtosis <a name=\"kurtosis\"></a>\n",
        "\n",
        "Kurtosis refers to the weight of the tails in the distribution compared to that of the normal (which would have a kurtosis of 0 given all correction terms). As such, it refers to the relative distribution of values towards the tails as opposed to the center. It is often referred to as the \"tailed-ness\" of the distribution.\n",
        "\n",
        "Regarding kurtosis, a distribution can be said to be:\n",
        "* **mesokurtic** - No excess kurtosis (i.e. normal)\n",
        "* **leptokurtic** - Positive excess kurtosis -> fatter tails (i.e the t-distribution). \"Lepto\" means \"slender.\"\"\n",
        "* **platykurtic** - Negative excess kurtosis -> thinner tails (i.e. bernoulli distribution). \"Platy\" means \"broad.\"\n",
        "\n",
        "Technically a normal distribution has a kurtosis of 3, so \"excess\" kurtosis is the kurtosis after subtracting 3 as a correction term.\n",
        "\n",
        "Scipy has a function `kurtosis` to calculate this.\n",
        "\n",
        "We could compare some data from a simulated normal and simulated t-distribution as an example."
      ]
    },
    {
      "cell_type": "code",
      "metadata": {
        "id": "vdEpoEsvggr3",
        "colab_type": "code",
        "outputId": "bc77d850-a60c-44af-b96b-d9eac369b659",
        "colab": {
          "base_uri": "https://localhost:8080/",
          "height": 274
        }
      },
      "source": [
        "# Setting up our simulation\n",
        "tsim = stats.t(df=15).rvs(size=10000)\n",
        "nsim = stats.norm.rvs(size=10000)\n",
        "\n",
        "# Visualizing the distribution\n",
        "sns.distplot(tsim, label=\"t distribution\", hist_kws={\"alpha\":0.3})\n",
        "sns.distplot(nsim, label=\"normal distribution\", hist_kws={\"alpha\":0.3})\n",
        "plt.legend()\n",
        "plt.show()"
      ],
      "execution_count": 328,
      "outputs": [
        {
          "output_type": "display_data",
          "data": {
            "image/png": "[encoded data removed]",
            "text/plain": [
              "<Figure size 432x288 with 1 Axes>"
            ]
          },
          "metadata": {
            "tags": []
          }
        }
      ]
    },
    {
      "cell_type": "code",
      "metadata": {
        "id": "ACI3Yn57SpOL",
        "colab_type": "code",
        "outputId": "044b68ef-36f9-4b7b-a8bc-9c39e8295580",
        "colab": {
          "base_uri": "https://localhost:8080/",
          "height": 34
        }
      },
      "source": [
        "# Calculating the kurtosis of both\n",
        "stats.kurtosis(tsim), stats.kurtosis(nsim)"
      ],
      "execution_count": 329,
      "outputs": [
        {
          "output_type": "execute_result",
          "data": {
            "text/plain": [
              "(0.5256838846892031, 0.17168112365237276)"
            ]
          },
          "metadata": {
            "tags": []
          },
          "execution_count": 329
        }
      ]
    },
    {
      "cell_type": "markdown",
      "metadata": {
        "id": "y5HiXGiGVMrd",
        "colab_type": "text"
      },
      "source": [
        "As we can see, the t-distribution has positive excess kurtosis (is leptokurtic), while the normal distribution's kurtosis is close to 0.\n",
        "\n",
        "Values between +1 and -1 are generally considered fine to use in many parametric tests, and values between +2 and -2 can sometimes give useful results also.\n",
        "\n",
        "It is worth noting, however, that inference about means is relatively robust to kurtosis (as seen above, the t-distribution is even expected to have some), while skew may play a more predominant role is deciding if we should use a nonparametric test. As such, kurtosis is often not considered a huge determining factor in whether or not to use a nonparametric test."
      ]
    },
    {
      "cell_type": "markdown",
      "metadata": {
        "id": "SGngV_OAZn8j",
        "colab_type": "text"
      },
      "source": [
        "### Statistical Tests of Normality <a name=\"statistical_tests_normality\"></a>\n",
        "\n",
        "Aside from reviewing measures like kurtosis and skewness directly, a number of statistical tests exist to ascertain whether the population a sample is derived from is likely normal. In such tests, the null hypothesis is that the distribution is normal, and the alternative that it is not.\n",
        "\n",
        "A number of troubles exist when using these tests however:\n",
        "* We expect all distributions to deviate slightly from the normal. As such, many of these tests will result in a statistically significant p-value (for difference from the normal) at high sample sizes. And yet, at high sample sizes, a parametric test may be robust to nonnormality.\n",
        "* At low sample sizes, some of the statistical tests are not powerful enough to detect deviations from the normal.\n",
        "* There is no one nonnormality test that is best for all situations. Some have more or less power in different cases. As such, one would want to study their characteristics and employ the most applicable test.\n",
        "* The tests do ***not*** address the question \"Is this deviation from normality strong enough to not use a parametric test?\". As such, their utility should be considered.\n",
        "\n",
        "For the above reasons, statistical tests for normality may not be particularly useful in many cases where inference about means is employed (or other cases where the Central Limit Theorum would kick in). However, they may be useful in small sample sizes or other unique cases.\n",
        "\n",
        "Given this, we'll not spend time employing such tests here but rather briefly list a few popular ones:\n",
        "* **Jarque-Bera** - Tests whether the skewness and kurtosis of the sample data matches a normal distribution.\n",
        "* **Shapiro-Wilk** - A popular test for non-normality with relatively high power.\n",
        "* **Anderson-Darling** - Another, though generally noted as less power than Shapiro-Wilk\n",
        "* **Kolmogorov–Smirnov** - This one requires that the mean and variance of the normal are assumed known under the null.\n",
        "\n",
        "There are man others. This [blog](https://machinelearningmastery.com/a-gentle-introduction-to-normality-tests-in-python/) and this [wiki page](https://en.wikipedia.org/wiki/Normality_test) discuss some of the utilities between each. Python functions exist for many such cases but will not be covered here."
      ]
    },
    {
      "cell_type": "markdown",
      "metadata": {
        "id": "cSgQmnBSgeuG",
        "colab_type": "text"
      },
      "source": [
        "### Graphical Tests of Normality <a name=\"graphical_tests_normality\"></a>\n",
        "\n",
        "In many cases, given our considerations regarding testing normality above, it may be reasonable to do a simple visualization of the data to test for normality.\n",
        "\n",
        "The simplest method of this is simply to plot a histogram of the distribution. This allows for a quick check of skew, kurtosis, multi-modality, and the general overall shape.\n",
        "\n",
        "Another method worth discussing however is the **QQ-plot** which is the \"Quantile Quantile\" plot. A QQ plot creates an idealized distribution version to compare the sample data against at various quantiles along the probability distribution. The idealized values are represented on one axis with the sample data values on the other axis.\n",
        "\n",
        "So to check for normality, a QQ plot against the normal distribution could be used. If the sample data agrees with the idealized distribution, all points will lie on the 45 degree angle line (where y=x).\n",
        "\n",
        "Statsmodels has an implementation of this we'll use on our skewed data."
      ]
    },
    {
      "cell_type": "code",
      "metadata": {
        "id": "WiAKceYlVHeT",
        "colab_type": "code",
        "outputId": "b2a9b2c5-c766-4773-f478-1d6a68862475",
        "colab": {
          "base_uri": "https://localhost:8080/",
          "height": 291
        }
      },
      "source": [
        "# QQ plot of our sample data with a y=x line\n",
        "# \"fit=True\" passes the sample mean and standard deviation to the distribution\n",
        "# The distribution defaults to normal unless noted otherwise\n",
        "sm.qqplot(Sample_Skew, line='45', fit=True);\n",
        "# Note due to a bug in Jupyter notebooks this will sometimes print two plots.\n",
        "# The way to suppress this is to add the semicolon afte the function call"
      ],
      "execution_count": 330,
      "outputs": [
        {
          "output_type": "display_data",
          "data": {
            "image/png": "[encoded data removed]",
            "text/plain": [
              "<Figure size 432x288 with 1 Axes>"
            ]
          },
          "metadata": {
            "tags": []
          }
        }
      ]
    },
    {
      "cell_type": "markdown",
      "metadata": {
        "id": "9Aicy2srmFic",
        "colab_type": "text"
      },
      "source": [
        "As seen above, we have a number of values departing a good ways below the expected on the left. Given a small sample size, this should give us pause to inspect the distribution in more detail and then consider if a non-parametric is warranted."
      ]
    },
    {
      "cell_type": "markdown",
      "metadata": {
        "id": "Ck7FTEwHnV-P",
        "colab_type": "text"
      },
      "source": [
        "## Resampling <a name=\"resampling\"></a>\n",
        "\n",
        "Resampling refers to nonparametric methods where we \"redraw\" from our sample to make inferences, relying on the deviation inherrent within our sample to help us learn about our uncertainy overall.\n",
        "\n",
        "There are two main methods-- resampling with and without replacement."
      ]
    },
    {
      "cell_type": "markdown",
      "metadata": {
        "id": "gmAPN_DMiHlm",
        "colab_type": "text"
      },
      "source": [
        "### Bootstrapping (Resampling WITH replacement) <a name=\"bootstrapping\"></a>\n",
        "\n",
        "Bootstrapping is resampling with replacement. In bootstrapping we create many (typically >10,000) new samples by drawing out of our sample ***with replacement*** and compute the sample statistic we are interested in from these new samples. The created distribution of this statistic is now our bootstrap distribution. The hope is that this distribution emulates our theoretical sampling distribution, and given that the mean of the sampling distribution ~ the population, this should tell us something about our data.\n",
        "\n",
        "If this seems strange and impossible (hence the term \"bootstrap\" from the impossibility of pulling oneself up by one's own bootstraps), we must remember the assumption here is that the sample is representative of the population. And while stated thusly, this may seem a big ask, we must also remember that all other statistical tests previously employed also rely on similar assumptions. Morever, this mainly is meant to help us learn about our uncertainty by utilizing the deviation already inherrent within our sample. *After all, in many cases, our sample is all we know about the population.*\n",
        "\n",
        "Bootstrapping has the benefits that it makes no assumption about the population distribution, can work with fairly small sizes, and can be used to compute many different aspects about the data (even beyond the mean). It has the down-side (or at least historically did) of being computationally expensive to create many resamples and may not be as powerful as a parametric test when the parametric assumptions hold.\n",
        "\n",
        "Generally bootstrapping is used to create confidence intervals rather that hypothesis testing through p-value. This is because a bootstrap distribution emulates the sampling distribution (and thus, in a way, the alternative hypothesis) rather than the null hypotehsis."
      ]
    },
    {
      "cell_type": "markdown",
      "metadata": {
        "id": "2v4295Omkh9V",
        "colab_type": "text"
      },
      "source": [
        "#### Bootstrapping Confidence Intervals <a name=\"bootstrap_confidence_intervals\"></a>\n",
        "\n",
        "Since bootstrapping emulates the sampling distribution directly (as opposed to parametric distributions like the t which represent the null distribution), once it has been created, we can simply compute confidence intervals from percentiles in the bootstrap distribution.\n",
        "\n",
        "It's worth noting that there are other methodologies (potentially more apt) to calculate confidence intervals from a bootstrap distribution that may be more appropriate, but the percentile method below can be quite reasonable.\n",
        "\n",
        "Let's use `Sample_X` and `Sample_Y` as a demonstration here and assume we were interesting in something like:\n",
        "\n",
        "**Null Hpothesis:** The two samples are drawn from the same distribution.\n",
        "\n",
        "**Alternative Hypothesis:** The two samples are drawn from different distributions.\n",
        "\n",
        "To create a bootstrap confidence interval, all we need are numpy functions.\n",
        "\n",
        "But first, lets examine the means just to have an idea of what to expect."
      ]
    },
    {
      "cell_type": "code",
      "metadata": {
        "id": "-Ba7b7cG8AHd",
        "colab_type": "code",
        "outputId": "0d70886b-c276-46d4-b424-e2d1fb696dbc",
        "colab": {
          "base_uri": "https://localhost:8080/",
          "height": 34
        }
      },
      "source": [
        "# Checking the of our samples\n",
        "Sample_X.mean(), Sample_Y.mean()"
      ],
      "execution_count": 331,
      "outputs": [
        {
          "output_type": "execute_result",
          "data": {
            "text/plain": [
              "(25.14, 36.63)"
            ]
          },
          "metadata": {
            "tags": []
          },
          "execution_count": 331
        }
      ]
    },
    {
      "cell_type": "markdown",
      "metadata": {
        "id": "oerl1Om48Hmg",
        "colab_type": "text"
      },
      "source": [
        "Now we will resample with replacement (i.e. \"bootstrap\") from each sample. Typically this is done 10K or 100K times with a draw the same as the sample size. Numpy's `random.choice()` works perfectly for this.\n",
        "\n",
        "We then compute the mean of each sample and create a new distribution that is the difference of the two samples (if this were a one-sample case, we wouldn't have need for any subtraction)."
      ]
    },
    {
      "cell_type": "code",
      "metadata": {
        "id": "Ss0-Pr1w8G6T",
        "colab_type": "code",
        "outputId": "34a2f11f-bc37-4417-ad17-d96aa8bf0b2a",
        "colab": {
          "base_uri": "https://localhost:8080/",
          "height": 274
        }
      },
      "source": [
        "# Create the bootstrap distribution for Sample_X and Sample_Y\n",
        "boot_X = np.random.choice(Sample_X, size=(len(Sample_X),100000), replace=True).mean(axis=1)\n",
        "boot_Y = np.random.choice(Sample_Y, size=(len(Sample_X),100000), replace=True).mean(axis=1)\n",
        "# In the above, axis=1 will do the mean across each row (i.e. across each new sample)\n",
        "\n",
        "# Create the bootstrap distribution for the difference of means\n",
        "boot_diff = boot_Y - boot_X\n",
        "\n",
        "# Visualize the distribution of the mean differences\n",
        "sns.distplot(boot_diff)\n",
        "plt.show()"
      ],
      "execution_count": 332,
      "outputs": [
        {
          "output_type": "display_data",
          "data": {
            "image/png": "[encoded data removed]",
            "text/plain": [
              "<Figure size 432x288 with 1 Axes>"
            ]
          },
          "metadata": {
            "tags": []
          }
        }
      ]
    },
    {
      "cell_type": "markdown",
      "metadata": {
        "id": "jzWp-RH--xAr",
        "colab_type": "text"
      },
      "source": [
        "The distribution of the difference of means is about what we would expect (centered around 11 something). Note that this distribution represents the emulated sampling distribution of the difference of means.\n",
        "\n",
        "Since it does, we can calculate the confidence interval directly by asking which values cap off a certain percentage of the data (based on our confidence level).\n",
        "\n",
        "We can do this using Numpy's `percentile` function. Let's look at it for a 95% confidence level (two-tailed)."
      ]
    },
    {
      "cell_type": "code",
      "metadata": {
        "id": "v0rfslNImVbi",
        "colab_type": "code",
        "outputId": "f5df1dcd-27bd-4da2-dda0-a3618c964304",
        "colab": {
          "base_uri": "https://localhost:8080/",
          "height": 34
        }
      },
      "source": [
        "# Calculating the confidence interval through bootstrap\n",
        "np.percentile(boot_diff, q=2.5), np.percentile(boot_diff, q=97.5)"
      ],
      "execution_count": 333,
      "outputs": [
        {
          "output_type": "execute_result",
          "data": {
            "text/plain": [
              "(11.447471749999998, 11.52294025)"
            ]
          },
          "metadata": {
            "tags": []
          },
          "execution_count": 333
        }
      ]
    },
    {
      "cell_type": "markdown",
      "metadata": {
        "id": "9QsNfJuL_eT-",
        "colab_type": "text"
      },
      "source": [
        "The confidence interval does not include a mean difference of 0 (nor anywhere close). As such, we would expect to reject the null hypothesis here.\n",
        "\n",
        "But let's get the confidence interval also by the typical t-statistic method to see how close this gets."
      ]
    },
    {
      "cell_type": "code",
      "metadata": {
        "id": "nSQcnuQj3oSc",
        "colab_type": "code",
        "outputId": "1890b336-401b-4500-e46d-16040b697c8e",
        "colab": {
          "base_uri": "https://localhost:8080/",
          "height": 34
        }
      },
      "source": [
        "# Calculating confidence interval by t-test for comparing\n",
        "sm.stats.DescrStatsW(boot_diff).tconfint_mean(alpha=0.05)"
      ],
      "execution_count": 334,
      "outputs": [
        {
          "output_type": "execute_result",
          "data": {
            "text/plain": [
              "(11.48430210923499, 11.492048490765006)"
            ]
          },
          "metadata": {
            "tags": []
          },
          "execution_count": 334
        }
      ]
    },
    {
      "cell_type": "markdown",
      "metadata": {
        "id": "ONmfS3CP_4TN",
        "colab_type": "text"
      },
      "source": [
        "Quite close! The bootstrap confidence interval is ever so slightly wider, so we can see how it might be less powerful than a parametric test, but this works well enough here.\n",
        "\n",
        "Of note, we could also do a bootstrapped distribution of calculated t-statistics as well."
      ]
    },
    {
      "cell_type": "markdown",
      "metadata": {
        "id": "nlwMgwp5pNtR",
        "colab_type": "text"
      },
      "source": [
        "#### Bootstrap Hypothesis Test <a name=\"bootstrap_hypothesis_test\"></a>\n",
        "\n",
        "To do a typical hypothesis test via bootstrap, we aim to simulate the null distribution from our sample and then ask what proportion of (and thus what probability) of the null distribution allows for differences as extreme as what we saw from the two samples.\n",
        "\n",
        "**Again let's use `Sample_X` and `Sample_Y` as our given...**\n",
        "\n",
        "**Null Hpothesis:** The two samples are drawn from the same distribution.\n",
        "\n",
        "**Alternative Hypothesis:** The two samples are drawn from different distributions.\n",
        "\n",
        "First we need to shift our samples so that they are centered around what their values would be if under the null.\n",
        "\n",
        "To do this, we first recognize that, given the null, the two samples come from the same population. So we can emulate that mean by finding the mean after combining both samples."
      ]
    },
    {
      "cell_type": "code",
      "metadata": {
        "id": "0bTyVhZbvUjk",
        "colab_type": "code",
        "outputId": "40d8fc1b-cf3b-48f3-f330-20c6735f842e",
        "colab": {
          "base_uri": "https://localhost:8080/",
          "height": 34
        }
      },
      "source": [
        "# Combining our two samples and finding the mean to emulate that of the null\n",
        "null_mean = np.concatenate((Sample_X, Sample_Y)).mean()\n",
        "null_mean"
      ],
      "execution_count": 335,
      "outputs": [
        {
          "output_type": "execute_result",
          "data": {
            "text/plain": [
              "30.885"
            ]
          },
          "metadata": {
            "tags": []
          },
          "execution_count": 335
        }
      ]
    },
    {
      "cell_type": "markdown",
      "metadata": {
        "id": "bP8nAELu5IO-",
        "colab_type": "text"
      },
      "source": [
        "Then, before we bootstrap, we recenter both samples to where they would be as if the null were true. To do this, we subtract out the current mean of each sample from every point and then add in the mean under the null."
      ]
    },
    {
      "cell_type": "code",
      "metadata": {
        "id": "SfvJ5GBwwZh6",
        "colab_type": "code",
        "colab": {}
      },
      "source": [
        "# Recentering each sample to the mean under the null\n",
        "Sample_X_null = Sample_X - Sample_X.mean() + null_mean\n",
        "Sample_Y_null = Sample_Y - Sample_Y.mean() + null_mean"
      ],
      "execution_count": 0,
      "outputs": []
    },
    {
      "cell_type": "markdown",
      "metadata": {
        "id": "tx3mj27F5ZkJ",
        "colab_type": "text"
      },
      "source": [
        "Now we can bootstrap by drawing (below) 100K samples from each mean and calculating the mean of each. We then subtract the set of means from each other to create the bootstrapped distribution of differences in sample means."
      ]
    },
    {
      "cell_type": "code",
      "metadata": {
        "id": "BEz0Cx7uwkPr",
        "colab_type": "code",
        "outputId": "045766f5-d257-4440-be2e-c5d562519bba",
        "colab": {
          "base_uri": "https://localhost:8080/",
          "height": 274
        }
      },
      "source": [
        "# Creating our null distribution bootstraps for each sample\n",
        "boot_X = np.random.choice(Sample_X_null, size=(len(Sample_X_null),100000), replace=True).mean(axis=1)\n",
        "boot_Y = np.random.choice(Sample_Y_null, size=(len(Sample_Y_null),100000), replace=True).mean(axis=1)\n",
        "\n",
        "# Then creating the boostrap distribution of the mean differences\n",
        "boot_diff = boot_Y - boot_X\n",
        "\n",
        "# Visualizing the differences distribution\n",
        "sns.distplot(boot_diff)\n",
        "plt.show()"
      ],
      "execution_count": 337,
      "outputs": [
        {
          "output_type": "display_data",
          "data": {
            "image/png": "[encoded data removed]",
            "text/plain": [
              "<Figure size 432x288 with 1 Axes>"
            ]
          },
          "metadata": {
            "tags": []
          }
        }
      ]
    },
    {
      "cell_type": "markdown",
      "metadata": {
        "id": "-kZR_s0e9efs",
        "colab_type": "text"
      },
      "source": [
        "The p-value then is the probability of getting a means difference more extreme than what we observed. As such, we'll need to first calculate that (which is the difference between the sample means).\n",
        "\n",
        "Then we simply ask what proportion of the distribution is more extreme than this value (here, in a two-tailed fashion)."
      ]
    },
    {
      "cell_type": "code",
      "metadata": {
        "id": "ga7Ny8y1w9gC",
        "colab_type": "code",
        "outputId": "518dafb8-092f-4b10-9aa2-d1ec0f1fc245",
        "colab": {
          "base_uri": "https://localhost:8080/",
          "height": 34
        }
      },
      "source": [
        "# Find the observed difference between the sample means\n",
        "observed_diff = abs(Sample_Y.mean() - Sample_X.mean())\n",
        "\n",
        "# Calculate the p-value\n",
        "# Here we ask (number of differences more extreme than observed / size of distribution) to get this\n",
        "p = ((boot_diff > observed_diff) + (boot_diff < -observed_diff)).sum()/len(boot_diff)\n",
        "p"
      ],
      "execution_count": 338,
      "outputs": [
        {
          "output_type": "execute_result",
          "data": {
            "text/plain": [
              "0.0"
            ]
          },
          "metadata": {
            "tags": []
          },
          "execution_count": 338
        }
      ]
    },
    {
      "cell_type": "markdown",
      "metadata": {
        "id": "0veOozqv-GK4",
        "colab_type": "text"
      },
      "source": [
        "And as such we got a p-value of 0. This is not impossible in bootstrapping if the difference is very strong and significant. We might have to emulate many many more samples for the null value to show up in the distribution at all if it has such a low chance.\n",
        "\n",
        "In this case though, let's run a t-test to see if the p-value agrees."
      ]
    },
    {
      "cell_type": "code",
      "metadata": {
        "id": "ANuHJpZb26jq",
        "colab_type": "code",
        "outputId": "2c49aa8a-4bfc-4728-ad4c-eb8ca66ec45a",
        "colab": {
          "base_uri": "https://localhost:8080/",
          "height": 34
        }
      },
      "source": [
        "# Checking via a t-test\n",
        "stats.ttest_ind(Sample_X, Sample_Y)"
      ],
      "execution_count": 339,
      "outputs": [
        {
          "output_type": "execute_result",
          "data": {
            "text/plain": [
              "Ttest_indResult(statistic=-17.79085329920223, pvalue=6.2908007458173654e-43)"
            ]
          },
          "metadata": {
            "tags": []
          },
          "execution_count": 339
        }
      ]
    },
    {
      "cell_type": "markdown",
      "metadata": {
        "id": "HblDPn8k-e20",
        "colab_type": "text"
      },
      "source": [
        "Indeed the t-test also finds the p-value to be almost 0. It would be extremely rare to find the observed means difference if the two samples were randomly drawn from the same distribution."
      ]
    },
    {
      "cell_type": "markdown",
      "metadata": {
        "id": "8hoKtxq4ACYL",
        "colab_type": "text"
      },
      "source": [
        "### Permutation Resampling (Resampling WITHOUT replacement) <a name=\"permutation_resampling\"></a>\n",
        "\n",
        "Unlike bootstrapping, permutation resampling works ***without*** replacement. It works by asking what proportion of the possible combinations (if our two samples were actually from the same population) would allow for us to see the observed difference. Note the expectation of two samples here.\n",
        "\n",
        "Mechanically this is similar to a bootstrap except that a permutation resample pulls form the combination of both samples (without replacement). In doing so, it effectively gives us a sense of how \"exchangeable\" the two sample's values are when presuming they are. By pulling from the pooled version of both samples together, permutation resampling emulates the null distribution directly.\n",
        "\n",
        "**Again let's use `Sample_X` and `Sample_Y` as our given...**\n",
        "\n",
        "**Null Hpothesis:** The two samples are drawn from the same distribution.\n",
        "\n",
        "**Alternative Hypothesis:** The two samples are drawn from different distributions.\n",
        "\n",
        "We begin by pooling together both samples into a combined sample so we can emulate the null distribution."
      ]
    },
    {
      "cell_type": "code",
      "metadata": {
        "id": "02h5I-IydE16",
        "colab_type": "code",
        "colab": {}
      },
      "source": [
        "# Combining both samples\n",
        "combined_samp = np.concatenate((Sample_X, Sample_Y))"
      ],
      "execution_count": 0,
      "outputs": []
    },
    {
      "cell_type": "markdown",
      "metadata": {
        "id": "FIsbINIpje54",
        "colab_type": "text"
      },
      "source": [
        "Then we resample from the combined sample similarly to Bootstrapping. At each draw, we emulate two samples by splitting our draw. We then calculate the means of each emulated sample, subtract them, and append that to our distribution of resampled mean difference.\n",
        "\n",
        "While ideally we would calculate the probability out of all possible combinations, that number can be exorbitantly large, and as such we can employ random resampling to estimate this instead."
      ]
    },
    {
      "cell_type": "code",
      "metadata": {
        "id": "ODwTdBukdE_p",
        "colab_type": "code",
        "outputId": "784d279e-c086-4de0-f20f-3dd40cae5dc4",
        "colab": {
          "base_uri": "https://localhost:8080/",
          "height": 274
        }
      },
      "source": [
        "# Creating a variable for our resampling distribution to be stored in\n",
        "resamp_diff=[]\n",
        "\n",
        "# \"Without replacement\" means the size value has to be no larger than the sample, so we loop\n",
        "for i in range(10000):\n",
        "  # Create our draw from the combined sample\n",
        "  resamp = np.random.choice(combined_samp, size=len(combined_samp), replace=False)\n",
        "  # Split that draw in half to create two emulated samples\n",
        "  X, Y = np.split(resamp, 2)\n",
        "  # Calculate the emulated sample means and tack those on to our difference of means distribution \n",
        "  resamp_diff.append(Y.mean() - X.mean())\n",
        "\n",
        "# Converting this to a numpy array for convenience functions (like .sum)  \n",
        "resamp_diff = np.asarray(resamp_diff)    \n",
        "\n",
        "# Visualizing the distribution\n",
        "sns.distplot(resamp_diff)\n",
        "plt.show()"
      ],
      "execution_count": 341,
      "outputs": [
        {
          "output_type": "display_data",
          "data": {
            "image/png": "[encoded data removed]",
            "text/plain": [
              "<Figure size 432x288 with 1 Axes>"
            ]
          },
          "metadata": {
            "tags": []
          }
        }
      ]
    },
    {
      "cell_type": "markdown",
      "metadata": {
        "id": "jytpc45Fk1XN",
        "colab_type": "text"
      },
      "source": [
        "We of course get a distribution centered around 0, as the null distribution is the case that the samples come from the same population (and we would expect their mean differences to be 0).\n",
        "\n",
        "To calculate p values, we ask this distribution what proportion of its values (and thus probability) allow for a value more extreme than our alternative hypothesis.\n",
        "\n",
        "First we calculate our observed test statistic to compare it to, in this case the difference in means."
      ]
    },
    {
      "cell_type": "code",
      "metadata": {
        "id": "ayGFtXrVnwO2",
        "colab_type": "code",
        "outputId": "a844137d-02b7-42cf-a5a0-aae778dc1f21",
        "colab": {
          "base_uri": "https://localhost:8080/",
          "height": 34
        }
      },
      "source": [
        "obs_diff = Sample_Y.mean() - Sample_X.mean()\n",
        "obs_diff"
      ],
      "execution_count": 342,
      "outputs": [
        {
          "output_type": "execute_result",
          "data": {
            "text/plain": [
              "11.490000000000002"
            ]
          },
          "metadata": {
            "tags": []
          },
          "execution_count": 342
        }
      ]
    },
    {
      "cell_type": "markdown",
      "metadata": {
        "id": "2q7PinPEnyHq",
        "colab_type": "text"
      },
      "source": [
        "For an alternative hypothesis where we wanted to know if one of the groups was larger, we could do:"
      ]
    },
    {
      "cell_type": "code",
      "metadata": {
        "id": "Suyk6gpwdFIg",
        "colab_type": "code",
        "outputId": "1b2ff47d-05f6-4fba-c079-5dd3137ee780",
        "colab": {
          "base_uri": "https://localhost:8080/",
          "height": 34
        }
      },
      "source": [
        "# p-value one-tailed\n",
        "(resamp_diff > obs_diff).sum()/len(resamp_diff)"
      ],
      "execution_count": 343,
      "outputs": [
        {
          "output_type": "execute_result",
          "data": {
            "text/plain": [
              "0.0"
            ]
          },
          "metadata": {
            "tags": []
          },
          "execution_count": 343
        }
      ]
    },
    {
      "cell_type": "markdown",
      "metadata": {
        "id": "EDCLr9BxoIlI",
        "colab_type": "text"
      },
      "source": [
        "And for an alternative hypothesis that the two samples are not equal:"
      ]
    },
    {
      "cell_type": "code",
      "metadata": {
        "id": "6GAP-lVrhMw3",
        "colab_type": "code",
        "outputId": "4297f75a-c955-4257-d028-cb35ac3f0aa8",
        "colab": {
          "base_uri": "https://localhost:8080/",
          "height": 34
        }
      },
      "source": [
        "# p-value two-tailed\n",
        "((resamp_diff > obs_diff) + (resamp_diff < -obs_diff)).sum()/len(resamp_diff)"
      ],
      "execution_count": 344,
      "outputs": [
        {
          "output_type": "execute_result",
          "data": {
            "text/plain": [
              "0.0"
            ]
          },
          "metadata": {
            "tags": []
          },
          "execution_count": 344
        }
      ]
    },
    {
      "cell_type": "markdown",
      "metadata": {
        "id": "Bty4FjcgokUI",
        "colab_type": "text"
      },
      "source": [
        "Both of these come to 0 suggesting an extremely low (nonexistant) probability of getting a difference of means this extreme if the null hypothesis were true. This is not impossible in resampling methods, but let's check it by a t-test."
      ]
    },
    {
      "cell_type": "code",
      "metadata": {
        "id": "8QNouQPmhfGP",
        "colab_type": "code",
        "outputId": "adc660e2-b4b9-4d20-cb47-4717330c13d6",
        "colab": {
          "base_uri": "https://localhost:8080/",
          "height": 34
        }
      },
      "source": [
        "stats.ttest_ind(Sample_X, Sample_Y)"
      ],
      "execution_count": 345,
      "outputs": [
        {
          "output_type": "execute_result",
          "data": {
            "text/plain": [
              "Ttest_indResult(statistic=-17.79085329920223, pvalue=6.2908007458173654e-43)"
            ]
          },
          "metadata": {
            "tags": []
          },
          "execution_count": 345
        }
      ]
    },
    {
      "cell_type": "markdown",
      "metadata": {
        "id": "EYYnU0ffo6Bk",
        "colab_type": "text"
      },
      "source": [
        "The t-test agrees that the probability is effectively 0. It might take running an unrealistic number of iterations for the null value to show within the distribution if the differences are very significant."
      ]
    },
    {
      "cell_type": "markdown",
      "metadata": {
        "id": "48AWDxr-y16i",
        "colab_type": "text"
      },
      "source": [
        "## Wilcoxon Rank Sum Test (Mann-Whitney-U) <a name=\"MWW\"></a>\n",
        "**Note: This test has multiple names which are more or less equivalent. It was originated as the Wilcoxon Rank Sum Test with a \"W\" statistic but the expanded on to be more robust by Mann-Whitney as a \"U\" statistic. For independent samples, these two tests are generally equivalent and U ~= W. For more details you'd have to check the documentation in the language used. As such this is often calle dthe \"Mann-Whitney-Wilcoxon\" (MWW).**\n",
        "\n",
        "The MWW test takes advantage of the concept of ***ranking*** data to compute a W statistic and hypothesis test two sample regarding the difference in their **medians** (as opposed to means).\n",
        "\n",
        "It can be used as an alternative to a two-sample t-test when samples are small (though generally greater than 10) and the distributions are nonnormal.\n",
        "\n",
        "When ranking data in a statistical setting, the data from both samples are combined before ranking. The ranks for ties are then averaged.\n",
        "\n",
        "In the test either a W statistic (in the case of the Wilcoxon Rank Sum Test flavor) or a U statistic (in the case of the Mann-Whitney-U flavor) is used. In either case, this statistic is related to the smaller of the two sum of ranks calculated between either sample. This statistic is then generally follows the normal distribution for large enough samples (n>20), but may need be compared to tabulated values for smaller samples.\n",
        "\n",
        "The MWW test is less powerful than some parametric tests (and does not require a normal distribution), but still does make some assumptions:\n",
        "* The two samples come from similar distributions (regardless of what that distribution type actually is)\n",
        "* The two samples are independent\n",
        "\n",
        "There are two implementations in Scipy:\n",
        " * `ranksums` - This tests the alternative that samples are drawn from different distributions (it defaults to two-tailed). It **does not handle ties** in ranks however.\n",
        " * `mannwhitneyu` - Similar to `ranksums` but handles ties, allows for continuity correction, and allows for for setting the alternative. Only appropriate when sample size (for each) is greater than 20.\n",
        " \n",
        "Note that other languages may have different implementation as there is no unified language for these tests in the literature. Simply check the docs.\n",
        " \n",
        "Let's demonstrate both on `Sample_Ages_A` and `Samples_Ages_B`.\n",
        "\n",
        "\n",
        "First `ranksums`. Again here the hypothesis is one-tailed (one sample has values generally greater than the other).\n"
      ]
    },
    {
      "cell_type": "code",
      "metadata": {
        "id": "jWByMCRN0CpN",
        "colab_type": "code",
        "outputId": "2faaa8e2-5de6-42c7-9b88-3eb55f0339a2",
        "colab": {
          "base_uri": "https://localhost:8080/",
          "height": 34
        }
      },
      "source": [
        "# Wilcoxon rank sum, two-tailed\n",
        "stats.ranksums(Sample_Ages_A, Sample_Ages_B)"
      ],
      "execution_count": 346,
      "outputs": [
        {
          "output_type": "execute_result",
          "data": {
            "text/plain": [
              "RanksumsResult(statistic=-3.6661527595475376, pvalue=0.0002462268742937743)"
            ]
          },
          "metadata": {
            "tags": []
          },
          "execution_count": 346
        }
      ]
    },
    {
      "cell_type": "code",
      "metadata": {
        "id": "UzaXHRfx0V0v",
        "colab_type": "code",
        "outputId": "b4cb2430-6e6e-481f-9092-f31f3cf67115",
        "colab": {
          "base_uri": "https://localhost:8080/",
          "height": 34
        }
      },
      "source": [
        "# Mann-Whitney-U version, two-tailed\n",
        "stats.mannwhitneyu(Sample_Ages_A, Sample_Ages_B, alternative='two-sided')"
      ],
      "execution_count": 347,
      "outputs": [
        {
          "output_type": "execute_result",
          "data": {
            "text/plain": [
              "MannwhitneyuResult(statistic=218.0, pvalue=0.00024107831295968165)"
            ]
          },
          "metadata": {
            "tags": []
          },
          "execution_count": 347
        }
      ]
    },
    {
      "cell_type": "markdown",
      "metadata": {
        "id": "jvdWywdk5KpW",
        "colab_type": "text"
      },
      "source": [
        "We can see that the two versions generally agree. The `mannwhitney` version however returns the U statistic whereas the ranksums returns (I believe), the zstat (even though the test is based on the W statistic)."
      ]
    },
    {
      "cell_type": "markdown",
      "metadata": {
        "id": "WVaNVMq0N1P3",
        "colab_type": "text"
      },
      "source": [
        "## Wilcoxon Signed Rank <a name=\"wilcoxon_signed_rank\"></a>\n",
        "\n",
        "The Wilcoxon Signed Rank test is similar in mechanics to the Wilcoxon Rank Sums test (or Mann-Whitney-Wilcoxon), except that it is intended for **paired (dependent)** samples. That is, it can be thought of as a nonparametric alternative to the paired t-test.\n",
        "\n",
        "Scipy has an implementation of this via `wilcoxon`. It mainly functions by testing whether the differences in two samples are symmetric about 0, testing against the null hypothesis that the samples are drawn from the same distribution.\n",
        "\n",
        "One particular concern for this test is that of discrete values. Since the test has interest in differences symmetric about 0, discrete data will create many differences right at 0, which will cause that data to effectively discarded in the test. The Scipy implementation has a parameter `zero_method` to how to handle this (for instance, there is a conservative correction called \"pratt\"), but it defaults to discarding all zero differences. See the [documentation](https://docs.scipy.org/doc/scipy/reference/generated/scipy.stats.wilcoxon.html) for more details.\n",
        "\n",
        "Implemented on `Sample_X` and `Sample_Y` below with the alternative that the samples are drawn from different distributions.\n"
      ]
    },
    {
      "cell_type": "code",
      "metadata": {
        "id": "6ZU5H1nj7zkp",
        "colab_type": "code",
        "outputId": "6e2785b7-fa8e-4626-caa0-31027575622f",
        "colab": {
          "base_uri": "https://localhost:8080/",
          "height": 34
        }
      },
      "source": [
        "# Wilcoxon Signed Rank Test\n",
        "stats.wilcoxon(Sample_X, Sample_Y, alternative='two-sided')"
      ],
      "execution_count": 348,
      "outputs": [
        {
          "output_type": "execute_result",
          "data": {
            "text/plain": [
              "WilcoxonResult(statistic=84.5, pvalue=6.929359201437752e-17)"
            ]
          },
          "metadata": {
            "tags": []
          },
          "execution_count": 348
        }
      ]
    },
    {
      "cell_type": "markdown",
      "metadata": {
        "id": "x73vSUQP8XHJ",
        "colab_type": "text"
      },
      "source": [
        "The statistic returned is the sum of ranks of differences (different depending on tails of test, see docs), but the p value can be interpreted as normal."
      ]
    },
    {
      "cell_type": "markdown",
      "metadata": {
        "id": "f2-MoN4k8nQ9",
        "colab_type": "text"
      },
      "source": [
        "## Kruskal-Wallis <a name=\"kruskal_wallis\"></a>\n",
        "\n",
        "The Kruskal-Wallis test is another rank-based test and indeed an extension of the Wilcoxon rank-sum test to 3 or more groups. It tests against the null hypothesis that all groups are drawn from the same distribution. As such, it asks if there is a statistical difference for any sample within the groups of data. This makes it a nonparametric option for a one-way ANOVA.\n",
        "\n",
        "The Kruskal Wallis test uses a statistic called \"H\" which can be compared to a chi-squared distribution assuming all sample sizes are at least 5. The degrees of free is one less than the number of groups. Like other rank-based tests, this generally asseses differences in the median rather than the mean.\n",
        "\n",
        "Like ANOVA it only tests if any of the samples are different and doesn't tell you *which* is different. As such, post-hoc tests are required to parse this (see the ANOVA section for details).\n",
        "\n",
        "Scipy has an implementation `kruskal` for this.\n",
        "\n",
        "Let's implement this to see if any of the samples A, B, X, or Y come from a different distributions.\n"
      ]
    },
    {
      "cell_type": "code",
      "metadata": {
        "id": "v2Ip2BKFFf02",
        "colab_type": "code",
        "outputId": "8b777ae5-0ab2-4852-e71a-0cd318b13698",
        "colab": {
          "base_uri": "https://localhost:8080/",
          "height": 34
        }
      },
      "source": [
        "# Implementing the Kruskal-Wallis test\n",
        "stats.kruskal(Sample_Ages_A, Sample_Ages_B, Sample_X, Sample_Y)"
      ],
      "execution_count": 349,
      "outputs": [
        {
          "output_type": "execute_result",
          "data": {
            "text/plain": [
              "KruskalResult(statistic=168.9333362702433, pvalue=2.1624109033349305e-36)"
            ]
          },
          "metadata": {
            "tags": []
          },
          "execution_count": 349
        }
      ]
    },
    {
      "cell_type": "markdown",
      "metadata": {
        "id": "Zc2ireBdFkiQ",
        "colab_type": "text"
      },
      "source": [
        "The p-value is quite small indicating we have statistical evidence that at least one of the samples within the group is different from the others."
      ]
    },
    {
      "cell_type": "markdown",
      "metadata": {
        "id": "-ZwYUW2AOvto",
        "colab_type": "text"
      },
      "source": [
        "# Categorical Analysis <a name=\"categorical\"></a>\n",
        "\n",
        "Most of the previously mentioned parametric or nonparametric tests were appropriate for quantitative data, but statistical tests also exist for categorical data including nominal data (categorical data with no ranking like \"apples,\" \"oranges,\" etc. or yes/no) and ordinal data (categorical data with inherent rankings like \"disagree\", \"neutral\", \"agree\" etc. or discrete rankings).\n",
        "\n",
        "Numerical metrics (like mean) don't make sense for categorical data, so different methods are employed. For instance, visualization is often done through tables such as a **contingency table** (which displays the number of observations in each category) or stacked bar charts. Accordingly, different statistical tests are also used, many taking in contingency tables as inputs.\n",
        "\n",
        "Let's create two Contingency Tables for use in the later-following tests. In Python, these can generally be set up as n-dimensional arrays.\n",
        "\n",
        "For the scenarios below, let's simply assume we have three possible Samples (A, B, and C) which can result in outcomes \"Yes\" or \"No\"."
      ]
    },
    {
      "cell_type": "code",
      "metadata": {
        "id": "r8mO_YDpwfiY",
        "colab_type": "code",
        "outputId": "a6c5bc85-dc66-4451-bd4d-c922dec550a4",
        "colab": {
          "base_uri": "https://localhost:8080/",
          "height": 142
        }
      },
      "source": [
        "# Creating arrays to be used\n",
        "# Rows are samples, columns are yes/no\n",
        "two_by_two = [[60,9], [11,73]]\n",
        "three_by_two = [[60,9], [11,73], [8,54]]\n",
        "# We may not use three_by_two here, but calculated just in case\n",
        "\n",
        "# Also creating a dataframe just to visualize\n",
        "df = pd.DataFrame(data={'Sample':[\"A\",\"B\",\"C\"], 'Yes':[60,11,8], 'No':[9,73,54]})\n",
        "df"
      ],
      "execution_count": 350,
      "outputs": [
        {
          "output_type": "execute_result",
          "data": {
            "text/html": [
              "<div>\n",
              "<style scoped>\n",
              "    .dataframe tbody tr th:only-of-type {\n",
              "        vertical-align: middle;\n",
              "    }\n",
              "\n",
              "    .dataframe tbody tr th {\n",
              "        vertical-align: top;\n",
              "    }\n",
              "\n",
              "    .dataframe thead th {\n",
              "        text-align: right;\n",
              "    }\n",
              "</style>\n",
              "<table border=\"1\" class=\"dataframe\">\n",
              "  <thead>\n",
              "    <tr style=\"text-align: right;\">\n",
              "      <th></th>\n",
              "      <th>Sample</th>\n",
              "      <th>Yes</th>\n",
              "      <th>No</th>\n",
              "    </tr>\n",
              "  </thead>\n",
              "  <tbody>\n",
              "    <tr>\n",
              "      <th>0</th>\n",
              "      <td>A</td>\n",
              "      <td>60</td>\n",
              "      <td>9</td>\n",
              "    </tr>\n",
              "    <tr>\n",
              "      <th>1</th>\n",
              "      <td>B</td>\n",
              "      <td>11</td>\n",
              "      <td>73</td>\n",
              "    </tr>\n",
              "    <tr>\n",
              "      <th>2</th>\n",
              "      <td>C</td>\n",
              "      <td>8</td>\n",
              "      <td>54</td>\n",
              "    </tr>\n",
              "  </tbody>\n",
              "</table>\n",
              "</div>"
            ],
            "text/plain": [
              "  Sample  Yes  No\n",
              "0      A   60   9\n",
              "1      B   11  73\n",
              "2      C    8  54"
            ]
          },
          "metadata": {
            "tags": []
          },
          "execution_count": 350
        }
      ]
    },
    {
      "cell_type": "markdown",
      "metadata": {
        "id": "7dBHEFDbnzRR",
        "colab_type": "text"
      },
      "source": [
        "## Fisher's Exact Test <a name=\"fishers\"></a>\n",
        "\n",
        "**Note: Not to be confused with the F-test which is used in Analysis of Variance.**\n",
        "\n",
        "Fisher's Exact test is a method for calculating the exact p-values for contingency tables. While generally it is used for a 2x2 grid contingency table, the methodology may be expanded to larger grids (though the programming package implementation may or may not allow it).\n",
        "\n",
        "Fisher's exact tests ask how unusual the contingency table is given the null hypothesis that the proportions it contains are the same. The probability  is calculated from the [hypergeometric distribution](https://en.wikipedia.org/wiki/Hypergeometric_distribution). Noteably the test works on comparing the proportions of the groups in the grid and rejects the null if the proportions are more extreme than the null value (or that the proportions are the same). One-tailed tests are also still possible, and in doing so for greater or less than, you are generally comparing the proportions top->down or left->right (see this [post](https://stats.stackexchange.com/questions/307891/which-ratios-are-being-compared-in-fisher-exact-test) for more details). It is also worth noting that (given the hypergeometric distribution) in this case, the one tailed p-values for greater and less do not follow the standard behavior (for instance, one could be 1.0 and then other still nonzero). Since the distribution is symmetric, you also can not multiply a one-sided p-value by 2 to get the two-tailed value.\n",
        "\n",
        "Importantly, Fisher's test assumes that both \"margins\" (the row and column totals) are fixed by the experiment, which is often not true of both the row and columsn simultaneously in many cases. Still, Fishers is generally prefered for small samples over competing tests (like Chi-Squared) and is otherwise valid for larger samples (though the use of factorials on the back-end increases complexity of computation).\n",
        "\n",
        "Let's ask if the probability of getting Yes or No on Sample A is the same as that in Sample B. That is:\n",
        "\n",
        "\n",
        "**Null Hypothesis:** $p_a = p_b$\n",
        "\n",
        "**Alternative Hypothesis:** $p_a \\ne p_b$\n",
        "\n",
        "Scipy has a 2x2 grid implementation of Fisher's. For higher dimensionality you would have to use Python. Let's implement it on our `two_by_two` grid previously created."
      ]
    },
    {
      "cell_type": "code",
      "metadata": {
        "id": "JDK28pFhUTNf",
        "colab_type": "code",
        "outputId": "f24d6e07-248f-45ec-f474-b5e98f02ee40",
        "colab": {
          "base_uri": "https://localhost:8080/",
          "height": 34
        }
      },
      "source": [
        "# Implementing Fisher's Exact Test\n",
        "stats.fisher_exact(two_by_two, alternative='two-sided')"
      ],
      "execution_count": 351,
      "outputs": [
        {
          "output_type": "execute_result",
          "data": {
            "text/plain": [
              "(44.24242424242424, 2.6203125588777274e-21)"
            ]
          },
          "metadata": {
            "tags": []
          },
          "execution_count": 351
        }
      ]
    },
    {
      "cell_type": "markdown",
      "metadata": {
        "id": "yxFsYCYU1fn6",
        "colab_type": "text"
      },
      "source": [
        "This returns the calculated odds ratio (?further clarity needed here?) of the groups and the p-value. In this case, we can see the p-value is easily below any alpha level, and so we reject the null and find evidence that the proportion of the samples are significantly different."
      ]
    },
    {
      "cell_type": "markdown",
      "metadata": {
        "id": "YqaU5d7f4Q_k",
        "colab_type": "text"
      },
      "source": [
        "## Chi-Square \"Goodness of Fit\" Test  <a name=\"chi_square_fit\"></a>\n",
        "\n",
        "While the Chi-Square test can serve as an alternative to Fisher's Exact test (particularly for large samples), it is often discussed first as a \"goodness of fit\" test when used on one variable. As such, it can be used to test against significant deviation from many theoretical distributions.\n",
        "\n",
        "This utility can mainly be seen when calculating the Chi-square test statistic. This is found by finding the differences between the observed and expected values, squaring them (to get rid of negatives), diving this by the expected value, and then summing each of these calculated values together. This Chi-Square statistic can then be compared to a chi-square distribution similar to many other statistical tests. For a 1 variable, categorical goodness of fit test, the degrees of freedom is k - 1, where k is the number of levels of the categorical variable.\n",
        "\n",
        "The chi-square distribution is not a symmetric distribution, so it is always \"one-sided.\"\n",
        "\n",
        "Due to its availability as a goodness of fit test, the Chi-square test is often implemented in various other statistical methods also. Regardless, for this version of the test, the expected distribution must be specified directly.\n",
        "\n",
        "For instance, say the expected values of our created `two_by_two` grid for sample A were actually twice that which we observed."
      ]
    },
    {
      "cell_type": "code",
      "metadata": {
        "id": "wF_64aXWPJf4",
        "colab_type": "code",
        "colab": {
          "base_uri": "https://localhost:8080/",
          "height": 34
        },
        "outputId": "158e4c8a-c017-4ba9-803f-5d354cfb2382"
      },
      "source": [
        "# Creating a variable for our sample A distribution\n",
        "A_observed = two_by_two[0] # Pulling from our previously created grid\n",
        "A_observed"
      ],
      "execution_count": 412,
      "outputs": [
        {
          "output_type": "execute_result",
          "data": {
            "text/plain": [
              "[60, 9]"
            ]
          },
          "metadata": {
            "tags": []
          },
          "execution_count": 412
        }
      ]
    },
    {
      "cell_type": "code",
      "metadata": {
        "id": "3rrRf0Z3PkbH",
        "colab_type": "code",
        "colab": {
          "base_uri": "https://localhost:8080/",
          "height": 34
        },
        "outputId": "2ec07f02-16b4-4d07-9437-0d1a589801a8"
      },
      "source": [
        "# And a variable for what was expected\n",
        "A_expected = [i * 2 for i in A_observed]\n",
        "A_expected"
      ],
      "execution_count": 414,
      "outputs": [
        {
          "output_type": "execute_result",
          "data": {
            "text/plain": [
              "[120, 18]"
            ]
          },
          "metadata": {
            "tags": []
          },
          "execution_count": 414
        }
      ]
    },
    {
      "cell_type": "markdown",
      "metadata": {
        "id": "MlvLYJ1XQdT3",
        "colab_type": "text"
      },
      "source": [
        "We can run a Chi-square goodness of fit test to test against the null hypothesis that the data is consistent with our specified distribution.\n",
        "\n",
        "Scipy has two implementations of Chi-square-- one that takes in the observed and expected values (chisquare), and one that takes in a contingency table (chi2_contingency). The former is used for goodness of fit tests (and other cases whether the expected values are provided), and the later we'll use later.\n",
        "\n",
        "We'll run the former on our data below."
      ]
    },
    {
      "cell_type": "code",
      "metadata": {
        "id": "wdtmsTzcgSZN",
        "colab_type": "code",
        "colab": {
          "base_uri": "https://localhost:8080/",
          "height": 34
        },
        "outputId": "c3ab0d8c-578b-4e16-8f3e-d4c87559c458"
      },
      "source": [
        "stats.chisquare(f_obs=A_observed, f_exp=A_expected)"
      ],
      "execution_count": 415,
      "outputs": [
        {
          "output_type": "execute_result",
          "data": {
            "text/plain": [
              "Power_divergenceResult(statistic=34.5, pvalue=4.262513224869198e-09)"
            ]
          },
          "metadata": {
            "tags": []
          },
          "execution_count": 415
        }
      ]
    },
    {
      "cell_type": "markdown",
      "metadata": {
        "id": "yQRAlBljg9Ri",
        "colab_type": "text"
      },
      "source": [
        "As expected, we get a low p-value, low enough to reject the null hypothesis that the observed data is consistent with the expected distribution."
      ]
    },
    {
      "cell_type": "markdown",
      "metadata": {
        "id": "sNn1bIvJR6kd",
        "colab_type": "text"
      },
      "source": [
        "## Chi-square Independence/Homogeneity Test <a name=\"chi_square_multvar\"></a>\n",
        "\n",
        "When the Chi-square test is generalized to more than one variable, it can emulate the same intention as Fisher's exact test. Chi-square has the advantage of being less computationally arduous and thus often preferred for larger sample sizes (rule of thumb, all cell counts at least 5). Chi-square is also generally preferred over Fisher's for grids larger than 2x2 due to computation complexity.\n",
        "\n",
        "Unlike Fisher's test, the Chi-square test works by comparing the observed cell values in the grid to calculated \"expected\" values (representing the values under the null), as was noted previously regarding Chi-square generally. In the case of a contingency table, it is possible we are testing against a null of a known set of expected values. If so, we would use a function like the `chisquare` one used above. The expected values would then arise in a matter specific to the test or experiment.\n",
        "\n",
        "However, for multivariable chi-square tests, we often don't have a known expected distribution we are testing against. In such cases, the Chi-square test is then said to either test for **independence** (that the variables are independent-- they have no relation to each other) or **homogeneity** (the samples were drawn from the same population), though the math is identical.\n",
        "\n",
        "The **independence** case is more appropriately stated when two or more variables are compared within a single sample. This then tests whether the two variables are associated or not. More specifically:\n",
        "* **Null Hypothesis:** The two variables are independent. There is no relationship between the variables.\n",
        "* **Alternative Hypothesis:** The two variables are not independent.\n",
        "\n",
        "The **homogeneity** case is more appropriately stated when a sample is taken from two or more populations. This then tests if the distribution of one variable is the same across all categories of the other variable. More specifically:\n",
        "* **Null Hypothesis:**  The distribution of one variable is the same across all categories of the other variable. I.e. the samples were drawn from the same population.\n",
        "* **Alternative Hypothesis:** There is a difference in distribution for at least one category.\n",
        "\n",
        "Again, the math and calculated p-values are the same. Only the interpretation differs.\n",
        "\n",
        "We still need expected values to run either case however. These values (for either independence or homogeneity assumptions under the null) can be found for each cell by multiplying the row total by the column total and then dividing by the overall total for the grid. The differences between the observed and expected can then be used to compute the Chi-square test statistic.\n",
        "\n",
        "For any such contingency table, the degrees of freedom used then are (r-1)(c-1) where r is number of rows and c is number of columns (so for a 2x2, df =1).\n",
        "\n",
        "In such a you can only tell that the comparison is significantly different, but you can't tell which group is \"more\" than the other.\n",
        "\n",
        "Let's again ask if the probability of getting Yes or No on Sample A is the same as that in Sample B. That is:\n",
        "\n",
        "**Null Hypothesis:** $p_a = p_b$\n",
        "\n",
        "**Alternative Hypothesis:** $p_a \\ne p_b$\n",
        "\n",
        "Since we do not have an expected set of values to compare it to, we'll use `chi2_contingency` which will compute the expecting values for us while completing the test.\n"
      ]
    },
    {
      "cell_type": "code",
      "metadata": {
        "id": "prkwlpnnJ6s1",
        "colab_type": "code",
        "outputId": "5fef8cbc-8b4e-4a2d-ee89-62381daa8555",
        "colab": {
          "base_uri": "https://localhost:8080/",
          "height": 102
        }
      },
      "source": [
        "# Implementing the chi-square test\n",
        "stats.chi2_contingency(two_by_two)"
      ],
      "execution_count": 352,
      "outputs": [
        {
          "output_type": "execute_result",
          "data": {
            "text/plain": [
              "(80.1529602455667,\n",
              " 3.4651913185253876e-19,\n",
              " 1,\n",
              " array([[32.01960784, 36.98039216],\n",
              "        [38.98039216, 45.01960784]]))"
            ]
          },
          "metadata": {
            "tags": []
          },
          "execution_count": 352
        }
      ]
    },
    {
      "cell_type": "markdown",
      "metadata": {
        "id": "JuiWdrF7KlWe",
        "colab_type": "text"
      },
      "source": [
        "The outputs include the chi-square value, the p-value, and the expected values as an array of arrays. As we can see, while producing a somewhat different p-value, the Chi-square test agrees with Fishers in terms of a significant difference being found.\n",
        "\n",
        "We can expand the same test to a 3 x 2 grid by including our values for Sample C, as seen below."
      ]
    },
    {
      "cell_type": "code",
      "metadata": {
        "id": "7je9r8olVDZe",
        "colab_type": "code",
        "outputId": "7c86fffe-021c-4ce5-e47f-546af33153c5",
        "colab": {
          "base_uri": "https://localhost:8080/",
          "height": 119
        }
      },
      "source": [
        "# The chi-square test for larger than 2x2 can be implemented the same way\n",
        "stats.chi2_contingency(three_by_two)"
      ],
      "execution_count": 353,
      "outputs": [
        {
          "output_type": "execute_result",
          "data": {
            "text/plain": [
              "(110.22210269655645,\n",
              " 1.1629860557628403e-24,\n",
              " 2,\n",
              " array([[25.35348837, 43.64651163],\n",
              "        [30.86511628, 53.13488372],\n",
              "        [22.78139535, 39.21860465]]))"
            ]
          },
          "metadata": {
            "tags": []
          },
          "execution_count": 353
        }
      ]
    },
    {
      "cell_type": "markdown",
      "metadata": {
        "id": "qwsDmI1PFnba",
        "colab_type": "text"
      },
      "source": [
        "## Risks and Odds Ratios <a name=\"risk_odds_ratios\"></a>\n",
        "\n",
        "Another useful means of considering categorical data is the effect or strength of two exposures or treatments to their outcome. This can be analyzed handily on a contingency table modeled as an exposure (typically rows) vs outcome (typically columns) table. Two commmon metrics can then be reported-- the **relative risk ratio** ($\\widehat{RR}$) and the **odds ratio** ($\\widehat{OR}$).\n",
        "\n",
        "If our exposure/outcome table is:"
      ]
    },
    {
      "cell_type": "code",
      "metadata": {
        "id": "0KgORDqbJw6x",
        "colab_type": "code",
        "outputId": "569204e0-575f-4e8c-fa88-c7fd815e0a1d",
        "colab": {
          "base_uri": "https://localhost:8080/",
          "height": 111
        }
      },
      "source": [
        "df = pd.DataFrame(data={'Exposure/Treatment':[\"Exposure_1\",\"Exposure_2\"],\n",
        "                        'Outcome_1':[\"a\",\"c\"],\n",
        "                        'Coutcome_2':[\"b\",\"d\"]})\n",
        "df"
      ],
      "execution_count": 354,
      "outputs": [
        {
          "output_type": "execute_result",
          "data": {
            "text/html": [
              "<div>\n",
              "<style scoped>\n",
              "    .dataframe tbody tr th:only-of-type {\n",
              "        vertical-align: middle;\n",
              "    }\n",
              "\n",
              "    .dataframe tbody tr th {\n",
              "        vertical-align: top;\n",
              "    }\n",
              "\n",
              "    .dataframe thead th {\n",
              "        text-align: right;\n",
              "    }\n",
              "</style>\n",
              "<table border=\"1\" class=\"dataframe\">\n",
              "  <thead>\n",
              "    <tr style=\"text-align: right;\">\n",
              "      <th></th>\n",
              "      <th>Exposure/Treatment</th>\n",
              "      <th>Outcome_1</th>\n",
              "      <th>Coutcome_2</th>\n",
              "    </tr>\n",
              "  </thead>\n",
              "  <tbody>\n",
              "    <tr>\n",
              "      <th>0</th>\n",
              "      <td>Exposure_1</td>\n",
              "      <td>a</td>\n",
              "      <td>b</td>\n",
              "    </tr>\n",
              "    <tr>\n",
              "      <th>1</th>\n",
              "      <td>Exposure_2</td>\n",
              "      <td>c</td>\n",
              "      <td>d</td>\n",
              "    </tr>\n",
              "  </tbody>\n",
              "</table>\n",
              "</div>"
            ],
            "text/plain": [
              "  Exposure/Treatment Outcome_1 Coutcome_2\n",
              "0         Exposure_1         a          b\n",
              "1         Exposure_2         c          d"
            ]
          },
          "metadata": {
            "tags": []
          },
          "execution_count": 354
        }
      ]
    },
    {
      "cell_type": "markdown",
      "metadata": {
        "id": "d9K4UwdbKgIF",
        "colab_type": "text"
      },
      "source": [
        "Then $\\widehat{RR}$ = $R_1$/$R_2$, where:\n",
        "* $R_1$ = a / (a+b)\n",
        "* $R_2$ = c / (c+d)\n",
        "\n",
        "This is gives the relative risk ratio which shows the relative probability of a particular outcome (in this case, the first one) occuring for the two exposures. A **risk** is the probability of the outcome occuring. A relative risk of 1 would means the estimated risk of outcome is the same in the two groups.\n",
        "\n",
        "Also, then $\\widehat{OR}$ = $O_1$/$O_2$, where:\n",
        "* $O_1$ = a / b\n",
        "* $O_2$ = c / d\n",
        "\n",
        "**Odds** describe the ratio of the probability that an event occurs to the probability that it doesn't occur. Again, an odds ratio of 1 means the estimates odds of the outcomes are the same in the two groups.\n",
        "\n",
        "Generally risk ratios are preferred as they are more easily understood by most. However, the risk ratios are not appropriate for case-control studies (since the margins are conditioned on the experiment) or some more complicated data analysis. Odds may also show up more as part of other statistical tests (for instance, Fisher's and logistic regression).\n"
      ]
    },
    {
      "cell_type": "markdown",
      "metadata": {
        "id": "KGbqd7D8Un0q",
        "colab_type": "text"
      },
      "source": [
        "# Principal Component Analysis <a name=\"PCA\"></a>\n",
        "\n",
        "Principal component analysis (PCA) is a form of dimensionality reduction that seeks to maximize data variability along as few \"components\" as possible. These \"components\" are, in effect, newly created variables that aim to capture the variability across multiple variables. As such, rather than simply dropping variables/columns outright, PCA effectively \"merges\" the variability across multiple variables into new \"componenets\". Then the components explaining most of the variability in the data are the only ones kept.\n",
        "\n",
        "PCA accomplishes this by means of projecting the data along the direction/dimension that captures the most variability. Another way to think of this is that of rotating the data into new dimensions so that we capture as much of it as we can in as few axis as possible.\n",
        "\n",
        "If we imagine a 3-variable dataset as a 3-dimensional cube, we could imagine rotating that cube until most of the variability of the data aligns along some axis (supposing we drew one for reference). This newly created \"axis\" is a principal componenet (PC) of the dataset and captures more variability than any of the original xyz axis individually. In fact, this new axis becomes our \"1st\" PC as it captures the most variability. We could then draw two more axis orthogonal to our 1st PC which then represent the remaining PCs of the dataset (one PC possible for each original dimension of the data). Each of these PCs then is comprised of information from each of the original xyz axis but captures the variability at a different rate. Then, if the first two PCs capture a satisfactory amount of the variability of the data, the remaining one may be dropped without losing much information from the data.\n",
        "\n",
        "By reducing the number of dimensions while minimizing information loss, we create a convenient option for running regression, machine learning, or other such methods (for instance, imagine running a machine learning classifier on 15 PCs instead of 400 variables). The newly created PCs, however, do lose some interpretability as each is formed from information inherrent to all of the original variables, though some methods exist to interpret the \"meaning\" of each PC (for instance by viewing the effecting weighting of each original variable's contribution to the PC). Conveniently also, the resultant PCs of the data can be considered statistically independent of each other (though we skip on the theory behind that here).\n",
        "\n",
        "The means of calculating each PC rely on matrix operations from linear algebra, so we need a couple of terms:\n",
        "* **Eigenvectors** - An eigenvector is a vector (a 1D matrix) such that, when you multiply the vector by a matrix, you get a scaled version of that vector (a scalar multiple) as the result. For instance, if $A$ is a matrix, $v$ our eigenvector, and $\\lambda$ some scalar value, then the following statement is true: $Av = \\lambda v$.\n",
        "  * In the case of PCA, the eigenvectors will represent, effectively, the values needed to transform our original data into the principal components. They indicate a \"direction\" in the dimensional space of the data.\n",
        "* **Eigenvalue** - In the above case, the eigenvalue is the scalar value (\"$\\lambda$\" above).\n",
        " * In the case of PCA, the eigenvalues represent the amount of variability corresponding to the direction represented by a particular eigenvector.\n",
        " \n",
        "The eigenvectors are calculated off of the correlation (or sometimes, covariance) matrix of the dataset, wherein there are only as many eigenvectors possible as the maximum dimensions of the correlation matrix. The largest eigenvalue tells us which eigen vector to use to calculate the first principal component, the second largest eigenvalue tells us which vector for the second principal component, and so on.\n",
        "\n",
        "Since Python and other statistical packages can do most of the work for us, we'll leave the mathematical description at that and just follow the main steps below to be able to follow along with the code. For more info, check out this [handy post](https://towardsdatascience.com/a-one-stop-shop-for-principal-component-analysis-5582fb7e0a9c).\n",
        "\n",
        "Algorithmically, the process looks like:\n",
        "* 1) Separate out the independent variables (call X) and dependent variable (call Y) in your data set.\n",
        "* 2) Center your data in X at 0 for each column (for each variable, subtract its mean from each data point within that column).\n",
        "* 3) Standardize your X data (or not). PCA is effected by data being on different scales (since the variables are all combined into the new components). Unless your data is on similar scales and you really care about the differences in variability between individual variables, you should probably standardize it. Do this by dividing by the standard deviation for each variable.\n",
        "* 4) Create the covariance matrix (if you didn't standardize) or correlation matrix (if you did standardize) of your X.\n",
        "* 5) Find the eigenvalues and eigenvectors of your correlation (or covariance) matrix. This is done through a technique called \"eigen decomposition\" (or \"spectral decomposition\"), but typically you rely on software for this.\n",
        "* 6) Sort the eigenvectors in descending order in such that those with the highest eigenvalue come first. (Remember that the highest eigenvalue represents our first principal component and corresponds with the vector/direction capturing the most variability).\n",
        "* 7) Calculate our new data (of principal components) using our ordered matrix of eigenvectors. This is done by multiplying our sorted eigenvector matrix by our centered (and maybe/maybe-not standardized) X.\n",
        "* 8) Determine how many of the principal components to keep. This can be done arbitrarily, by taking the first few that capture a certain percentage of variability (an easy option via software), or by reviewing a **scree plot**. A scree plot is a plot of each principal component denoting what percentage of variability each component captures. Typically the scree plot is reviewed for an inflection point in the data (or where the amount of variability contained drops sharply), and all other components past this are dropped.\n",
        "\n",
        "Many of the above steps are combined in the Python workflow when utilizing the Scikitlearn library. We'll walk through the process of PCA on a very simple database below (the \"Iris\" dataset). Note that the Iris dataset already has only a few columns, so there's little need for PCA on it pragmatically, but we use its simplicity for instruction.\n",
        "\n",
        "First let's grab the data in a Pandas dataframe.\n",
        "\n",
        "\n",
        "\n"
      ]
    },
    {
      "cell_type": "code",
      "metadata": {
        "id": "8BP-ugthRiri",
        "colab_type": "code",
        "outputId": "5e713809-964f-4305-c970-4ad927e03e5d",
        "colab": {
          "base_uri": "https://localhost:8080/",
          "height": 204
        }
      },
      "source": [
        "# We're pulling in the dataset without from a source without column names, so adding those manually here\n",
        "col_names = ['SepalLengthCm',\t'SepalWidthCm',\t'PetalLengthCm',\t'PetalWidthCm', 'Species']\n",
        "df = pd.read_csv('https://archive.ics.uci.edu/ml/machine-learning-databases/iris/iris.data', header=None, names=col_names)\n",
        "df.head()"
      ],
      "execution_count": 355,
      "outputs": [
        {
          "output_type": "execute_result",
          "data": {
            "text/html": [
              "<div>\n",
              "<style scoped>\n",
              "    .dataframe tbody tr th:only-of-type {\n",
              "        vertical-align: middle;\n",
              "    }\n",
              "\n",
              "    .dataframe tbody tr th {\n",
              "        vertical-align: top;\n",
              "    }\n",
              "\n",
              "    .dataframe thead th {\n",
              "        text-align: right;\n",
              "    }\n",
              "</style>\n",
              "<table border=\"1\" class=\"dataframe\">\n",
              "  <thead>\n",
              "    <tr style=\"text-align: right;\">\n",
              "      <th></th>\n",
              "      <th>SepalLengthCm</th>\n",
              "      <th>SepalWidthCm</th>\n",
              "      <th>PetalLengthCm</th>\n",
              "      <th>PetalWidthCm</th>\n",
              "      <th>Species</th>\n",
              "    </tr>\n",
              "  </thead>\n",
              "  <tbody>\n",
              "    <tr>\n",
              "      <th>0</th>\n",
              "      <td>5.1</td>\n",
              "      <td>3.5</td>\n",
              "      <td>1.4</td>\n",
              "      <td>0.2</td>\n",
              "      <td>Iris-setosa</td>\n",
              "    </tr>\n",
              "    <tr>\n",
              "      <th>1</th>\n",
              "      <td>4.9</td>\n",
              "      <td>3.0</td>\n",
              "      <td>1.4</td>\n",
              "      <td>0.2</td>\n",
              "      <td>Iris-setosa</td>\n",
              "    </tr>\n",
              "    <tr>\n",
              "      <th>2</th>\n",
              "      <td>4.7</td>\n",
              "      <td>3.2</td>\n",
              "      <td>1.3</td>\n",
              "      <td>0.2</td>\n",
              "      <td>Iris-setosa</td>\n",
              "    </tr>\n",
              "    <tr>\n",
              "      <th>3</th>\n",
              "      <td>4.6</td>\n",
              "      <td>3.1</td>\n",
              "      <td>1.5</td>\n",
              "      <td>0.2</td>\n",
              "      <td>Iris-setosa</td>\n",
              "    </tr>\n",
              "    <tr>\n",
              "      <th>4</th>\n",
              "      <td>5.0</td>\n",
              "      <td>3.6</td>\n",
              "      <td>1.4</td>\n",
              "      <td>0.2</td>\n",
              "      <td>Iris-setosa</td>\n",
              "    </tr>\n",
              "  </tbody>\n",
              "</table>\n",
              "</div>"
            ],
            "text/plain": [
              "   SepalLengthCm  SepalWidthCm  PetalLengthCm  PetalWidthCm      Species\n",
              "0            5.1           3.5            1.4           0.2  Iris-setosa\n",
              "1            4.9           3.0            1.4           0.2  Iris-setosa\n",
              "2            4.7           3.2            1.3           0.2  Iris-setosa\n",
              "3            4.6           3.1            1.5           0.2  Iris-setosa\n",
              "4            5.0           3.6            1.4           0.2  Iris-setosa"
            ]
          },
          "metadata": {
            "tags": []
          },
          "execution_count": 355
        }
      ]
    },
    {
      "cell_type": "markdown",
      "metadata": {
        "id": "BVWk4I_c0DgZ",
        "colab_type": "text"
      },
      "source": [
        "Next we'll separate our independent and dependent variables."
      ]
    },
    {
      "cell_type": "code",
      "metadata": {
        "id": "vf8egQNt0IBg",
        "colab_type": "code",
        "colab": {}
      },
      "source": [
        "# We'll call our independent variables (our features) X\n",
        "X = df.loc[:, 'SepalLengthCm':'PetalWidthCm']\n",
        "# And our dependent (our target) Y\n",
        "Y = df[['Species']]"
      ],
      "execution_count": 0,
      "outputs": []
    },
    {
      "cell_type": "markdown",
      "metadata": {
        "id": "Irrx3haP1ZqM",
        "colab_type": "text"
      },
      "source": [
        "Arguably here we might not need to standardize our data as the variables are on the same scale and we might be interested in the variability. Often we *will* standardize the data however, we'll do it here for the educational value."
      ]
    },
    {
      "cell_type": "code",
      "metadata": {
        "id": "TFAIdYSI0gTH",
        "colab_type": "code",
        "colab": {}
      },
      "source": [
        "# We first instantiate a StandardScaler object from ScitKitlearn, and then transform the data with it\n",
        "X_standard = StandardScaler().fit_transform(X)"
      ],
      "execution_count": 0,
      "outputs": []
    },
    {
      "cell_type": "markdown",
      "metadata": {
        "id": "fwSO4NLY2GCo",
        "colab_type": "text"
      },
      "source": [
        "Next we can take advantage of Scikitlearn's `PCA` class to do most of the dirty work for us. This, when applied to the data through the `fit_transform()` method handles the calculation of the correlation or covariance matrix, the finding of the eigenvalues and eigenvectors, their sorting, and the conversion of our old data into principal components.\n",
        "\n",
        "A few notes on this:\n",
        "* `PCA` does handle centering the data (subtracting the means from each variable) so that step is not necessary, however it does not standardize the data (hence why we did it earlier).\n",
        "* This then natively only runs PCA on the covariance matrix. However, if we standardize our data first (as we did), this causes it to be the same as if it were running PCA on the correlation matrix (as is often the desire).\n",
        "* Perhaps the most important parameter is `n_components` whereby you may feed the number of principal components to keep. There are a few main ones but:\n",
        "  * It can be an integer (up to the number of original variables).\n",
        "  * It can be a decimal between 0 and 1. In this case, this means that it should keep as many principal components needed so as to encapsulate that percentage of the variance within the data (i.e. `n_components` = 0.95 means as many components as needed to explain 95% of the variance in the data).\n",
        "  \n",
        "We're going to keep all of the components here so we can look at a scree plot.\n"
      ]
    },
    {
      "cell_type": "code",
      "metadata": {
        "id": "BC0bXcFw26o9",
        "colab_type": "code",
        "colab": {}
      },
      "source": [
        "# Instantiating the PCA class\n",
        "pca = PCA(n_components=4)\n",
        "# Creating the new data off of the old\n",
        "principal_components = pca.fit_transform(X)\n",
        "# Creating a new data frame to house the new data\n",
        "labels_pc = ['PC1','PC2','PC3','PC4']\n",
        "df_pca = pd.DataFrame(data=principal_components,\n",
        "                      columns=labels_pc)\n",
        "# Joining with our targets\n",
        "df_pca['Species'] = df['Species']"
      ],
      "execution_count": 0,
      "outputs": []
    },
    {
      "cell_type": "markdown",
      "metadata": {
        "id": "j4Ha2jMI67Uc",
        "colab_type": "text"
      },
      "source": [
        "And view the results."
      ]
    },
    {
      "cell_type": "code",
      "metadata": {
        "id": "BeHxLVwc62XB",
        "colab_type": "code",
        "outputId": "706324e9-c8fc-46b9-a514-648f3433882c",
        "colab": {
          "base_uri": "https://localhost:8080/",
          "height": 204
        }
      },
      "source": [
        "df_pca.head()"
      ],
      "execution_count": 359,
      "outputs": [
        {
          "output_type": "execute_result",
          "data": {
            "text/html": [
              "<div>\n",
              "<style scoped>\n",
              "    .dataframe tbody tr th:only-of-type {\n",
              "        vertical-align: middle;\n",
              "    }\n",
              "\n",
              "    .dataframe tbody tr th {\n",
              "        vertical-align: top;\n",
              "    }\n",
              "\n",
              "    .dataframe thead th {\n",
              "        text-align: right;\n",
              "    }\n",
              "</style>\n",
              "<table border=\"1\" class=\"dataframe\">\n",
              "  <thead>\n",
              "    <tr style=\"text-align: right;\">\n",
              "      <th></th>\n",
              "      <th>PC1</th>\n",
              "      <th>PC2</th>\n",
              "      <th>PC3</th>\n",
              "      <th>PC4</th>\n",
              "      <th>Species</th>\n",
              "    </tr>\n",
              "  </thead>\n",
              "  <tbody>\n",
              "    <tr>\n",
              "      <th>0</th>\n",
              "      <td>-2.684207</td>\n",
              "      <td>0.326607</td>\n",
              "      <td>-0.021512</td>\n",
              "      <td>0.001006</td>\n",
              "      <td>Iris-setosa</td>\n",
              "    </tr>\n",
              "    <tr>\n",
              "      <th>1</th>\n",
              "      <td>-2.715391</td>\n",
              "      <td>-0.169557</td>\n",
              "      <td>-0.203521</td>\n",
              "      <td>0.099602</td>\n",
              "      <td>Iris-setosa</td>\n",
              "    </tr>\n",
              "    <tr>\n",
              "      <th>2</th>\n",
              "      <td>-2.889820</td>\n",
              "      <td>-0.137346</td>\n",
              "      <td>0.024709</td>\n",
              "      <td>0.019305</td>\n",
              "      <td>Iris-setosa</td>\n",
              "    </tr>\n",
              "    <tr>\n",
              "      <th>3</th>\n",
              "      <td>-2.746437</td>\n",
              "      <td>-0.311124</td>\n",
              "      <td>0.037672</td>\n",
              "      <td>-0.075955</td>\n",
              "      <td>Iris-setosa</td>\n",
              "    </tr>\n",
              "    <tr>\n",
              "      <th>4</th>\n",
              "      <td>-2.728593</td>\n",
              "      <td>0.333925</td>\n",
              "      <td>0.096230</td>\n",
              "      <td>-0.063129</td>\n",
              "      <td>Iris-setosa</td>\n",
              "    </tr>\n",
              "  </tbody>\n",
              "</table>\n",
              "</div>"
            ],
            "text/plain": [
              "        PC1       PC2       PC3       PC4      Species\n",
              "0 -2.684207  0.326607 -0.021512  0.001006  Iris-setosa\n",
              "1 -2.715391 -0.169557 -0.203521  0.099602  Iris-setosa\n",
              "2 -2.889820 -0.137346  0.024709  0.019305  Iris-setosa\n",
              "3 -2.746437 -0.311124  0.037672 -0.075955  Iris-setosa\n",
              "4 -2.728593  0.333925  0.096230 -0.063129  Iris-setosa"
            ]
          },
          "metadata": {
            "tags": []
          },
          "execution_count": 359
        }
      ]
    },
    {
      "cell_type": "markdown",
      "metadata": {
        "id": "Tf9s827p7IGP",
        "colab_type": "text"
      },
      "source": [
        "As it stands, this currently isn't helpful to us as we haven't actually reduced the number of dimensions. We could have done this in the `PCA` call, but maybe we want to fine tune this. To do so, we can take advantage of the `explained_variance_ratio` attribute of the `PCA` transformation to visualize a scree plot. The model fits to the data the moment you call `fit_transform()`, so we call this attribute on the `PCA` object itself and not the transformed data."
      ]
    },
    {
      "cell_type": "code",
      "metadata": {
        "id": "SLDjeVDK7Eck",
        "colab_type": "code",
        "outputId": "62d3c72a-620d-4b91-ffe5-b46201a3e2d5",
        "colab": {
          "base_uri": "https://localhost:8080/",
          "height": 301
        }
      },
      "source": [
        "# Creating a scree plot from our transformation\n",
        "var_percentages = pca.explained_variance_ratio_ * 100\n",
        "sns.barplot(x=labels_pc, y=var_percentages)\n",
        "plt.title(\"Scree Plot\")\n",
        "plt.ylabel(\"Percentage Explained Variance\")\n",
        "plt.xlabel(\"Principal Component\")\n",
        "plt.show()"
      ],
      "execution_count": 360,
      "outputs": [
        {
          "output_type": "display_data",
          "data": {
            "image/png": "[encoded data removed]",
            "text/plain": [
              "<Figure size 432x288 with 1 Axes>"
            ]
          },
          "metadata": {
            "tags": []
          }
        }
      ]
    },
    {
      "cell_type": "markdown",
      "metadata": {
        "id": "foBBUSwO-0Zn",
        "colab_type": "text"
      },
      "source": [
        "From this we can see that nearly all of the variation in the data can be explained by just the first principal component. The second PC provides some, but after that we're gaining very little information. As such, we could reasonably (albeit arbitrarily) drop our dataset down to the first two principal components and then run some machine learning algorithm or regression on just those two.\n",
        "\n",
        "There are also a few other methods/rules-of-thumb on how many components to retain:\n",
        "* **Kaiser's criterion** - Keep all principal componenets with an eigenvalue greater than 1\n",
        "* **Percent Variance Explained** - Like noted above, keep all principal components in such that you account for a certain percentage of the variance within the data\n",
        "* **Elbow method** - Look at the scree plot and find the \"elbow\" which is the point where the percent variance explained drops the most and discard all components to the right of that.\n",
        "\n",
        "We might also try and interpret each principal component to get a sense of what they \"mean.\" One way to do this is to look at the eigenvector for each PC. The eigenvector items then represent the weighting of each variable comprising the principal component (for instance $PC1 = eigenvector1_1(Variable1) + eigenvector1_2(Variable2)$...). One could also create a PC **loading plot** which plots the weight of each input variable against a pair of principal components. Or one could create a correlation matrix between the the original data and the principal components (this correlation called **factor loading**). In either case, it must be understood that each principal component is comprised of a contribution from all the variables and as such can not be thought of as \"one thing.\""
      ]
    },
    {
      "cell_type": "markdown",
      "metadata": {
        "id": "YHjEBdXY_MBg",
        "colab_type": "text"
      },
      "source": [
        "# Regression <a name=\"regression\"></a>\n",
        "\n",
        "For regression, I have my own hand-written notes in a separate place, so we'll focus on the code and perhaps a few other concepts here.\n",
        "\n",
        "Since we were working with the iris data set earlier, let's bring that back in again. However, let's add to it with some fake categorical data to play with for categorical and logistic regression. The below additions are fairly made-up and arbitrary. We'll also add in a random numeric value so that we expect one variable to have no relationship within the datset.\n",
        "\n",
        "Note that some of our models below might break a few assumptions required by regression to be used, but we're simplifying out these concerns at least initially so we can provide some examples."
      ]
    },
    {
      "cell_type": "markdown",
      "metadata": {
        "id": "B5arcwK4NofK",
        "colab_type": "text"
      },
      "source": [
        "## Data setup <a name=\"regression_setup\"></a>"
      ]
    },
    {
      "cell_type": "code",
      "metadata": {
        "id": "vWnxygrO_NWb",
        "colab_type": "code",
        "outputId": "c8a07e03-682e-4027-f32c-11e4f7faf265",
        "colab": {
          "base_uri": "https://localhost:8080/",
          "height": 309
        }
      },
      "source": [
        "# Setting up the dataframe as an ammended version of the iris data frame\n",
        "\n",
        "# We're pulling in the dataset without from a source without column names, so adding those manually here\n",
        "col_names = ['SepalLengthCm',\t'SepalWidthCm',\t'PetalLengthCm',\t'PetalWidthCm', 'Species']\n",
        "df = pd.read_csv('https://archive.ics.uci.edu/ml/machine-learning-databases/iris/iris.data', header=None, names=col_names)\n",
        "\n",
        "# Let's create some categorical values to pull from\n",
        "Cat1_list = ['pointy', 'smooth', 'twisted']\n",
        "Cat2_list = ['round', 'square', 'triangle']\n",
        "Cat3_list = ['dark', 'light']\n",
        "\n",
        "# Let's add in the Cat1 values randomly\n",
        "df['Cat1'] = np.random.choice(Cat1_list, size=len(df))\n",
        "\n",
        "# Let's associated associate Cat2 with with values on our target\n",
        "df['Cat2'] = np.nan\n",
        "df.loc[df.Species == \"Iris-setosa\", 'Cat2'] = \"round\"\n",
        "df.loc[df.Species == \"Iris-versicolor\", 'Cat2'] = \"square\"\n",
        "df.loc[df.Species == \"Iris-virginica\", 'Cat2'] = \"triangle\"\n",
        "# But add a little noise so it's not perfect\n",
        "random_rows = np.random.randint(0, len(df), size=15) # 15 is about 10% of the data\n",
        "for i in random_rows:\n",
        "  df.loc[df.index[[i]], 'Cat2'] = np.random.choice(Cat2_list)\n",
        "  \n",
        "# And let's associate Cat3 with some values of Sepal Length\n",
        "df['Cat3'] = np.nan\n",
        "df.loc[df.SepalLengthCm <= 5.5, 'Cat3'] = \"dark\"\n",
        "df.loc[df.SepalLengthCm > 5.5, 'Cat3'] = \"light\"\n",
        "# And again add some noise (about 10%) so it's not perfect using our random_rows\n",
        "for i in random_rows:\n",
        "  df.loc[df.index[[i]], 'Cat3'] = np.random.choice(Cat3_list)\n",
        "  \n",
        "# Add in a variable that's just random and unnassociated with the dataset\n",
        "df['RandVar'] = np.random.choice(np.arange(0,6,0.3), size=len(df))\n",
        "\n",
        "# Finally let's view our df  \n",
        "df.head()"
      ],
      "execution_count": 361,
      "outputs": [
        {
          "output_type": "execute_result",
          "data": {
            "text/html": [
              "<div>\n",
              "<style scoped>\n",
              "    .dataframe tbody tr th:only-of-type {\n",
              "        vertical-align: middle;\n",
              "    }\n",
              "\n",
              "    .dataframe tbody tr th {\n",
              "        vertical-align: top;\n",
              "    }\n",
              "\n",
              "    .dataframe thead th {\n",
              "        text-align: right;\n",
              "    }\n",
              "</style>\n",
              "<table border=\"1\" class=\"dataframe\">\n",
              "  <thead>\n",
              "    <tr style=\"text-align: right;\">\n",
              "      <th></th>\n",
              "      <th>SepalLengthCm</th>\n",
              "      <th>SepalWidthCm</th>\n",
              "      <th>PetalLengthCm</th>\n",
              "      <th>PetalWidthCm</th>\n",
              "      <th>Species</th>\n",
              "      <th>Cat1</th>\n",
              "      <th>Cat2</th>\n",
              "      <th>Cat3</th>\n",
              "      <th>RandVar</th>\n",
              "    </tr>\n",
              "  </thead>\n",
              "  <tbody>\n",
              "    <tr>\n",
              "      <th>0</th>\n",
              "      <td>5.1</td>\n",
              "      <td>3.5</td>\n",
              "      <td>1.4</td>\n",
              "      <td>0.2</td>\n",
              "      <td>Iris-setosa</td>\n",
              "      <td>smooth</td>\n",
              "      <td>round</td>\n",
              "      <td>dark</td>\n",
              "      <td>1.5</td>\n",
              "    </tr>\n",
              "    <tr>\n",
              "      <th>1</th>\n",
              "      <td>4.9</td>\n",
              "      <td>3.0</td>\n",
              "      <td>1.4</td>\n",
              "      <td>0.2</td>\n",
              "      <td>Iris-setosa</td>\n",
              "      <td>twisted</td>\n",
              "      <td>round</td>\n",
              "      <td>dark</td>\n",
              "      <td>0.0</td>\n",
              "    </tr>\n",
              "    <tr>\n",
              "      <th>2</th>\n",
              "      <td>4.7</td>\n",
              "      <td>3.2</td>\n",
              "      <td>1.3</td>\n",
              "      <td>0.2</td>\n",
              "      <td>Iris-setosa</td>\n",
              "      <td>twisted</td>\n",
              "      <td>round</td>\n",
              "      <td>dark</td>\n",
              "      <td>3.6</td>\n",
              "    </tr>\n",
              "    <tr>\n",
              "      <th>3</th>\n",
              "      <td>4.6</td>\n",
              "      <td>3.1</td>\n",
              "      <td>1.5</td>\n",
              "      <td>0.2</td>\n",
              "      <td>Iris-setosa</td>\n",
              "      <td>smooth</td>\n",
              "      <td>round</td>\n",
              "      <td>dark</td>\n",
              "      <td>4.5</td>\n",
              "    </tr>\n",
              "    <tr>\n",
              "      <th>4</th>\n",
              "      <td>5.0</td>\n",
              "      <td>3.6</td>\n",
              "      <td>1.4</td>\n",
              "      <td>0.2</td>\n",
              "      <td>Iris-setosa</td>\n",
              "      <td>pointy</td>\n",
              "      <td>round</td>\n",
              "      <td>dark</td>\n",
              "      <td>1.5</td>\n",
              "    </tr>\n",
              "  </tbody>\n",
              "</table>\n",
              "</div>"
            ],
            "text/plain": [
              "   SepalLengthCm  SepalWidthCm  PetalLengthCm  ...   Cat2  Cat3 RandVar\n",
              "0            5.1           3.5            1.4  ...  round  dark     1.5\n",
              "1            4.9           3.0            1.4  ...  round  dark     0.0\n",
              "2            4.7           3.2            1.3  ...  round  dark     3.6\n",
              "3            4.6           3.1            1.5  ...  round  dark     4.5\n",
              "4            5.0           3.6            1.4  ...  round  dark     1.5\n",
              "\n",
              "[5 rows x 9 columns]"
            ]
          },
          "metadata": {
            "tags": []
          },
          "execution_count": 361
        }
      ]
    },
    {
      "cell_type": "markdown",
      "metadata": {
        "id": "tzEf5XBD9tgK",
        "colab_type": "text"
      },
      "source": [
        "We can look at a pairplot of the data to get a sense of which variables might be nice to do linear regression on."
      ]
    },
    {
      "cell_type": "code",
      "metadata": {
        "id": "2mIASE4F73D7",
        "colab_type": "code",
        "outputId": "87caefad-8e62-4eee-9618-813439fb11c1",
        "colab": {
          "base_uri": "https://localhost:8080/",
          "height": 925
        }
      },
      "source": [
        "# Visualizing a pairplot of our dataframe\n",
        "sns.pairplot(df)\n",
        "plt.show()"
      ],
      "execution_count": 362,
      "outputs": [
        {
          "output_type": "display_data",
          "data": {
            "image/png": "[encoded data removed]",
            "text/plain": [
              "<Figure size 900x900 with 30 Axes>"
            ]
          },
          "metadata": {
            "tags": []
          }
        }
      ]
    },
    {
      "cell_type": "markdown",
      "metadata": {
        "id": "lsNcuGEx98SE",
        "colab_type": "text"
      },
      "source": [
        "A lot of candidates here, but petal length and petal width look like they have a nice linear relationship.\n",
        "\n",
        "We could also see this through a correlation matrix."
      ]
    },
    {
      "cell_type": "code",
      "metadata": {
        "id": "xFUg706G9EF3",
        "colab_type": "code",
        "outputId": "0ba1eab0-acf6-4c48-bdf6-3e3a017c5062",
        "colab": {
          "base_uri": "https://localhost:8080/",
          "height": 204
        }
      },
      "source": [
        "df.corr()"
      ],
      "execution_count": 363,
      "outputs": [
        {
          "output_type": "execute_result",
          "data": {
            "text/html": [
              "<div>\n",
              "<style scoped>\n",
              "    .dataframe tbody tr th:only-of-type {\n",
              "        vertical-align: middle;\n",
              "    }\n",
              "\n",
              "    .dataframe tbody tr th {\n",
              "        vertical-align: top;\n",
              "    }\n",
              "\n",
              "    .dataframe thead th {\n",
              "        text-align: right;\n",
              "    }\n",
              "</style>\n",
              "<table border=\"1\" class=\"dataframe\">\n",
              "  <thead>\n",
              "    <tr style=\"text-align: right;\">\n",
              "      <th></th>\n",
              "      <th>SepalLengthCm</th>\n",
              "      <th>SepalWidthCm</th>\n",
              "      <th>PetalLengthCm</th>\n",
              "      <th>PetalWidthCm</th>\n",
              "      <th>RandVar</th>\n",
              "    </tr>\n",
              "  </thead>\n",
              "  <tbody>\n",
              "    <tr>\n",
              "      <th>SepalLengthCm</th>\n",
              "      <td>1.000000</td>\n",
              "      <td>-0.109369</td>\n",
              "      <td>0.871754</td>\n",
              "      <td>0.817954</td>\n",
              "      <td>0.066576</td>\n",
              "    </tr>\n",
              "    <tr>\n",
              "      <th>SepalWidthCm</th>\n",
              "      <td>-0.109369</td>\n",
              "      <td>1.000000</td>\n",
              "      <td>-0.420516</td>\n",
              "      <td>-0.356544</td>\n",
              "      <td>-0.152973</td>\n",
              "    </tr>\n",
              "    <tr>\n",
              "      <th>PetalLengthCm</th>\n",
              "      <td>0.871754</td>\n",
              "      <td>-0.420516</td>\n",
              "      <td>1.000000</td>\n",
              "      <td>0.962757</td>\n",
              "      <td>0.124558</td>\n",
              "    </tr>\n",
              "    <tr>\n",
              "      <th>PetalWidthCm</th>\n",
              "      <td>0.817954</td>\n",
              "      <td>-0.356544</td>\n",
              "      <td>0.962757</td>\n",
              "      <td>1.000000</td>\n",
              "      <td>0.131504</td>\n",
              "    </tr>\n",
              "    <tr>\n",
              "      <th>RandVar</th>\n",
              "      <td>0.066576</td>\n",
              "      <td>-0.152973</td>\n",
              "      <td>0.124558</td>\n",
              "      <td>0.131504</td>\n",
              "      <td>1.000000</td>\n",
              "    </tr>\n",
              "  </tbody>\n",
              "</table>\n",
              "</div>"
            ],
            "text/plain": [
              "               SepalLengthCm  SepalWidthCm  ...  PetalWidthCm   RandVar\n",
              "SepalLengthCm       1.000000     -0.109369  ...      0.817954  0.066576\n",
              "SepalWidthCm       -0.109369      1.000000  ...     -0.356544 -0.152973\n",
              "PetalLengthCm       0.871754     -0.420516  ...      0.962757  0.124558\n",
              "PetalWidthCm        0.817954     -0.356544  ...      1.000000  0.131504\n",
              "RandVar             0.066576     -0.152973  ...      0.131504  1.000000\n",
              "\n",
              "[5 rows x 5 columns]"
            ]
          },
          "metadata": {
            "tags": []
          },
          "execution_count": 363
        }
      ]
    },
    {
      "cell_type": "markdown",
      "metadata": {
        "id": "atVXHOCmNRrZ",
        "colab_type": "text"
      },
      "source": [
        "Here we also see the strong correlation between petal length and petal width, but there are other oppotunities as well."
      ]
    },
    {
      "cell_type": "markdown",
      "metadata": {
        "id": "Iw7V0MThNxei",
        "colab_type": "text"
      },
      "source": [
        "## Regression in Python <a name=\"regression_python\"></a>\n",
        "\n",
        "Before we try out a simple regression, it's worth considering the different options Python has available. The simplest and generally common functions to use are those in ScikitLearn or StatsModels.\n",
        "\n",
        "SciKitLearn had some speed advantages over Statsmodels. It also has the advantage of using function methodology similar to its machine learning algorithms.\n",
        "\n",
        "Statsmodels has more statistical options within its overall framework, but its base ordinary linear regression function `OLS` is more or less equivalent with that of ScikitLearn's. However, newer versions of Statsmodels have allowed for the implementation of formulas for regression models similar to those in R-programming via separate versions of some Statsmodels regression functions.\n",
        "\n",
        "These versions are found in the `formula` module of Statsmodels (so here `sm.formula`) and are usually written as lower-case versions of the original (So the one for `OLS` could be accessed by `sm.formula.ols`). They come with a number of advantages. For instance, formulas can take care of categorical variable encoding for you. Using these formulas it's also easier to run regression on things like interaction terms or polynomials as you can utilize write these into the formula directly (in the `OLS` version, you must directly create that data within your dataset). Additionally, formulas automatically handle the intercept (which otherwise would require manually adding a column).\n",
        "\n",
        "For the above reasons, we stick with Statsmodels new formula implementations here when possible.\n",
        "\n",
        "The formulas themselves generally look like `'Dependent_variable ~ Independent_Variable_1 + Indepdent_Variable_2 ...and so on...'`. Note the use of the ~ symbol to separate the variables (as if an equal sign). More complicated formulas can also be made and will be addressed ad-hoc below, but the documentation can be found [here](https://www.statsmodels.org/dev/example_formulas.html)."
      ]
    },
    {
      "cell_type": "markdown",
      "metadata": {
        "id": "3ixAjhSHHlT6",
        "colab_type": "text"
      },
      "source": [
        "## Ordinary Linear Regression <a name=\"ols\"></a>\n",
        "\n",
        "Let's try out a simple example of ordinary linear regression on `PetalLengthCm` and `PetalWidthCm`. As noted above, we'll use Statsmodels formulaic implementation\n",
        "\n",
        "The general form is to first create a model based on our formula, fit the model, and the print the results."
      ]
    },
    {
      "cell_type": "code",
      "metadata": {
        "id": "TXZ3Js_p_kfD",
        "colab_type": "code",
        "outputId": "a0f0c383-c2e3-42f4-d04c-5eb0b4964dda",
        "colab": {
          "base_uri": "https://localhost:8080/",
          "height": 442
        }
      },
      "source": [
        "# Setting up our ols model\n",
        "lin_model = sm.formula.ols(formula='PetalLengthCm ~ PetalWidthCm', data=df)\n",
        "# Fitting the model. This new object will contain all the pertinent information about our results\n",
        "results = lin_model.fit()\n",
        "# This comes with a handy method .summary() to print a bunch of useful information about our model\n",
        "print(results.summary())"
      ],
      "execution_count": 364,
      "outputs": [
        {
          "output_type": "stream",
          "text": [
            "                            OLS Regression Results                            \n",
            "==============================================================================\n",
            "Dep. Variable:          PetalLengthCm   R-squared:                       0.927\n",
            "Model:                            OLS   Adj. R-squared:                  0.926\n",
            "Method:                 Least Squares   F-statistic:                     1877.\n",
            "Date:                Wed, 09 Oct 2019   Prob (F-statistic):           5.78e-86\n",
            "Time:                        14:03:19   Log-Likelihood:                -101.32\n",
            "No. Observations:                 150   AIC:                             206.6\n",
            "Df Residuals:                     148   BIC:                             212.7\n",
            "Df Model:                           1                                         \n",
            "Covariance Type:            nonrobust                                         \n",
            "================================================================================\n",
            "                   coef    std err          t      P>|t|      [0.025      0.975]\n",
            "--------------------------------------------------------------------------------\n",
            "Intercept        1.0906      0.073     14.951      0.000       0.946       1.235\n",
            "PetalWidthCm     2.2259      0.051     43.320      0.000       2.124       2.327\n",
            "==============================================================================\n",
            "Omnibus:                        2.326   Durbin-Watson:                   1.437\n",
            "Prob(Omnibus):                  0.313   Jarque-Bera (JB):                1.852\n",
            "Skew:                           0.210   Prob(JB):                        0.396\n",
            "Kurtosis:                       3.347   Cond. No.                         3.69\n",
            "==============================================================================\n",
            "\n",
            "Warnings:\n",
            "[1] Standard Errors assume that the covariance matrix of the errors is correctly specified.\n"
          ],
          "name": "stdout"
        }
      ]
    },
    {
      "cell_type": "markdown",
      "metadata": {
        "id": "noRErcmwTZ-h",
        "colab_type": "text"
      },
      "source": [
        "The results summary provides a number of handy statistics about our model-- likely more than we will typically need, but we can review a few below:\n",
        "* The \"coef\" colum tells us that our formula (in y=mx+b form) is `PetalLengthCm = (2.2259)(PetalWidthCm) + 1.0906`.\n",
        "* The \"t\" and \"P>|t|\" columns refer to a t-test where the null hypothesis is that the population parameters for the slope or intercept are 0 as a two-tailed test (so the first is the t statistic, the second the p-value). Here if the p-value is higher than our alpha, we fail to reject the null hypothesis, thus meaning we do not have sufficient evidence to believe a statistically significant linear relationship (on these parameters) exists.\n",
        " * In such a t-test, the distribution degrees of freedom is equal to n - k, where n is the sample size and k the number of regression parameters.\n",
        "* The [0.025 0.975] referes to our 95% confidence interval.\n",
        "\n",
        "We might now want to plot our data against the regression line to visualize this. Statsmodels doesn't have graphing capabilities near as simple as Seaborn, so we're going to build our line by formula and then overlay the data.\n",
        "\n",
        "We can access our coefficients programmatically via the `params` attribute of our results."
      ]
    },
    {
      "cell_type": "code",
      "metadata": {
        "id": "ecN8KhvkDcmj",
        "colab_type": "code",
        "outputId": "12c5692c-9861-4b20-c6ee-ca2c3f4d9e2e",
        "colab": {
          "base_uri": "https://localhost:8080/",
          "height": 34
        }
      },
      "source": [
        "# Creating variables for our slope and intercept\n",
        "b = results.params.Intercept\n",
        "m = results.params.PetalWidthCm\n",
        "# To plot a regression line, we really only need two points\n",
        "# So let's just use the min and max x values in our dataset for our new x's\n",
        "x_predicted = np.array([df.PetalWidthCm.min(), df.PetalWidthCm.max()])\n",
        "# And then we use our formula to create our y values\n",
        "y_predicted = (m * x_predicted) + b\n",
        "# Printing the coefficients just to verrify they agree with the summary above\n",
        "print(m, b)"
      ],
      "execution_count": 365,
      "outputs": [
        {
          "output_type": "stream",
          "text": [
            "2.2258853065539115 1.0905721458773807\n"
          ],
          "name": "stdout"
        }
      ]
    },
    {
      "cell_type": "markdown",
      "metadata": {
        "id": "6LrU01GJW5oB",
        "colab_type": "text"
      },
      "source": [
        "Now we can graph our predicted regression line overlaid with our actual dataset for comparison."
      ]
    },
    {
      "cell_type": "code",
      "metadata": {
        "id": "m49ue4_-H0xt",
        "colab_type": "code",
        "outputId": "58a62b68-9e8f-46e2-c565-ea8756f43fa9",
        "colab": {
          "base_uri": "https://localhost:8080/",
          "height": 345
        }
      },
      "source": [
        "# Visualizing our regression line compared to the data\n",
        "fig, ax = plt.subplots(figsize=(7, 5))\n",
        "sns.scatterplot(x=\"PetalWidthCm\", y=\"PetalLengthCm\", data=df, ax=ax)\n",
        "sns.lineplot(x=x_predicted, y=y_predicted, ax=ax)\n",
        "plt.show()"
      ],
      "execution_count": 366,
      "outputs": [
        {
          "output_type": "display_data",
          "data": {
            "image/png": "[encoded data removed]",
            "text/plain": [
              "<Figure size 504x360 with 1 Axes>"
            ]
          },
          "metadata": {
            "tags": []
          }
        }
      ]
    },
    {
      "cell_type": "markdown",
      "metadata": {
        "id": "2qvGOFM0XNXr",
        "colab_type": "text"
      },
      "source": [
        "It is worth noting that Seaborn has a function `regplot` that handles the above process all in one go while also allowing the ability to add confidence ranges on the regression line. That is plotted below."
      ]
    },
    {
      "cell_type": "code",
      "metadata": {
        "id": "4yjI-wghMU0W",
        "colab_type": "code",
        "outputId": "2e191ed2-6e77-435b-9102-d12debcbd2dd",
        "colab": {
          "base_uri": "https://localhost:8080/",
          "height": 345
        }
      },
      "source": [
        "# Seaborn's regression plot function\n",
        "plt.figure(figsize=(7,5))\n",
        "sns.regplot(x=\"PetalWidthCm\", y=\"PetalLengthCm\", data=df)\n",
        "plt.show()"
      ],
      "execution_count": 367,
      "outputs": [
        {
          "output_type": "display_data",
          "data": {
            "image/png": "[encoded data removed]",
            "text/plain": [
              "<Figure size 504x360 with 1 Axes>"
            ]
          },
          "metadata": {
            "tags": []
          }
        }
      ]
    },
    {
      "cell_type": "markdown",
      "metadata": {
        "id": "MQzeL7ECXfED",
        "colab_type": "text"
      },
      "source": [
        "One might wonder why not just use Seaborn's function then given we get the same result. For one, we don't get all of the helpful statistical data and versatility that comes with Statsmodels. Furthermore, at least at time of writing, there is no straightforward way to pull out the regression formula used in this graph programmatically. As such, `regplot` is intended as a quick visualization option, more useful for \"eyeballing\" the results rather than real model building."
      ]
    },
    {
      "cell_type": "markdown",
      "metadata": {
        "id": "IJPxC-Mb8pqa",
        "colab_type": "text"
      },
      "source": [
        "## Multiple Linear Regression <a name=\"multiple_regression\"></a>\n",
        "\n",
        "Unsurprisingly, multiple linear regression is simply linear regression with more than one variable as a predictor variable. We can use the same function as linear regression here and just add in the other variables.\n",
        "\n",
        "Let's run a model for `SepalLengthCm` off of a couple of values we already expect to have some correlation to it -- `PetalLengthCm` and `PetalWidthCm` -- but let's also add in a variable we expect to have no relation-- `RandVar`."
      ]
    },
    {
      "cell_type": "code",
      "metadata": {
        "colab_type": "code",
        "outputId": "ce1d6518-285f-4ee8-c548-4853ae90fd70",
        "id": "CHsR6omy_xKT",
        "colab": {
          "base_uri": "https://localhost:8080/",
          "height": 476
        }
      },
      "source": [
        "# Running our multiple linear regression sepal length\n",
        "lin_model = sm.formula.ols(formula='SepalLengthCm ~ RandVar + PetalLengthCm + PetalWidthCm', data=df)\n",
        "results = lin_model.fit()\n",
        "print(results.summary())"
      ],
      "execution_count": 368,
      "outputs": [
        {
          "output_type": "stream",
          "text": [
            "                            OLS Regression Results                            \n",
            "==============================================================================\n",
            "Dep. Variable:          SepalLengthCm   R-squared:                       0.768\n",
            "Model:                            OLS   Adj. R-squared:                  0.763\n",
            "Method:                 Least Squares   F-statistic:                     160.8\n",
            "Date:                Wed, 09 Oct 2019   Prob (F-statistic):           4.48e-46\n",
            "Time:                        14:03:19   Log-Likelihood:                -74.560\n",
            "No. Observations:                 150   AIC:                             157.1\n",
            "Df Residuals:                     146   BIC:                             169.2\n",
            "Df Model:                           3                                         \n",
            "Covariance Type:            nonrobust                                         \n",
            "=================================================================================\n",
            "                    coef    std err          t      P>|t|      [0.025      0.975]\n",
            "---------------------------------------------------------------------------------\n",
            "Intercept         4.2330      0.107     39.540      0.000       4.021       4.445\n",
            "RandVar          -0.0179      0.018     -0.977      0.330      -0.054       0.018\n",
            "PetalLengthCm     0.5405      0.069      7.806      0.000       0.404       0.677\n",
            "PetalWidthCm     -0.3099      0.160     -1.934      0.055      -0.627       0.007\n",
            "==============================================================================\n",
            "Omnibus:                        0.605   Durbin-Watson:                   1.836\n",
            "Prob(Omnibus):                  0.739   Jarque-Bera (JB):                0.744\n",
            "Skew:                           0.100   Prob(JB):                        0.690\n",
            "Kurtosis:                       2.719   Cond. No.                         30.2\n",
            "==============================================================================\n",
            "\n",
            "Warnings:\n",
            "[1] Standard Errors assume that the covariance matrix of the errors is correctly specified.\n"
          ],
          "name": "stdout"
        }
      ]
    },
    {
      "cell_type": "markdown",
      "metadata": {
        "id": "Tygx_K1lRwii",
        "colab_type": "text"
      },
      "source": [
        "Interpretting these results works in the same way as does simple linear regression except that now we have multiple slope-like coefficients for multiple variable inputs.\n",
        "\n",
        "However, now that we have multiple variables, we should recognize that our multiple linear regression results brings us into the territory of ANOVA and F-tests.\n",
        "\n",
        "For instance, we might consider the following tests:\n",
        "* An **overall F-test**:  This tests the null hypothesis that **every** predictor coefficient is 0. That is, it tests the null hypothesis that no linear relationship exists between the whole set and the response variable (i.e. like in ANOVA). If we picked our variables reasonably, this is unlikely. A high p-value would effectively mean to scratch the model.\n",
        "* A **general linear F-test**: This tests the null hypothesis that a given **subset** of our predictor variables is 0. That is, it tests the null hypothesis that there is no significant difference between the model with and without that variable subset dropped. A high p-value would mean we have evidence supporting to drop that subset of variables.\n",
        "* An **individual t-test**:  This is just as suspected where we are only testing the significance of one variable within the model.\n",
        "\n",
        "Our results summary already provides us with our F-statistics and it's p-value for the overall F-test in the top right of the table. The p-value here is extremely low, suggesting that at least one of the variables is statstically significant to the model.\n",
        "\n",
        "We can look at the individual t-test values also directly from the regression results as the \"P>|t|\" values. As we can see, `RandVar` has an especially high p-value, high enough that at no reasonable confidence level could we reject the null hypothesis that it's coefficient is 0. It would be reasonable to drop this from the model (as we would expect).\n",
        "\n",
        "For the general linear F-test on a subset of the data however, we will need to create multiple versions of the model with different subsets of the overall. This is sometimes called looking at models that are \"nested\" within the overall."
      ]
    },
    {
      "cell_type": "code",
      "metadata": {
        "id": "K-FiRR1w_uWD",
        "colab_type": "code",
        "colab": {}
      },
      "source": [
        "# Creating different models containing different subsets of all the variables used\n",
        "model_A = sm.formula.ols(formula='SepalLengthCm ~ RandVar', data=df).fit()\n",
        "model_B = sm.formula.ols(formula='SepalLengthCm ~ PetalLengthCm + PetalWidthCm', data=df).fit()\n",
        "model_All = sm.formula.ols(formula='SepalLengthCm ~ RandVar + PetalLengthCm + PetalWidthCm', data=df).fit()"
      ],
      "execution_count": 0,
      "outputs": []
    },
    {
      "cell_type": "markdown",
      "metadata": {
        "id": "mGJY_Q9aU2am",
        "colab_type": "text"
      },
      "source": [
        "We can now compare these difference models using F-test techniques. For this, Statsmodels has a handy function `anonva_lm` that returns analysis of variance tables for linear models. Note that running this may result in runtime warnings that are known harmless bugs (and don't affect the results). If one still felt particularly untrusting, know that R has an equivalent function that can be used in the same way.\n",
        "\n",
        "Order matters when calling this function. For our use case, we'll want to put the model containing all of the variables last and the subset model first. In this way, the model tests the signifiance of adding the *missing* variable to the model.\n",
        "\n",
        "The easiest way to see this is when performing the F-test with `RandVar` as the missing variable."
      ]
    },
    {
      "cell_type": "code",
      "metadata": {
        "id": "yyfmQ0GSN07_",
        "colab_type": "code",
        "outputId": "5da5ed68-73a5-4cf3-9894-8dcee42b2dff",
        "colab": {
          "base_uri": "https://localhost:8080/",
          "height": 233
        }
      },
      "source": [
        "# F-test of adding RandVar to the model (RandVar is missing from model_B)\n",
        "sm.stats.anova_lm(model_B, model_All)"
      ],
      "execution_count": 370,
      "outputs": [
        {
          "output_type": "stream",
          "text": [
            "/usr/local/lib/python3.6/dist-packages/scipy/stats/_distn_infrastructure.py:901: RuntimeWarning: invalid value encountered in greater\n",
            "  return (a < x) & (x < b)\n",
            "/usr/local/lib/python3.6/dist-packages/scipy/stats/_distn_infrastructure.py:901: RuntimeWarning: invalid value encountered in less\n",
            "  return (a < x) & (x < b)\n",
            "/usr/local/lib/python3.6/dist-packages/scipy/stats/_distn_infrastructure.py:1892: RuntimeWarning: invalid value encountered in less_equal\n",
            "  cond2 = cond0 & (x <= _a)\n"
          ],
          "name": "stderr"
        },
        {
          "output_type": "execute_result",
          "data": {
            "text/html": [
              "<div>\n",
              "<style scoped>\n",
              "    .dataframe tbody tr th:only-of-type {\n",
              "        vertical-align: middle;\n",
              "    }\n",
              "\n",
              "    .dataframe tbody tr th {\n",
              "        vertical-align: top;\n",
              "    }\n",
              "\n",
              "    .dataframe thead th {\n",
              "        text-align: right;\n",
              "    }\n",
              "</style>\n",
              "<table border=\"1\" class=\"dataframe\">\n",
              "  <thead>\n",
              "    <tr style=\"text-align: right;\">\n",
              "      <th></th>\n",
              "      <th>df_resid</th>\n",
              "      <th>ssr</th>\n",
              "      <th>df_diff</th>\n",
              "      <th>ss_diff</th>\n",
              "      <th>F</th>\n",
              "      <th>Pr(&gt;F)</th>\n",
              "    </tr>\n",
              "  </thead>\n",
              "  <tbody>\n",
              "    <tr>\n",
              "      <th>0</th>\n",
              "      <td>147.0</td>\n",
              "      <td>23.888836</td>\n",
              "      <td>0.0</td>\n",
              "      <td>NaN</td>\n",
              "      <td>NaN</td>\n",
              "      <td>NaN</td>\n",
              "    </tr>\n",
              "    <tr>\n",
              "      <th>1</th>\n",
              "      <td>146.0</td>\n",
              "      <td>23.733707</td>\n",
              "      <td>1.0</td>\n",
              "      <td>0.155129</td>\n",
              "      <td>0.954291</td>\n",
              "      <td>0.330245</td>\n",
              "    </tr>\n",
              "  </tbody>\n",
              "</table>\n",
              "</div>"
            ],
            "text/plain": [
              "   df_resid        ssr  df_diff   ss_diff         F    Pr(>F)\n",
              "0     147.0  23.888836      0.0       NaN       NaN       NaN\n",
              "1     146.0  23.733707      1.0  0.155129  0.954291  0.330245"
            ]
          },
          "metadata": {
            "tags": []
          },
          "execution_count": 370
        }
      ]
    },
    {
      "cell_type": "markdown",
      "metadata": {
        "id": "kuawHgWoXfhj",
        "colab_type": "text"
      },
      "source": [
        "We can see here that the p-value is quite high and as such we can not reject the null hypothesis that the coefficient for `RandVar` is 0. Notice that this, in effect, gives us the same result as the t-test value found in the regression results. We suppose then that we could drop `RandVar` from our model.\n",
        "\n",
        "Let's try a general linear F-test on a subset of the model still containing petal length and width. Remember that for `anova_lm` it is considering the significance of the variables added to the next (overall) model, so we will feed the function a model *without* those two predictors."
      ]
    },
    {
      "cell_type": "code",
      "metadata": {
        "id": "pw0IgEl4N7S0",
        "colab_type": "code",
        "outputId": "0ceddbd6-2127-4daf-8315-984712ae6f59",
        "colab": {
          "base_uri": "https://localhost:8080/",
          "height": 233
        }
      },
      "source": [
        "# F-test of adding petal length and width to the model (both variables missing from model_A)\n",
        "sm.stats.anova_lm(model_A, model_All)"
      ],
      "execution_count": 371,
      "outputs": [
        {
          "output_type": "stream",
          "text": [
            "/usr/local/lib/python3.6/dist-packages/scipy/stats/_distn_infrastructure.py:901: RuntimeWarning: invalid value encountered in greater\n",
            "  return (a < x) & (x < b)\n",
            "/usr/local/lib/python3.6/dist-packages/scipy/stats/_distn_infrastructure.py:901: RuntimeWarning: invalid value encountered in less\n",
            "  return (a < x) & (x < b)\n",
            "/usr/local/lib/python3.6/dist-packages/scipy/stats/_distn_infrastructure.py:1892: RuntimeWarning: invalid value encountered in less_equal\n",
            "  cond2 = cond0 & (x <= _a)\n"
          ],
          "name": "stderr"
        },
        {
          "output_type": "execute_result",
          "data": {
            "text/html": [
              "<div>\n",
              "<style scoped>\n",
              "    .dataframe tbody tr th:only-of-type {\n",
              "        vertical-align: middle;\n",
              "    }\n",
              "\n",
              "    .dataframe tbody tr th {\n",
              "        vertical-align: top;\n",
              "    }\n",
              "\n",
              "    .dataframe thead th {\n",
              "        text-align: right;\n",
              "    }\n",
              "</style>\n",
              "<table border=\"1\" class=\"dataframe\">\n",
              "  <thead>\n",
              "    <tr style=\"text-align: right;\">\n",
              "      <th></th>\n",
              "      <th>df_resid</th>\n",
              "      <th>ssr</th>\n",
              "      <th>df_diff</th>\n",
              "      <th>ss_diff</th>\n",
              "      <th>F</th>\n",
              "      <th>Pr(&gt;F)</th>\n",
              "    </tr>\n",
              "  </thead>\n",
              "  <tbody>\n",
              "    <tr>\n",
              "      <th>0</th>\n",
              "      <td>148.0</td>\n",
              "      <td>101.715486</td>\n",
              "      <td>0.0</td>\n",
              "      <td>NaN</td>\n",
              "      <td>NaN</td>\n",
              "      <td>NaN</td>\n",
              "    </tr>\n",
              "    <tr>\n",
              "      <th>1</th>\n",
              "      <td>146.0</td>\n",
              "      <td>23.733707</td>\n",
              "      <td>2.0</td>\n",
              "      <td>77.981779</td>\n",
              "      <td>239.855906</td>\n",
              "      <td>7.285019e-47</td>\n",
              "    </tr>\n",
              "  </tbody>\n",
              "</table>\n",
              "</div>"
            ],
            "text/plain": [
              "   df_resid         ssr  df_diff    ss_diff           F        Pr(>F)\n",
              "0     148.0  101.715486      0.0        NaN         NaN           NaN\n",
              "1     146.0   23.733707      2.0  77.981779  239.855906  7.285019e-47"
            ]
          },
          "metadata": {
            "tags": []
          },
          "execution_count": 371
        }
      ]
    },
    {
      "cell_type": "markdown",
      "metadata": {
        "id": "ctsU6gNeYfV7",
        "colab_type": "text"
      },
      "source": [
        "Unlike the other p-values, this one we can't glean from the regression summary results. However, as expected, the p-value is extremely low, meaning we can reject the null hypotehsis that all coefficients in our subset here of petal length and width variables are 0. That is, we expect at least one of the variables in this subset to be statistically significant to the model. We *don't* know which, and we don't know if both are, but we shouldn't drop out them both out at least."
      ]
    },
    {
      "cell_type": "markdown",
      "metadata": {
        "id": "iIG6Q02cCHal",
        "colab_type": "text"
      },
      "source": [
        "## Categorical Regression <a name=\"categorical_regression\"></a>\n",
        "\n",
        "We can also run regression on categorical variables. Since regression expects continuous numerical values, the data must be transformed into a numeric form, generally through the creation of \"dummy\" variables (where the values are split into different columns and encoded as 0's or 1's). Remember that in dummy-coding, one column will be dropped and act as a \"reference\" column (I have my own notes on this, but this is effectively due to the need to not create redundant information in the matrix).\n",
        "\n",
        "Using non-formulaic Statsmodels methods, you would have to create the dummy-coding of your categorical variables yourself. With the formula version, the coding and dropping of a reference is handled automatically.\n",
        "\n",
        "Let's run an example utilizing the Species feature of our data set to see what this looks like."
      ]
    },
    {
      "cell_type": "code",
      "metadata": {
        "id": "u5s6TgaMYeOM",
        "colab_type": "code",
        "outputId": "df481820-9b93-407d-e355-2dd03489e5a8",
        "colab": {
          "base_uri": "https://localhost:8080/",
          "height": 496
        }
      },
      "source": [
        "# Run a categorical linear regression\n",
        "lin_model = sm.formula.ols(formula='PetalLengthCm ~ PetalWidthCm + Species', data=df)\n",
        "results = lin_model.fit()\n",
        "print(results.summary())"
      ],
      "execution_count": 372,
      "outputs": [
        {
          "output_type": "stream",
          "text": [
            "                            OLS Regression Results                            \n",
            "==============================================================================\n",
            "Dep. Variable:          PetalLengthCm   R-squared:                       0.955\n",
            "Model:                            OLS   Adj. R-squared:                  0.954\n",
            "Method:                 Least Squares   F-statistic:                     1032.\n",
            "Date:                Wed, 09 Oct 2019   Prob (F-statistic):           4.80e-98\n",
            "Time:                        14:03:20   Log-Likelihood:                -64.979\n",
            "No. Observations:                 150   AIC:                             138.0\n",
            "Df Residuals:                     146   BIC:                             150.0\n",
            "Df Model:                           3                                         \n",
            "Covariance Type:            nonrobust                                         \n",
            "==============================================================================================\n",
            "                                 coef    std err          t      P>|t|      [0.025      0.975]\n",
            "----------------------------------------------------------------------------------------------\n",
            "Intercept                      1.2169      0.065     18.688      0.000       1.088       1.346\n",
            "Species[T.Iris-versicolor]     1.7003      0.181      9.382      0.000       1.342       2.059\n",
            "Species[T.Iris-virginica]      2.2835      0.282      8.110      0.000       1.727       2.840\n",
            "PetalWidthCm                   1.0126      0.152      6.653      0.000       0.712       1.313\n",
            "==============================================================================\n",
            "Omnibus:                        9.544   Durbin-Watson:                   1.742\n",
            "Prob(Omnibus):                  0.008   Jarque-Bera (JB):               11.080\n",
            "Skew:                           0.445   Prob(JB):                      0.00393\n",
            "Kurtosis:                       3.990   Cond. No.                         20.7\n",
            "==============================================================================\n",
            "\n",
            "Warnings:\n",
            "[1] Standard Errors assume that the covariance matrix of the errors is correctly specified.\n"
          ],
          "name": "stdout"
        }
      ]
    },
    {
      "cell_type": "markdown",
      "metadata": {
        "id": "rGJ7qqfNGuFW",
        "colab_type": "text"
      },
      "source": [
        "In the case above, we can see that the species value of setosa is dropped as it has become our reference level (this was handled automatically for us via the use of formulas). In this case, the coefficient for the intercept gives us the mean value of the response variable for setosa. The coefficients for the other categorical values then represent the *added* value to the response variable when switching to those categories.\n",
        "\n",
        "One might then wonder what happens when we add multiple categorical variables to the data, for instance if we used our `Cat3` variable which has values of \"dark\" or \"light.\""
      ]
    },
    {
      "cell_type": "code",
      "metadata": {
        "id": "VArdpUVKD9sU",
        "colab_type": "code",
        "outputId": "624042f7-3c8b-45f2-fdce-59426ca2a098",
        "colab": {
          "base_uri": "https://localhost:8080/",
          "height": 513
        }
      },
      "source": [
        "# Linear regression with multiple categorical values\n",
        "lin_model = sm.formula.ols(formula='PetalLengthCm ~ PetalWidthCm + Species + Cat3', data=df)\n",
        "results = lin_model.fit()\n",
        "print(results.summary())"
      ],
      "execution_count": 373,
      "outputs": [
        {
          "output_type": "stream",
          "text": [
            "                            OLS Regression Results                            \n",
            "==============================================================================\n",
            "Dep. Variable:          PetalLengthCm   R-squared:                       0.957\n",
            "Model:                            OLS   Adj. R-squared:                  0.956\n",
            "Method:                 Least Squares   F-statistic:                     809.1\n",
            "Date:                Wed, 09 Oct 2019   Prob (F-statistic):           4.89e-98\n",
            "Time:                        14:03:20   Log-Likelihood:                -61.318\n",
            "No. Observations:                 150   AIC:                             132.6\n",
            "Df Residuals:                     145   BIC:                             147.7\n",
            "Df Model:                           4                                         \n",
            "Covariance Type:            nonrobust                                         \n",
            "==============================================================================================\n",
            "                                 coef    std err          t      P>|t|      [0.025      0.975]\n",
            "----------------------------------------------------------------------------------------------\n",
            "Intercept                      1.2241      0.064     19.180      0.000       1.098       1.350\n",
            "Species[T.Iris-versicolor]     1.6493      0.178      9.241      0.000       1.297       2.002\n",
            "Species[T.Iris-virginica]      2.2709      0.276      8.235      0.000       1.726       2.816\n",
            "Cat3[T.light]                  0.2553      0.095      2.693      0.008       0.068       0.443\n",
            "PetalWidthCm                   0.8993      0.155      5.807      0.000       0.593       1.205\n",
            "==============================================================================\n",
            "Omnibus:                        9.488   Durbin-Watson:                   1.668\n",
            "Prob(Omnibus):                  0.009   Jarque-Bera (JB):               12.297\n",
            "Skew:                           0.391   Prob(JB):                      0.00214\n",
            "Kurtosis:                       4.164   Cond. No.                         22.3\n",
            "==============================================================================\n",
            "\n",
            "Warnings:\n",
            "[1] Standard Errors assume that the covariance matrix of the errors is correctly specified.\n"
          ],
          "name": "stdout"
        }
      ]
    },
    {
      "cell_type": "markdown",
      "metadata": {
        "id": "tSumrdqLH8Z0",
        "colab_type": "text"
      },
      "source": [
        "We can see that statsmodels still handles the dummy coding and drops a value to use as a reference for both `Species` and `Cat3`. As such, \"setosa\" and \"dark\" are missing, and both reference to our new reference level. The intercept then takes on the mean for flowers that are \"dark\" and \"setosa.\" By viewing the coefficients for the other categorical values as an additive value to the response, we can see how we can still interpret our results in the same manner as earlier. That is, the coefficient for versicolor is the added value to the response when switching from \"dark setosa\" to \"dark versicolor,\" and so on. For further reading, this [stack exchange post](https://stats.stackexchange.com/questions/120030/interpretation-of-betas-when-there-are-multiple-categorical-variables) adds a little extra clarification."
      ]
    },
    {
      "cell_type": "markdown",
      "metadata": {
        "id": "eNXFoZT8IyQG",
        "colab_type": "text"
      },
      "source": [
        "## Regression Diagnostics <a name=\"regression_diagnostics\"></a>\n",
        "\n",
        "While a regression model may appear to predict the data well at simple glance, it is important to remember that ordinary linear regression makes a few assumptions:\n",
        "\n",
        "* **Linearity** - A linear relationship actually exists. If so, a plot of the residuals vs the y-value should be randomly distributed about 0.\n",
        "* **Independence** - Observations are indepedent of one another (not **auto-correlated**). This is often true, but may be of particular concern for time-series data.\n",
        "* **Normality** - The errors are normally distributed.\n",
        "* **Homoscedasticity of errors** - The errors possess homoscedasticity. That is, they have equal variance.\n",
        "\n",
        "It is possible that a regression model appears to \"work,\" but a failure of amongst these assumptions might suggest a difficulty generalizing beyond the dataset. Ordinary linear regression is, however, fairly robust to light violations of these assumptions in so much that a quick visual inspection usually is sufficient.\n",
        "\n",
        "One more consideration is that of **collinearity** (where multiple variables vary together in the same way) which may results in a mathematically sound prediction, but an unstable model (discussed below).\n",
        "\n",
        "We'll review running diagnostic checks on each of these below on a simple model from our Iris datset.\n",
        "\n",
        "First, let's set up a model to use. We do not necessarily aim to address the issues in this model here but simply have some data to run example functions on."
      ]
    },
    {
      "cell_type": "code",
      "metadata": {
        "id": "Hb2lBsj6H5-U",
        "colab_type": "code",
        "outputId": "6afbe69b-1340-4786-eaf3-47cc83caac11",
        "colab": {
          "base_uri": "https://localhost:8080/",
          "height": 442
        }
      },
      "source": [
        "# Creating a model to perform some diagnostics on\n",
        "lin_model = sm.formula.ols(formula='PetalLengthCm ~ PetalWidthCm', data=df)\n",
        "results = lin_model.fit()\n",
        "print(results.summary())"
      ],
      "execution_count": 374,
      "outputs": [
        {
          "output_type": "stream",
          "text": [
            "                            OLS Regression Results                            \n",
            "==============================================================================\n",
            "Dep. Variable:          PetalLengthCm   R-squared:                       0.927\n",
            "Model:                            OLS   Adj. R-squared:                  0.926\n",
            "Method:                 Least Squares   F-statistic:                     1877.\n",
            "Date:                Wed, 09 Oct 2019   Prob (F-statistic):           5.78e-86\n",
            "Time:                        14:03:20   Log-Likelihood:                -101.32\n",
            "No. Observations:                 150   AIC:                             206.6\n",
            "Df Residuals:                     148   BIC:                             212.7\n",
            "Df Model:                           1                                         \n",
            "Covariance Type:            nonrobust                                         \n",
            "================================================================================\n",
            "                   coef    std err          t      P>|t|      [0.025      0.975]\n",
            "--------------------------------------------------------------------------------\n",
            "Intercept        1.0906      0.073     14.951      0.000       0.946       1.235\n",
            "PetalWidthCm     2.2259      0.051     43.320      0.000       2.124       2.327\n",
            "==============================================================================\n",
            "Omnibus:                        2.326   Durbin-Watson:                   1.437\n",
            "Prob(Omnibus):                  0.313   Jarque-Bera (JB):                1.852\n",
            "Skew:                           0.210   Prob(JB):                        0.396\n",
            "Kurtosis:                       3.347   Cond. No.                         3.69\n",
            "==============================================================================\n",
            "\n",
            "Warnings:\n",
            "[1] Standard Errors assume that the covariance matrix of the errors is correctly specified.\n"
          ],
          "name": "stdout"
        }
      ]
    },
    {
      "cell_type": "markdown",
      "metadata": {
        "id": "W9KtYqJL9dJN",
        "colab_type": "text"
      },
      "source": [
        "And now let's plot the model to see how it looks.\n",
        "\n",
        "Previously we ran similar code to plot our model by creating two points for our linear equation using the coefficients from our model. We can see below that this can be skipped by using the `fittedvalues` attribute of our model results (provided by Statsmodels)."
      ]
    },
    {
      "cell_type": "code",
      "metadata": {
        "id": "WvPo-KIKcFzo",
        "colab_type": "code",
        "outputId": "2f69f173-99c3-4287-fb13-b088c51d7ae6",
        "colab": {
          "base_uri": "https://localhost:8080/",
          "height": 345
        }
      },
      "source": [
        "# Visualizing our regression line compared to the data\n",
        "fig, ax = plt.subplots(figsize=(7, 5))\n",
        "sns.scatterplot(x=\"PetalWidthCm\", y=\"PetalLengthCm\", data=df, ax=ax)\n",
        "sns.lineplot(x=df.PetalWidthCm, y=results.fittedvalues, ax=ax)\n",
        "plt.show()"
      ],
      "execution_count": 375,
      "outputs": [
        {
          "output_type": "display_data",
          "data": {
            "image/png": "[encoded data removed]",
            "text/plain": [
              "<Figure size 504x360 with 1 Axes>"
            ]
          },
          "metadata": {
            "tags": []
          }
        }
      ]
    },
    {
      "cell_type": "markdown",
      "metadata": {
        "id": "Uf4-2dcI92l2",
        "colab_type": "text"
      },
      "source": [
        "The model does appear to predict the data reasonably well. However, we'll continue forward with our diagnostics to see if it possess any particular vulnerabilities.\n",
        "\n",
        "Statsmodels provides a few handy attributes to grab the residuals of our model as well as a standardized version of the residuals (`resid_pearson`) which will be useful for much of our diagnostics. We've also already seen how to grab the fitted values, we we'll set these up as convenience variables below."
      ]
    },
    {
      "cell_type": "code",
      "metadata": {
        "id": "NJcvadHMj9WU",
        "colab_type": "code",
        "colab": {}
      },
      "source": [
        "# Setting up some convenience variables for our diagnostics\n",
        "residuals = results.resid\n",
        "residuals_standard = results.resid_pearson # This is a standardized version of the residuals\n",
        "fitted_vals = results.fittedvalues"
      ],
      "execution_count": 0,
      "outputs": []
    },
    {
      "cell_type": "markdown",
      "metadata": {
        "id": "M2HOkQNmRkf4",
        "colab_type": "text"
      },
      "source": [
        "### Linearity Assumption <a name=\"regression_linear\"></a>\n",
        "\n",
        "One of the assumptions of our regression process is that the true relationship is indeed linear. If so, we expect a plot of the residuals against each of our predictor variables to show a distribution randomly centered around 0. If the residuals showed some other relationship (such as a curve), we can wager the assumption is broken.\n",
        "\n",
        "We'll do the residual plot below."
      ]
    },
    {
      "cell_type": "code",
      "metadata": {
        "id": "gEEG_lAVY6Lg",
        "colab_type": "code",
        "outputId": "c031d267-3243-4a86-a931-427cb3db6848",
        "colab": {
          "base_uri": "https://localhost:8080/",
          "height": 291
        }
      },
      "source": [
        "# Plot of residuals against predictor variable\n",
        "sns.scatterplot(x=df.PetalWidthCm, y=residuals)\n",
        "plt.axhline(y=0, color='r', linestyle='-')\n",
        "plt.show()"
      ],
      "execution_count": 377,
      "outputs": [
        {
          "output_type": "display_data",
          "data": {
            "image/png": "[encoded data removed]",
            "text/plain": [
              "<Figure size 432x288 with 1 Axes>"
            ]
          },
          "metadata": {
            "tags": []
          }
        }
      ]
    },
    {
      "cell_type": "markdown",
      "metadata": {
        "id": "ZvU3lIo-_IOq",
        "colab_type": "text"
      },
      "source": [
        "If we had multiple predictor variables, we would run this plot for each of them.\n",
        "\n",
        "Here it's not so clear that we would pass the linearity assumption as the errors are not obviously distributed about 0. We see this in the apparent clustering on the left and high negative bias on the far right. From the pairwise and correlation plots however, we expect these two variables to have a fairly linear relationship. One explanation may be the presence of different species affecting the PetalWidth's, which our model doesn't account for. As such, we might consider doing more work on the model to make it more generalizable.\n",
        "\n",
        "In cases where it's hard to evaluate the residuals plot, we might rely on a statistical test. One such is the **Harvey-Collier** test, which Statsmodels does have an implementation of. This function however fails for highly correlated values (as is the case of our two) and as such is commented out below"
      ]
    },
    {
      "cell_type": "code",
      "metadata": {
        "id": "oncBF6RmtqrZ",
        "colab_type": "code",
        "colab": {}
      },
      "source": [
        "# Commented out as this function fails for highly colinear predictor/response variables\n",
        "# sm.stats.diagnostic.linear_harvey_collier(results)"
      ],
      "execution_count": 0,
      "outputs": []
    },
    {
      "cell_type": "markdown",
      "metadata": {
        "id": "P10iesG8SHd1",
        "colab_type": "text"
      },
      "source": [
        "### Independence Assumption <a name=\"regression_independence\"></a>\n",
        "\n",
        "The independence assumption requires that each observation is independent of the others. For cross-sectional data, this is often true, but we should be especially concerned for longitudinal data such as time-series. If the observations are not independent, we say that **autocorrelation** is present.\n",
        "\n",
        "One way to address to check this is by plotting the residuals of the model against a longitudinal variable present in the dataset. If you notice a particular trend, you may need to adjust your model to account for it.\n",
        "\n",
        "Another means of checking this quickly is by the **Durban-Watson** test statistic which is printed by the OLS regression summary. This value has a range from 0 to 4, with 2 representing no auto-correlation expected. Values falling in the range of 1 to 3 (as is in our case) are generally fine for passing the independence assumption."
      ]
    },
    {
      "cell_type": "markdown",
      "metadata": {
        "id": "RutZPA1pSJm1",
        "colab_type": "text"
      },
      "source": [
        "### Normality Assumption <a name=\"regression_normality\"></a>\n",
        "\n",
        "The normality assumption asks that our errors be normally distributed. There are quite a few ways to check this.\n",
        "\n",
        "We could, for instance, do a simple histogram plot of the residuals."
      ]
    },
    {
      "cell_type": "code",
      "metadata": {
        "id": "VoWbTgQSfVey",
        "colab_type": "code",
        "outputId": "4e830557-4557-4a8e-c9a3-57368fbb0bb9",
        "colab": {
          "base_uri": "https://localhost:8080/",
          "height": 274
        }
      },
      "source": [
        "# Histogram plot of the residuals\n",
        "sns.distplot(residuals)\n",
        "plt.show()"
      ],
      "execution_count": 379,
      "outputs": [
        {
          "output_type": "display_data",
          "data": {
            "image/png": "[encoded data removed]",
            "text/plain": [
              "<Figure size 432x288 with 1 Axes>"
            ]
          },
          "metadata": {
            "tags": []
          }
        }
      ]
    },
    {
      "cell_type": "markdown",
      "metadata": {
        "id": "wR13_m0XCQ6c",
        "colab_type": "text"
      },
      "source": [
        "In our case, the distribution appears quite normal, but this may not always be obvious.\n",
        "\n",
        "In such cases, we might also consider a QQ plot. When plotting the residuals in this way, it is common to use the standardized version of the residuals. If most of the values fall along the y=x line, we can reasonably expect it to be normal. If there are extreme patterns at any particular part of the plot, we should consider futher investigation."
      ]
    },
    {
      "cell_type": "code",
      "metadata": {
        "id": "e8f9Ctw0gD-g",
        "colab_type": "code",
        "outputId": "600ea8ef-feeb-401d-efa0-516b453f31b8",
        "colab": {
          "base_uri": "https://localhost:8080/",
          "height": 291
        }
      },
      "source": [
        "# QQplot of the standardized residuals\n",
        "sm.qqplot(residuals_standard, line='45', fit=True)\n",
        "plt.show()"
      ],
      "execution_count": 380,
      "outputs": [
        {
          "output_type": "display_data",
          "data": {
            "image/png": "[encoded data removed]",
            "text/plain": [
              "<Figure size 432x288 with 1 Axes>"
            ]
          },
          "metadata": {
            "tags": []
          }
        }
      ]
    },
    {
      "cell_type": "markdown",
      "metadata": {
        "id": "XqCEzBeqlRGE",
        "colab_type": "text"
      },
      "source": [
        "In the QQplot above, it does indeed appear that our residuals are fairly normally distributed.\n",
        "\n",
        "However, we might also rely on statistical tests for normalcy, many of which are printed in the OLS summary results:\n",
        "* **Skew and kurtosis** - Values closer to 0 represent normalcy better. Values within +/-2 for either are quite good. Values more extreme than +/-3 warrant inspection, but do not directly invalidate the assumption. In our case, our model has some considerable kurtosis (or \"tailedness\" in the residuals), but given our other observations, we still consider the normalcy check passed.\n",
        "* **Omnibus Test** - This is a chi-squared based test where the null hypothesis is that the residuals fit a normal distribution. The \"Prob\" printed in the summary is the p-value which is high, which fits with our assumption.\n",
        "* **Jarque-Bera (and other tests)** - Many other tests could also be used, but the summary table prints the Jarque-Bera test. Against this is a test for normalcy, so a high p-value (given by the \"Prob\" row) gives evidence to continue with our assumption.\n",
        "\n",
        "When using statistical tests however we should remember that very high sample sizes can draw the p-value low even when the distribution otherwise appears normal. As such, visualizing the data is generally always worth it."
      ]
    },
    {
      "cell_type": "markdown",
      "metadata": {
        "id": "Bo8dodm5SMkx",
        "colab_type": "text"
      },
      "source": [
        "### Homoscedasticity Assumption (Constant Variance) <a name=\"regression_variance\"></a>\n",
        "\n",
        "The homoscedasticity assumption asks that the residuals have constant variance. That is, if we reviewed their variance from the mean, we would expect to see no particular trend.\n",
        "\n",
        "We can check this via a plot of the residuals against the fitted values. If we see a particular \"funnel\" shape or other patterns, we then must reconsider our assumption.\n",
        "\n",
        "In the case of a regression based on one predictor variable, the plot against the fitted values will look similar to the plot against the predictor variable (as seen below)."
      ]
    },
    {
      "cell_type": "code",
      "metadata": {
        "id": "5T12IgdMdZxK",
        "colab_type": "code",
        "outputId": "f85eb163-d523-4016-c5e7-e2409bf05495",
        "colab": {
          "base_uri": "https://localhost:8080/",
          "height": 274
        }
      },
      "source": [
        "# Plot of residuals vs fitted values\n",
        "sns.scatterplot(x=fitted_vals, y=residuals)\n",
        "plt.axhline(y=0, color='r', linestyle='-')\n",
        "plt.show()"
      ],
      "execution_count": 381,
      "outputs": [
        {
          "output_type": "display_data",
          "data": {
            "image/png": "[encoded data removed]",
            "text/plain": [
              "<Figure size 432x288 with 1 Axes>"
            ]
          },
          "metadata": {
            "tags": []
          }
        }
      ]
    },
    {
      "cell_type": "markdown",
      "metadata": {
        "id": "4NyNGJhVrum2",
        "colab_type": "text"
      },
      "source": [
        "In this case, the variance seems to have a noticeable pattern, but it's not obvious what that may be.\n",
        "\n",
        "We might then rely on a statistical test to consider this more formally. One such test is the **Breusch-Pagan** test which takes in the residuals and the predictor variables (convenient retrieved from our Statsmodels results as `results.model.exog`). This model is specifically intended for testing for heterscedasticity in a linear regression model. We run this below:"
      ]
    },
    {
      "cell_type": "code",
      "metadata": {
        "id": "R6nIi8_WrwKA",
        "colab_type": "code",
        "outputId": "2387a0cb-d031-4609-a247-17d824a5cdb0",
        "colab": {
          "base_uri": "https://localhost:8080/",
          "height": 85
        }
      },
      "source": [
        "# Running the Breusch-Pagan test \n",
        "sm.stats.diagnostic.het_breuschpagan(residuals, results.model.exog)"
      ],
      "execution_count": 382,
      "outputs": [
        {
          "output_type": "execute_result",
          "data": {
            "text/plain": [
              "(23.412397406799318,\n",
              " 1.307332881903719e-06,\n",
              " 27.372623742164265,\n",
              " 5.638087290329958e-07)"
            ]
          },
          "metadata": {
            "tags": []
          },
          "execution_count": 382
        }
      ]
    },
    {
      "cell_type": "markdown",
      "metadata": {
        "id": "oOwJ2vahwxY3",
        "colab_type": "text"
      },
      "source": [
        "The results are the test statistics and p-values for two versions of the test- the Langrange Multiplier and F-test (in that order). In either case, the null hypothesis is that homoscedasticity is present, so a low p-value suggests heteroscedasticity and a violation of our assumption.\n",
        "\n",
        "For this particular dataset, we might consider if the unequal variance is coming from some other variable (such as the species or some other factor) which is then \"leaking\" into our residuals here. In either case, we might want to re-evaluate the model."
      ]
    },
    {
      "cell_type": "markdown",
      "metadata": {
        "id": "Vy0a8-s2Sb67",
        "colab_type": "text"
      },
      "source": [
        "### Multicollinearity <a name=\"regression_multicollinearity\"></a>\n",
        "\n",
        "The presence of collinearity (in the case of two variables) or multicollinearity (in the case of multiple variables) does not necessarily invaliate the basic assumption of our model, but its presence may create instability. That is, the current model migth have strong predictive power on the current dataset, but if we rebuilt the model on a similar dataset, even slight variations might result in wild changes of the regression coefficients.\n",
        "\n",
        "To visualize this, imagine a model based on two predictor variable $X_1$ and $X_2$ with coefficients $\\beta_1$ and $\\beta_2$. If $X_1$ and $X_2$ posess collinearity, a fairly predictive model could be built where, in one build, $\\beta_1$ is large and $\\beta_2$ small, while in another build the reverse is true, since both coefficients \"describe\" the response variable to a similar degree. As such, your model, particularly your equation, is unstable, even though you might be able to accurate predict you response. Such a model would also be unstable for a different dataset with a higher empahsis on $X_2$ wherein the output might change quite drastically. In multicollinearity, the idea is similar, but the correlation may be spread across multiple variables.\n",
        "\n",
        "Generally the OLS results summary will provide a warning of this, but there are a number of ways to check it:\n",
        "* In the case of just two variables, check the correlation table. If two predictor variables are high correlated, you can expect some collinearity.\n",
        "* In the case of multiple variables and checking for multicollinearity:\n",
        "  * Check the eigen values of the correlation matrix. If any are close to 0, multicollinearity may exist.\n",
        "  * Run a **variance inflation factor analysis (VIF)**. This reports the ratio of a beta within a given model compared to the beta if that model were alone. High values suggest collinearity on that variable. [This post](https://etav.github.io/python/vif_factor_python.html) demonstrates the technique.\n",
        "  * Check the **condition number**. This number is conveniently printed in the regression summary results and indicates the sensitivity of response, or how much the output value of the function can change with versus a small change in input. While this does not measure collinearity directly, high condition numbers (rule of thumb, >30) suggest this may be a concern.\n",
        "  \n",
        "If collinearity is present, we might consider tactics such as reviewing the variables with collinearity and then removing one (or multiple) of them, or combining them in some way. We might also consider other techniques such as principal component analysis which will result in new, independent variable inputs."
      ]
    },
    {
      "cell_type": "markdown",
      "metadata": {
        "id": "7zaVFbq8S_T5",
        "colab_type": "text"
      },
      "source": [
        "### General Quality <a name=\"regression_quality\"></a>\n",
        "\n",
        "Beyond review the plot of our regression model, we might also consider a few items from the regression summary:\n",
        "* **$R^2$** - This value indicates the proportion of the variance in the dataset explained by our model (so a high $R^2$ is good). Note that a high $R^2$ does *not* necessarily indicated our model is correct though, as it's possible for instance to have a non-linear relationship still with a high $R^2$.\n",
        "* **$Adjusted \\ R^2$** - One problem with $R^2$ is that adding additional terms to your model will almost always increase the $R^2$. However, this may lead to overfitting (fittin the noise in the data) and poor generalizability. The $Adjusted R^2$ reports the proprotion of variance explained but penalizes complexity. As such, this is intended to go up if a \"worthwhile\" predictor variable is added. This value can be particularly useful when comparing two models.\n",
        "* **Akaike Information Criterion (AIC) and the Bayesian Information Criterion (BIC)** - Both numbers are estimators of the relative statistical quality of a model, each referring in their own way to the relative amount of information lost by a model. As such, lower AIC and BIC values are preffered. In both cases, the criterion attempts to penalize models for added complexity, though the BIC criterion penalizes such more heavily. These are not particularly useful for reviewing a model on its own but can be helpful when comparing two different models though, importantly, *on the same data set*.\n",
        "\n",
        "Again, it's always important to plot your results however!"
      ]
    },
    {
      "cell_type": "markdown",
      "metadata": {
        "id": "uw30xW-xztH8",
        "colab_type": "text"
      },
      "source": [
        "### Outliers <a name=\"regression_outliers\"></a>\n",
        "\n",
        "One should also consider outliers in regression, though we won't discuss here (I may add more information later). Outliers might be found through the standard means, but one might consider reviewing a **Cook's distance plot** in the context of regression analysis."
      ]
    },
    {
      "cell_type": "markdown",
      "metadata": {
        "id": "-aD9c5ycXxc4",
        "colab_type": "text"
      },
      "source": [
        "### Addressing Regression Issues <a name=\"regression_addressing_issues\"></a>\n",
        "\n",
        "If any of the assumptions above are violated, or the model does not perform well, some of the techniques below may be helpful:\n",
        "* Transforming the data. Perhaps the data possess a linear relationship under their log, root, squared, cubed or otherwise relationships. Both the predictor and response variables may be transformed, and Statsmodels allows implementation of this directly into the formulas.\n",
        "* Adding or removing variables (of course)\n",
        "* Adding interaction effects\n",
        "* Combinding variables (namely in the case of collinearity)\n",
        "* Basing a model on a principal component analysis instead\n",
        "* Removing outliers or high-leverage points\n",
        "* Considering a [different type of model](https://en.wikipedia.org/wiki/Linear_regression#Extensions), such as a \"general linear\" model or one that allows for more heteroscedasticity\n",
        "\n",
        "One should not blindly implement such techniques (such as transformations) as should use the diagnostics above as a means of guided the methodology. For further reading, [this post](https://towardsdatascience.com/verifying-the-assumptions-of-linear-regression-in-python-and-r-f4cd2907d4c0) and [this post](https://mgimond.github.io/Stats-in-R/regression.html) provide a rather significant walk-through of regression and debugging and might be considered"
      ]
    },
    {
      "cell_type": "markdown",
      "metadata": {
        "id": "LDHj0aftQFz4",
        "colab_type": "text"
      },
      "source": [
        "## Logistic Regression <a name=\"logistic_regression\"></a>\n",
        "\n",
        "Logistic regression can be used when the response variable's values are binary. Mechanically the process of fitting the a logistic regression using a formula in Statsmodels is similar, though logistic regression models on the **sigmoid function** rather than a typical linear equation.\n",
        "\n",
        "The [sigmoid function](https://en.wikipedia.org/wiki/Sigmoid_function) is: $f(x) = \\frac{e^x}{1+e^x}$\n",
        "where the linear formula for fitting the logistic regression is $x$. This function's output is the probability (between 0 and 1) of the target case being modeled. As such, it appears as a \"horizontal S\" bounded between 0 and 1 on a graph. The sigmoid function can be transformed in such a way that the predictor side takes the standard linear form via a [logit](https://en.wikipedia.org/wiki/Logit) transformation. Logistic regression typicalls shows its coefficients under this transformation.\n",
        "\n",
        "Errors work differently in logistic regression, so estimated parameters is usually done via the **maximum likelihood estimation**. In this method, the attempt is to create a curve that maximizes the probability of obtaining the 0's and 1's from the sample.\n",
        "\n",
        "### Example and Interpretation <a name=\"logistic_example\"></a>\n",
        "\n",
        "We'll run a simple logistic regression below on our `Cat3` variable which had values of only \"light\" or \"dark\". When we set this up, we made this value a response to the sepal length variable, so we'll create our formula accordingly.\n",
        "\n",
        "First though, we need to dummy code our binary variable into 1's and 0's. We'll make \"light\" be our \"target\" here (this is abritrary). Whereas Statsmodel's formula implementation handles categorical coding on the predictor side, it doesn't for the response, so this must be done manually."
      ]
    },
    {
      "cell_type": "code",
      "metadata": {
        "id": "_FGq4LRSURL_",
        "colab_type": "code",
        "colab": {}
      },
      "source": [
        "# Dummy coding our binary variable into 1's and 0's\n",
        "df['Cat3_light'] = df.Cat3.map(dict(light=1, dark=0))"
      ],
      "execution_count": 0,
      "outputs": []
    },
    {
      "cell_type": "markdown",
      "metadata": {
        "id": "gmtrs-VFZnj6",
        "colab_type": "text"
      },
      "source": [
        "We can now set up our logistic regression model on our coded variable. Mechanically this works the exact same as in linear regression."
      ]
    },
    {
      "cell_type": "code",
      "metadata": {
        "id": "KTZOr7mWXwiy",
        "colab_type": "code",
        "outputId": "156f21a7-6e89-4bf0-c221-89ae8578f0f0",
        "colab": {
          "base_uri": "https://localhost:8080/",
          "height": 68
        }
      },
      "source": [
        "logistic_model = sm.formula.logit(formula='Cat3_light ~ SepalLengthCm', data=df)\n",
        "results = logistic_model.fit()"
      ],
      "execution_count": 384,
      "outputs": [
        {
          "output_type": "stream",
          "text": [
            "Optimization terminated successfully.\n",
            "         Current function value: 0.250573\n",
            "         Iterations 8\n"
          ],
          "name": "stdout"
        }
      ]
    },
    {
      "cell_type": "markdown",
      "metadata": {
        "id": "jwXjV719Zxbh",
        "colab_type": "text"
      },
      "source": [
        "However, before we print the summary results, we should note that the base `summary` method in Statsmodels logistic regression provides us with a little less information. It has a counterpart `summary2` that, while technically experimental, is stable and provides a bit more info.\n",
        "\n",
        "We'll print both below and then do our interpretation off of the `summary2` method due to its extra info."
      ]
    },
    {
      "cell_type": "code",
      "metadata": {
        "id": "re0Dk9kFolQz",
        "colab_type": "code",
        "outputId": "19012e0f-fc54-4f8e-a4bb-9d28ef60fc9a",
        "colab": {
          "base_uri": "https://localhost:8080/",
          "height": 272
        }
      },
      "source": [
        "print(results.summary())"
      ],
      "execution_count": 385,
      "outputs": [
        {
          "output_type": "stream",
          "text": [
            "                           Logit Regression Results                           \n",
            "==============================================================================\n",
            "Dep. Variable:             Cat3_light   No. Observations:                  150\n",
            "Model:                          Logit   Df Residuals:                      148\n",
            "Method:                           MLE   Df Model:                            1\n",
            "Date:                Wed, 09 Oct 2019   Pseudo R-squ.:                  0.6305\n",
            "Time:                        14:03:21   Log-Likelihood:                -37.586\n",
            "converged:                       True   LL-Null:                       -101.71\n",
            "Covariance Type:            nonrobust   LLR p-value:                 9.932e-30\n",
            "=================================================================================\n",
            "                    coef    std err          z      P>|z|      [0.025      0.975]\n",
            "---------------------------------------------------------------------------------\n",
            "Intercept       -28.2871      4.854     -5.827      0.000     -37.801     -18.773\n",
            "SepalLengthCm     5.0653      0.866      5.849      0.000       3.368       6.763\n",
            "=================================================================================\n"
          ],
          "name": "stdout"
        }
      ]
    },
    {
      "cell_type": "code",
      "metadata": {
        "id": "Bh1PpIJAoqCg",
        "colab_type": "code",
        "outputId": "50cbcf76-239d-4f01-9f0a-e34876cfe8b1",
        "colab": {
          "base_uri": "https://localhost:8080/",
          "height": 306
        }
      },
      "source": [
        "print(results.summary2())"
      ],
      "execution_count": 386,
      "outputs": [
        {
          "output_type": "stream",
          "text": [
            "                         Results: Logit\n",
            "=================================================================\n",
            "Model:              Logit            Pseudo R-squared: 0.630     \n",
            "Dependent Variable: Cat3_light       AIC:              79.1718   \n",
            "Date:               2019-10-09 14:03 BIC:              85.1931   \n",
            "No. Observations:   150              Log-Likelihood:   -37.586   \n",
            "Df Model:           1                LL-Null:          -101.71   \n",
            "Df Residuals:       148              LLR p-value:      9.9317e-30\n",
            "Converged:          1.0000           Scale:            1.0000    \n",
            "No. Iterations:     8.0000                                       \n",
            "-----------------------------------------------------------------\n",
            "                Coef.   Std.Err.    z    P>|z|   [0.025   0.975] \n",
            "-----------------------------------------------------------------\n",
            "Intercept      -28.2871   4.8544 -5.8271 0.0000 -37.8015 -18.7727\n",
            "SepalLengthCm    5.0653   0.8660  5.8492 0.0000   3.3680   6.7626\n",
            "=================================================================\n",
            "\n"
          ],
          "name": "stdout"
        }
      ]
    },
    {
      "cell_type": "markdown",
      "metadata": {
        "id": "cy4uaEpnaHQK",
        "colab_type": "text"
      },
      "source": [
        "Looking at the results, we can see that we get information much similar to that of ordinary linear regression. Let's break the interpration down into the differences compared to that of linear regression:\n",
        "* **Interpretting coefficients** - As noted earlier, the summarized results are from the logit (i.e. the linear) version of our model, and any variable coefficient represents the log-odds, which makes the intercept and variable coefficients slightly hard to interpret. The sign of a coefficient for a given variable however is helpful in reading whether it increases (+) or decreases (-) the odds of finding our target. For further interpretation of the coefficients, we can exponentiate them, which we'll do below.\n",
        "* **z and P>|Z| (Wald's Test)** - These are analagous to the t-test values for each coefficient in a linear regression, except that in the case of logistic regression, Wald's Test is instead performed. Wald's test here then calculates a z-statistic, but it is also based on the null hypothesis that the tested coefficient is 0 (and such is insignificant to the model). Low p-values then reject the null and suggest signifiance to the model (which we see here, as expected).\n",
        "* **Pseudo R-squared** - This is as it sounds. Since residuals work in a different way for logistic regression, this is an attempted similar calculation to estimate the proportion of variance explained by the model.\n",
        "* **LL... items** - These items relate to the \"Likelihood ratio\" test which is analogous to, and here replaces, the F-test. As with the overall F-test, this tests against the null hypothesis that all variable coefficients are 0 (there is no significant variable in our model). Again, low p-values indicated that at least one variable in the model is statistically significant.\n",
        "\n",
        "As noted, further interpretation of the coefficients requires exponentiating them, so we'll do that below."
      ]
    },
    {
      "cell_type": "code",
      "metadata": {
        "id": "yy1au2AgbmU8",
        "colab_type": "code",
        "outputId": "3d117c15-9dc3-4601-e68b-b6e54272371b",
        "colab": {
          "base_uri": "https://localhost:8080/",
          "height": 68
        }
      },
      "source": [
        "# Exponentiating the coefficients in our model\n",
        "np.exp(results.params)"
      ],
      "execution_count": 387,
      "outputs": [
        {
          "output_type": "execute_result",
          "data": {
            "text/plain": [
              "Intercept        5.189016e-13\n",
              "SepalLengthCm    1.584265e+02\n",
              "dtype: float64"
            ]
          },
          "metadata": {
            "tags": []
          },
          "execution_count": 387
        }
      ]
    },
    {
      "cell_type": "markdown",
      "metadata": {
        "id": "5Om2RL1Nd6xU",
        "colab_type": "text"
      },
      "source": [
        "Once exponentiated, we can now make the following interpretations: A) The intercept represents the value at which our function crosses the y-axis when x = 0. B) The variables coefficient represents the odds ratio (the ratio of the target occuring vs not). This affects the change in steepness of our \"S\" shape function. It also represents how many more times the target is likely to occur a unit increase in the given predictor variable.\n",
        "\n",
        "One should note that we would also exponeniate the confidence interval values to get the corresponding confidence intervals outside of the log-odds form.\n",
        "\n",
        "Just like linear regression, we should also be interested in plotting our function to test its validity. The `fittedvalues` attribute of our results however gives us the linear function results, so to get the sigmoidal prediction, we need to use the `predict` method to predict them directly.\n",
        "\n",
        "We'll grab both below for comparison."
      ]
    },
    {
      "cell_type": "code",
      "metadata": {
        "id": "Yk5AHSC7O-qZ",
        "colab_type": "code",
        "colab": {}
      },
      "source": [
        "# Grabbing the sigmoidal predicted and linear predicted values for our model\n",
        "predicted_vals = results.predict(df.SepalLengthCm)\n",
        "predicted_linear_vals = results.fittedvalues"
      ],
      "execution_count": 0,
      "outputs": []
    },
    {
      "cell_type": "markdown",
      "metadata": {
        "id": "zFnflj--fxgT",
        "colab_type": "text"
      },
      "source": [
        "We can then plot an overlay of the 1's and 0's (representing \"light\" and \"dark\") with our model. We'll also overlay the linear function created for contrast."
      ]
    },
    {
      "cell_type": "code",
      "metadata": {
        "id": "m7FietJeRA2i",
        "colab_type": "code",
        "outputId": "abe93e8f-79da-4a30-81ee-244fe2f125e0",
        "colab": {
          "base_uri": "https://localhost:8080/",
          "height": 345
        }
      },
      "source": [
        "# Visualizing our model\n",
        "fig, ax = plt.subplots(figsize=(7, 5))\n",
        "sns.scatterplot(x=\"SepalLengthCm\", y=\"Cat3_light\", data=df, ax=ax)\n",
        "sns.lineplot(x=df.SepalLengthCm, y=predicted_linear_vals, ax=ax)\n",
        "sns.lineplot(x=df.SepalLengthCm, y=predicted_vals, ax=ax)\n",
        "plt.ylim(-0.1,1.1)\n",
        "plt.show()"
      ],
      "execution_count": 389,
      "outputs": [
        {
          "output_type": "display_data",
          "data": {
            "image/png": "[encoded data removed]",
            "text/plain": [
              "<Figure size 504x360 with 1 Axes>"
            ]
          },
          "metadata": {
            "tags": []
          }
        }
      ]
    },
    {
      "cell_type": "markdown",
      "metadata": {
        "id": "bSgDXj5Xf_iS",
        "colab_type": "text"
      },
      "source": [
        "As we can see, the model demonstrates the \"horizontal S\" bounded between 0 and 1. With increasing sepal length, the probability that the response variable is 1 (it's value is \"light\") increases, approaching 1.\n",
        "\n",
        "We can also see that the linear model would not be useful to evaluate directly as it would, under the same interpretation, produced negative probabilities. We plot it here only for contrast.\n",
        "\n",
        "The points not well contained by our model are due to the random noise added in the data creation step. Overall, the model appears useful for predicting our target."
      ]
    },
    {
      "cell_type": "markdown",
      "metadata": {
        "id": "v2B9vfbrgucI",
        "colab_type": "text"
      },
      "source": [
        "### Logistic Diagnostics <a name=\"logistic_diagnostics\"></a>\n",
        "\n",
        "Residuals and their significance are slightly different in logistic regression and don't provide information in the same manner. Furthermore, as logistic regression functions as a classification method, it may be easier to evaluate it upon its predictive power (similar to machine learning models) rather than traditional statistical techniques. We will demonstrate some common diagnostics below.\n",
        "\n",
        "#### Significance of Multiple Parameters <a name=\"log_mult_variables\"></a>\n",
        "\n",
        "Just like in multiple linear regression, we can use statistical tests to calculate the significance of the parameters in our model (that their coefficients equal 0):\n",
        "* **Overall likelihood ratio test** - This is analogous to and replaces the overall F-test in multiple linear regression, testing against the null hypothesis that none of the parameters are significant. We have discusses this above as it is printed in the summary results.\n",
        "* **General likelihood ratio test** - This tests the null hypothesis that a given subset of our predictor variables is 0. That is, it tests the null hypothesis that there is no significant difference between the model with and without that variable subset dropped. A high p-value would mean we have evidence supporting to drop that subset of variables. This is analgous to the \"general linear F-test\" in multiple linear regression, and in R can be computed using an ANOVA table the the test set as Chi-squared (this makes it equivalent to the likelihood ratio test). See the multiple linear regression example previously for demonstration as, unfortunately, Python does not currently have an easy implementation of this.\n",
        "* **Individual significance tests** - In logistic regression this is Wald's Test which is analgous to and replaces the t-tests of multiple linear regression. This has been discussed earlier these are printed in the regression summary."
      ]
    },
    {
      "cell_type": "markdown",
      "metadata": {
        "id": "oFaiZOEAhhqq",
        "colab_type": "text"
      },
      "source": [
        "#### Linearity in the Logit Assumption <a name=\"log_linearity_LOESS\"></a>\n",
        "\n",
        "One testable assumption of logistic regression is the linearity of the function in the logit transformation. One way to test this is by the **LOESS** method (\"locally estimated scatterplot smoothing\"). This estimates the trend of the data by predicing each data point from the points nearby.\n",
        "\n",
        "A logit scaling of the LOESS from a model that meets this assumption then is roughly linear. When plotted against the predictor variable, we can look for areas that lose the general trend to get a sense for which values of the predictor variable the model is \"weak\" against.\n",
        "\n",
        "Python unfortunately does not have (to my knowledge) a LOESS implementation, but Statsmodels does have a LOWESS (\"locally weighted scatterplot smoothing\") implementation (`lowess`) which produces similar results (but can only work on one predictor variable). We have imported that directly. Scipy also has a convenient `logit` function which we have imported directly.\n",
        "\n",
        "First let's run LOWESS on our model's predicted values against the predictor variable. This will return the LOWESS values and a sorted array of our predictor variable to match."
      ]
    },
    {
      "cell_type": "code",
      "metadata": {
        "id": "Ddzq5tus6IMN",
        "colab_type": "code",
        "colab": {}
      },
      "source": [
        "# Running LOWESS on our model and capturing the predictor and response\n",
        "X, Y = lowess(predicted_vals, df.SepalLengthCm).T # We transpose the LOWESS output to store the arrays in X, Y format"
      ],
      "execution_count": 0,
      "outputs": []
    },
    {
      "cell_type": "markdown",
      "metadata": {
        "id": "_iz-6c0ZmdOE",
        "colab_type": "text"
      },
      "source": [
        "Then we can plot the logit version of the LOWESS values on the y-axis against our predictor variable."
      ]
    },
    {
      "cell_type": "code",
      "metadata": {
        "id": "-SAph2DU7yJo",
        "colab_type": "code",
        "outputId": "ed92c736-302d-4641-cbdf-91b357aaeb24",
        "colab": {
          "base_uri": "https://localhost:8080/",
          "height": 291
        }
      },
      "source": [
        "# Visualizing our LOWESS results\n",
        "sns.lineplot(x=X, y=logit(Y))\n",
        "plt.xlabel(\"Sepal Length (Cm)\")\n",
        "plt.ylabel(\"logit(LOWESS)\")\n",
        "plt.show()"
      ],
      "execution_count": 391,
      "outputs": [
        {
          "output_type": "display_data",
          "data": {
            "image/png": "[encoded data removed]",
            "text/plain": [
              "<Figure size 432x288 with 1 Axes>"
            ]
          },
          "metadata": {
            "tags": []
          }
        }
      ]
    },
    {
      "cell_type": "markdown",
      "metadata": {
        "id": "cmLyuBQTmm9P",
        "colab_type": "text"
      },
      "source": [
        "We can see that the data trend is roughly linear, though it warps at high and low values of the predictor variable. This may be due to having less data for such values. Overall the assumption is generally satisfied."
      ]
    },
    {
      "cell_type": "markdown",
      "metadata": {
        "id": "4v2Wl1Yym-8v",
        "colab_type": "text"
      },
      "source": [
        "#### Goodness of Fit (Hosmer-Lemeshow) <a name=\"log_goodness_of_fit\"></a>\n",
        "\n",
        "One may also compute a statistical test on the \"goodness of fit\" of the model where the null hypothesis is that the model fits the data (the alternative is that it doesn't). One such test, is the **Hosmer-Lemeshow** test. However, there are reasons to be skeptical of the results of this test, and there is no current Python implementation in Scipy or Statsmodels (though there is in R), so we'll avoid further discussion here."
      ]
    },
    {
      "cell_type": "markdown",
      "metadata": {
        "id": "hXwpJBlMpCOM",
        "colab_type": "text"
      },
      "source": [
        "#### Confusion Matrices <a name=\"log_confusion_matrices\"></a>\n",
        "\n",
        "Another way to evaluate the model is to treat it like one would a machine learning classifer and print a **confusion matrix** which is a matrix of the false and true positive and negatives on the target.\n",
        "\n",
        "Scikitlearn has a handy function for this, but we can actually call a similar version directly from Statsmodels using the `pred_table` method on our results. This calculates the confusion matrix at a given threshold of prediection.\n",
        "\n",
        "For instance, a threshold of 0.5 means if our model's sigmoid function returned a value of 0.5 or higher, we consider our model to have classified it as a positive regarding our target. We'll call this below, arbitrarily deciding our threshold should be 0.5."
      ]
    },
    {
      "cell_type": "code",
      "metadata": {
        "id": "16bJnTndmmK2",
        "colab_type": "code",
        "outputId": "8273468b-db07-457f-a783-9f1ba62abb30",
        "colab": {
          "base_uri": "https://localhost:8080/",
          "height": 51
        }
      },
      "source": [
        "# Confusion matrix directly from Statsmodels logistic results\n",
        "results.pred_table(threshold=0.5)"
      ],
      "execution_count": 392,
      "outputs": [
        {
          "output_type": "execute_result",
          "data": {
            "text/plain": [
              "array([[57.,  5.],\n",
              "       [ 2., 86.]])"
            ]
          },
          "metadata": {
            "tags": []
          },
          "execution_count": 392
        }
      ]
    },
    {
      "cell_type": "markdown",
      "metadata": {
        "id": "AnJJUvHe3KKg",
        "colab_type": "text"
      },
      "source": [
        "The Statsmodels implementation returns the first of the possible classifications in the first column, so here that is \"0\" or negative (this may be different from the order of Scitkitlearn's and other confusion matrix implementations).\n",
        "\n",
        "In either case, the \"correct\" predictions are on the diagonal, and here, our matrix reads as (first row) True Negative, False Positive, (second row) False Negative, True Positive. Overall, most of our predictions are on the diagonal, so our model has performed well."
      ]
    },
    {
      "cell_type": "markdown",
      "metadata": {
        "id": "A45RQ5AgAxGD",
        "colab_type": "text"
      },
      "source": [
        "#### ROC, AUC, and Cut Points <a name=\"log_roc_auc_cut\"><a/>\n",
        "\n",
        "When evaluating our model as a classification tool, we can borrow some methodologies often used in machine learning. Particarly we can evaluate the rates from our confusion matrix programmatically.\n",
        "\n",
        "One way to do this is to plot an **ROC (\"Receiver Operating Characteristic\")** curve and then evaluate the **AUC (area under the [ROC] curve)**. The ROC curve can also help us in determining where to set a cut point (our threshold from earlier) in what value to use to classify our data from our model.\n",
        "\n",
        "The ROC curve is a plot of the true positive rate against the false positive rate when classifying our model using all possible cut-points. Each cut-point (threshold value) for classification will have its own true positive and false positive rates, thus spitting out an array of pairs that can be plotted.\n",
        "\n",
        "Scikitlearn has a handy function `roc_curve` to calculate the arrays of each rate as well as the matched threshold values for use. We feed the function the true values and the predicted probabilities of our model to utilize it.\n",
        "\n"
      ]
    },
    {
      "cell_type": "code",
      "metadata": {
        "id": "wemwBQfpA1qR",
        "colab_type": "code",
        "colab": {}
      },
      "source": [
        "# Calculating the values needed for an ROC curve\n",
        "false_pos_rate, true_pos_rate, thresholds = roc_curve(df.Cat3_light, predicted_vals)"
      ],
      "execution_count": 0,
      "outputs": []
    },
    {
      "cell_type": "markdown",
      "metadata": {
        "id": "A-iaj_vzulAU",
        "colab_type": "text"
      },
      "source": [
        "With these calculated, we can then plot our ROC curve with the true positive rate on the y axis."
      ]
    },
    {
      "cell_type": "code",
      "metadata": {
        "id": "EFhoulM1BRB3",
        "colab_type": "code",
        "outputId": "8b881d0e-4b48-44a5-d89f-4d6e436f225a",
        "colab": {
          "base_uri": "https://localhost:8080/",
          "height": 291
        }
      },
      "source": [
        "# Visualizing our ROC Curve\n",
        "sns.lineplot(y=true_pos_rate, x=false_pos_rate)\n",
        "plt.xlabel(\"False positive rate\")\n",
        "plt.ylabel(\"True positive rate\")\n",
        "plt.show()"
      ],
      "execution_count": 394,
      "outputs": [
        {
          "output_type": "display_data",
          "data": {
            "image/png": "[encoded data removed]",
            "text/plain": [
              "<Figure size 432x288 with 1 Axes>"
            ]
          },
          "metadata": {
            "tags": []
          }
        }
      ]
    },
    {
      "cell_type": "markdown",
      "metadata": {
        "id": "G8bNPaD4CDZ1",
        "colab_type": "text"
      },
      "source": [
        "We want our ROC curve to be positive and away from the y=x/diagonal line as possible (that is, far up and to the left). This would indicate that the ratio is in favor of true positives.\n",
        "\n",
        "A way to judge this programmatically is to take the area under the ROC curve, which is commonly referred to as the AUC Score. Accordingly, we also want this to be high.\n",
        "\n",
        "Scikitlearn also has an easy method for this which we use below, which takes the same inputs as the ROC curve function."
      ]
    },
    {
      "cell_type": "code",
      "metadata": {
        "id": "1BTeaF2_uV9b",
        "colab_type": "code",
        "outputId": "c759c1c0-3f7a-48e4-d279-921fb1829f52",
        "colab": {
          "base_uri": "https://localhost:8080/",
          "height": 34
        }
      },
      "source": [
        "auc_score = roc_auc_score(df.Cat3_light, predicted_vals)\n",
        "auc_score"
      ],
      "execution_count": 395,
      "outputs": [
        {
          "output_type": "execute_result",
          "data": {
            "text/plain": [
              "0.9612353372434017"
            ]
          },
          "metadata": {
            "tags": []
          },
          "execution_count": 395
        }
      ]
    },
    {
      "cell_type": "markdown",
      "metadata": {
        "id": "buqR37pQvgBx",
        "colab_type": "text"
      },
      "source": [
        "Our AUC score is quite high suggesting good strength in the model. A general rule of thumb for this score is that AUC > 0.7 is OK, AUC > 0.8 is good, and AUC > 0.9 is very very good.\n",
        "\n",
        "We can also utilize the ROC curve results to attempt to programmatically determine a good cut-off/threshold value for our classification. One way to do this is to look at our arrays of true and false positives, find the index that matches the largest difference between the two (where the true positive rate is highest), and then lookup that threshold value in the array provided by the ROC curve function. We do this below."
      ]
    },
    {
      "cell_type": "code",
      "metadata": {
        "id": "YIeEWjLkBm5y",
        "colab_type": "code",
        "outputId": "646e3761-415c-40a8-e79b-9b97ee7990c5",
        "colab": {
          "base_uri": "https://localhost:8080/",
          "height": 34
        }
      },
      "source": [
        "# Find the index with the highest difference in true vs false positive rates\n",
        "optimal_idx = np.argmax(true_pos_rate - false_pos_rate)\n",
        "# And then lookup the corresponding threshold value\n",
        "optimal_threshold = thresholds[optimal_idx]\n",
        "optimal_threshold"
      ],
      "execution_count": 396,
      "outputs": [
        {
          "output_type": "execute_result",
          "data": {
            "text/plain": [
              "0.5196318072513271"
            ]
          },
          "metadata": {
            "tags": []
          },
          "execution_count": 396
        }
      ]
    },
    {
      "cell_type": "markdown",
      "metadata": {
        "id": "uF34kPzGwupQ",
        "colab_type": "text"
      },
      "source": [
        "We can take this back to our confusion matrix technique used earlier to see how it performs."
      ]
    },
    {
      "cell_type": "code",
      "metadata": {
        "id": "qPzDjno6I_7g",
        "colab_type": "code",
        "outputId": "59d6c5e6-1a77-48e3-e778-949654e72fb7",
        "colab": {
          "base_uri": "https://localhost:8080/",
          "height": 51
        }
      },
      "source": [
        "results.pred_table(threshold=optimal_threshold)"
      ],
      "execution_count": 397,
      "outputs": [
        {
          "output_type": "execute_result",
          "data": {
            "text/plain": [
              "array([[58.,  4.],\n",
              "       [ 7., 81.]])"
            ]
          },
          "metadata": {
            "tags": []
          },
          "execution_count": 397
        }
      ]
    },
    {
      "cell_type": "markdown",
      "metadata": {
        "id": "7MWuk_r9w4LM",
        "colab_type": "text"
      },
      "source": [
        "However, this is not always the best means. As we can see a threshold of 0.5 performed better overall."
      ]
    },
    {
      "cell_type": "code",
      "metadata": {
        "id": "2plcOLe8JE6h",
        "colab_type": "code",
        "outputId": "e16505f9-a9ff-4940-9916-a0c926a733f9",
        "colab": {
          "base_uri": "https://localhost:8080/",
          "height": 51
        }
      },
      "source": [
        "results.pred_table(threshold=0.5)"
      ],
      "execution_count": 398,
      "outputs": [
        {
          "output_type": "execute_result",
          "data": {
            "text/plain": [
              "array([[57.,  5.],\n",
              "       [ 2., 86.]])"
            ]
          },
          "metadata": {
            "tags": []
          },
          "execution_count": 398
        }
      ]
    },
    {
      "cell_type": "markdown",
      "metadata": {
        "id": "6YAeLgWLxB5v",
        "colab_type": "text"
      },
      "source": [
        "Ultimately the decision of which cut-off value to use, and how to find that using the ROC curve information, must be determined conditionally. For instance, you might be more concerned in true positives than true negatives and would adjust your calculations accordingly. There are a number of differen \"paradigms\" to calculate the \"optimal\" threshhold under, but as this is situational and lengthy, we'll end discussion here."
      ]
    },
    {
      "cell_type": "code",
      "metadata": {
        "id": "2TmJhu96xcB1",
        "colab_type": "code",
        "colab": {}
      },
      "source": [
        ""
      ],
      "execution_count": 0,
      "outputs": []
    }
  ]
}